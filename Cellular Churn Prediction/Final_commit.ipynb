{
 "cells": [
  {
   "cell_type": "markdown",
   "metadata": {},
   "source": [
    "# Прогноз оттокa клиентов для оператора связи"
   ]
  },
  {
   "attachments": {},
   "cell_type": "markdown",
   "metadata": {},
   "source": [
    "### Описание проекта\n",
    "\n",
    "Нам необходимо **спрогнозировать отток клиентов** для оператора связи.\n",
    "\n",
    "Пользователям которые планирует уйти, будут предложены промокоды и специальные условия. \n",
    "\n",
    "Заказчик предоставил датасеты с персональными данными о некоторых клиентах, информацию об их тарифах и договорах."
   ]
  },
  {
   "cell_type": "markdown",
   "metadata": {},
   "source": [
    "### Описание услуг\n",
    "\n",
    "Оператор предоставляет два основных типа услуг: \n",
    "\n",
    "1. Стационарную телефонную связь. Возможно подключение телефонного аппарата к нескольким линиям одновременно.\n",
    "2. Интернет. Подключение может быть двух типов: через телефонную линию (DSL*,* от англ. *digital subscriber line*, «цифровая абонентская линия») или оптоволоконный кабель (*Fiber optic*).  \n",
    "\n",
    "Также доступны такие услуги:\n",
    "\n",
    "- Интернет-безопасность: антивирус (*DeviceProtection*) и блокировка небезопасных сайтов (*OnlineSecurity*);\n",
    "- Выделенная линия технической поддержки (*TechSupport*);\n",
    "- Облачное хранилище файлов для резервного копирования данных (*OnlineBackup*);\n",
    "- Стриминговое телевидение (*StreamingTV*) и каталог фильмов (*StreamingMovies*).\n",
    "\n",
    "За услуги клиенты могут платить каждый месяц или заключить договор на 1–2 года. Доступны различные способы расчёта и возможность получения электронного чека.\n",
    "\n",
    "### Описание данных\n",
    "\n",
    "Данные состоят из файлов, полученных из разных источников:\n",
    "\n",
    "- `contract.csv` — информация о договоре;\n",
    "- `personal.csv` — персональные данные клиента;\n",
    "- `internet.csv` — информация об интернет-услугах;\n",
    "- `phone.csv` — информация об услугах телефонии.\n",
    "\n",
    "Во всех файлах столбец `customerID` содержит код клиента.\n",
    "\n",
    "Информация о договорах актуальна на 1 февраля 2020."
   ]
  },
  {
   "cell_type": "markdown",
   "metadata": {},
   "source": [
    "Описание исходных признаков данных:\n",
    "* **BeginDate** - дата начала пользования услугами,\n",
    "* **EndDate** - дата окончания пользования услугами,\n",
    "* **Туре** - тип оплаты: ежемесячный, годовой и тд,\n",
    "* **PaperlessBilling** - электронный платёжный документ,\n",
    "* **PaymentMethod** - способ оплаты,\n",
    "* **MonthlyCharges** - ежемесячные траты на услуги,\n",
    "* **TotalCharges** - всего потрачено денег на услуги\n",
    "* **Dependents** - наличие иждивенцев\n",
    "* **Senior Citizen** - наличие пенсионного статуса по возрасту\n",
    "* **Partner** - наличие супруга(и)\n",
    "* **MultipleLines** - наличие возможности ведения параллельных линий во время звонка"
   ]
  },
  {
   "cell_type": "markdown",
   "metadata": {},
   "source": [
    "### План работ\n",
    "\n",
    "1. Подготовка данных\n",
    "    * 1.1. Откроем файлы и изучим их.\n",
    "    * 1.2. Проверим типы данных, есть ли пропуски, надо ли преобразовывать данные\n",
    "    * 1.3. Проанализируем признаки на предмет значимости\n",
    "    * 1.4. Определим целевой признак\n",
    "    * 1.5. Выводы\n",
    "2. Исследовательский анализ данных\n",
    "    * 2.1. Построим гистограммы и оценим распределение числовых признаков\n",
    "    * 2.2. Построим графики и проверим наличие выбросов\n",
    "    * 2.3. Выводы\n",
    "3. Построение моделей \n",
    "    * 3.1. Подготовим выборки \n",
    "    * 3.2. Выберем несколько моделей и подготовим пайпалайн \n",
    "    * 3.3. Обучим разные модели и оценим их качество кросс-валидацией. \n",
    "    * 3.4. Выберем лучшую модель и проверим её на тестовой выборке.\n",
    "    * 3.5. Выводы\n",
    "4. Итоговы выводы по проекту\n",
    "\n"
   ]
  },
  {
   "cell_type": "markdown",
   "metadata": {},
   "source": [
    "### 1. Подготовка данных"
   ]
  },
  {
   "cell_type": "code",
   "execution_count": 1,
   "metadata": {},
   "outputs": [],
   "source": [
    "import pandas as pd\n",
    "import numpy as np \n",
    "\n",
    "import os\n",
    "from types import SimpleNamespace\n",
    "\n",
    "import matplotlib.pyplot as plt\n",
    "\n",
    "from sklearn.compose import ColumnTransformer\n",
    "from sklearn.pipeline import Pipeline\n",
    "from numpy.random import RandomState\n",
    "\n",
    "from sklearn.model_selection import (GridSearchCV,\n",
    "                                     KFold,\n",
    "                                     train_test_split)\n",
    "\n",
    "from sklearn.preprocessing import (StandardScaler,\n",
    "                                   OrdinalEncoder,\n",
    "                                   OneHotEncoder)\n",
    "\n",
    "\n",
    "from catboost import CatBoostClassifier, Pool\n",
    "from sklearn.ensemble import RandomForestClassifier\n",
    "from sklearn.linear_model import LogisticRegression\n",
    "\n",
    "from sklearn.metrics import roc_auc_score, roc_curve, accuracy_score\n",
    "\n",
    "from sklearn.metrics import confusion_matrix\n",
    "from sklearn.metrics import plot_confusion_matrix\n",
    "from sklearn.metrics import classification_report\n"
   ]
  },
  {
   "cell_type": "code",
   "execution_count": 2,
   "metadata": {},
   "outputs": [],
   "source": [
    "#объявим константы\n",
    "#зафиксируме рандом стейт\n",
    "RANDOM_STATE = 270223\n",
    "\n",
    "#пропишем путь к исходным файлам\n",
    "DATA_FOLDER_YANDEX = '/datasets/final_provider'\n",
    "DATA_FOLDER_LOCAL = 'final_provider'"
   ]
  },
  {
   "cell_type": "code",
   "execution_count": 3,
   "metadata": {},
   "outputs": [
    {
     "data": {
      "text/html": [
       "<div>\n",
       "<style scoped>\n",
       "    .dataframe tbody tr th:only-of-type {\n",
       "        vertical-align: middle;\n",
       "    }\n",
       "\n",
       "    .dataframe tbody tr th {\n",
       "        vertical-align: top;\n",
       "    }\n",
       "\n",
       "    .dataframe thead th {\n",
       "        text-align: right;\n",
       "    }\n",
       "</style>\n",
       "<table border=\"1\" class=\"dataframe\">\n",
       "  <thead>\n",
       "    <tr style=\"text-align: right;\">\n",
       "      <th></th>\n",
       "      <th>customerID</th>\n",
       "      <th>BeginDate</th>\n",
       "      <th>EndDate</th>\n",
       "      <th>Type</th>\n",
       "      <th>PaperlessBilling</th>\n",
       "      <th>PaymentMethod</th>\n",
       "      <th>MonthlyCharges</th>\n",
       "      <th>TotalCharges</th>\n",
       "    </tr>\n",
       "  </thead>\n",
       "  <tbody>\n",
       "    <tr>\n",
       "      <th>2716</th>\n",
       "      <td>7883-ROJOC</td>\n",
       "      <td>2018-07-01</td>\n",
       "      <td>No</td>\n",
       "      <td>Month-to-month</td>\n",
       "      <td>No</td>\n",
       "      <td>Mailed check</td>\n",
       "      <td>44.90</td>\n",
       "      <td>839.65</td>\n",
       "    </tr>\n",
       "    <tr>\n",
       "      <th>2461</th>\n",
       "      <td>7706-YLMQA</td>\n",
       "      <td>2014-04-01</td>\n",
       "      <td>No</td>\n",
       "      <td>One year</td>\n",
       "      <td>No</td>\n",
       "      <td>Bank transfer (automatic)</td>\n",
       "      <td>19.70</td>\n",
       "      <td>1341.5</td>\n",
       "    </tr>\n",
       "    <tr>\n",
       "      <th>6539</th>\n",
       "      <td>5949-HGVJL</td>\n",
       "      <td>2017-12-01</td>\n",
       "      <td>No</td>\n",
       "      <td>Month-to-month</td>\n",
       "      <td>Yes</td>\n",
       "      <td>Electronic check</td>\n",
       "      <td>73.05</td>\n",
       "      <td>1959.5</td>\n",
       "    </tr>\n",
       "    <tr>\n",
       "      <th>597</th>\n",
       "      <td>5172-MIGPM</td>\n",
       "      <td>2019-10-01</td>\n",
       "      <td>No</td>\n",
       "      <td>Month-to-month</td>\n",
       "      <td>No</td>\n",
       "      <td>Mailed check</td>\n",
       "      <td>65.55</td>\n",
       "      <td>237.2</td>\n",
       "    </tr>\n",
       "    <tr>\n",
       "      <th>5613</th>\n",
       "      <td>3913-FCUUW</td>\n",
       "      <td>2014-02-01</td>\n",
       "      <td>No</td>\n",
       "      <td>Two year</td>\n",
       "      <td>Yes</td>\n",
       "      <td>Bank transfer (automatic)</td>\n",
       "      <td>70.45</td>\n",
       "      <td>5165.7</td>\n",
       "    </tr>\n",
       "  </tbody>\n",
       "</table>\n",
       "</div>"
      ],
      "text/plain": [
       "      customerID   BeginDate EndDate            Type PaperlessBilling  \\\n",
       "2716  7883-ROJOC  2018-07-01      No  Month-to-month               No   \n",
       "2461  7706-YLMQA  2014-04-01      No        One year               No   \n",
       "6539  5949-HGVJL  2017-12-01      No  Month-to-month              Yes   \n",
       "597   5172-MIGPM  2019-10-01      No  Month-to-month               No   \n",
       "5613  3913-FCUUW  2014-02-01      No        Two year              Yes   \n",
       "\n",
       "                  PaymentMethod  MonthlyCharges TotalCharges  \n",
       "2716               Mailed check           44.90       839.65  \n",
       "2461  Bank transfer (automatic)           19.70       1341.5  \n",
       "6539           Electronic check           73.05       1959.5  \n",
       "597                Mailed check           65.55        237.2  \n",
       "5613  Bank transfer (automatic)           70.45       5165.7  "
      ]
     },
     "metadata": {},
     "output_type": "display_data"
    },
    {
     "data": {
      "text/html": [
       "<div>\n",
       "<style scoped>\n",
       "    .dataframe tbody tr th:only-of-type {\n",
       "        vertical-align: middle;\n",
       "    }\n",
       "\n",
       "    .dataframe tbody tr th {\n",
       "        vertical-align: top;\n",
       "    }\n",
       "\n",
       "    .dataframe thead th {\n",
       "        text-align: right;\n",
       "    }\n",
       "</style>\n",
       "<table border=\"1\" class=\"dataframe\">\n",
       "  <thead>\n",
       "    <tr style=\"text-align: right;\">\n",
       "      <th></th>\n",
       "      <th>customerID</th>\n",
       "      <th>InternetService</th>\n",
       "      <th>OnlineSecurity</th>\n",
       "      <th>OnlineBackup</th>\n",
       "      <th>DeviceProtection</th>\n",
       "      <th>TechSupport</th>\n",
       "      <th>StreamingTV</th>\n",
       "      <th>StreamingMovies</th>\n",
       "    </tr>\n",
       "  </thead>\n",
       "  <tbody>\n",
       "    <tr>\n",
       "      <th>3049</th>\n",
       "      <td>8015-IHCGW</td>\n",
       "      <td>Fiber optic</td>\n",
       "      <td>Yes</td>\n",
       "      <td>Yes</td>\n",
       "      <td>Yes</td>\n",
       "      <td>Yes</td>\n",
       "      <td>Yes</td>\n",
       "      <td>Yes</td>\n",
       "    </tr>\n",
       "    <tr>\n",
       "      <th>5233</th>\n",
       "      <td>8080-POTJR</td>\n",
       "      <td>DSL</td>\n",
       "      <td>Yes</td>\n",
       "      <td>No</td>\n",
       "      <td>Yes</td>\n",
       "      <td>No</td>\n",
       "      <td>Yes</td>\n",
       "      <td>Yes</td>\n",
       "    </tr>\n",
       "    <tr>\n",
       "      <th>4148</th>\n",
       "      <td>6078-VESFR</td>\n",
       "      <td>Fiber optic</td>\n",
       "      <td>No</td>\n",
       "      <td>No</td>\n",
       "      <td>No</td>\n",
       "      <td>No</td>\n",
       "      <td>No</td>\n",
       "      <td>No</td>\n",
       "    </tr>\n",
       "    <tr>\n",
       "      <th>3813</th>\n",
       "      <td>5304-EFJLP</td>\n",
       "      <td>Fiber optic</td>\n",
       "      <td>No</td>\n",
       "      <td>Yes</td>\n",
       "      <td>Yes</td>\n",
       "      <td>Yes</td>\n",
       "      <td>Yes</td>\n",
       "      <td>Yes</td>\n",
       "    </tr>\n",
       "    <tr>\n",
       "      <th>2868</th>\n",
       "      <td>7826-VVKWT</td>\n",
       "      <td>Fiber optic</td>\n",
       "      <td>No</td>\n",
       "      <td>No</td>\n",
       "      <td>Yes</td>\n",
       "      <td>No</td>\n",
       "      <td>Yes</td>\n",
       "      <td>Yes</td>\n",
       "    </tr>\n",
       "  </tbody>\n",
       "</table>\n",
       "</div>"
      ],
      "text/plain": [
       "      customerID InternetService OnlineSecurity OnlineBackup DeviceProtection  \\\n",
       "3049  8015-IHCGW     Fiber optic            Yes          Yes              Yes   \n",
       "5233  8080-POTJR             DSL            Yes           No              Yes   \n",
       "4148  6078-VESFR     Fiber optic             No           No               No   \n",
       "3813  5304-EFJLP     Fiber optic             No          Yes              Yes   \n",
       "2868  7826-VVKWT     Fiber optic             No           No              Yes   \n",
       "\n",
       "     TechSupport StreamingTV StreamingMovies  \n",
       "3049         Yes         Yes             Yes  \n",
       "5233          No         Yes             Yes  \n",
       "4148          No          No              No  \n",
       "3813         Yes         Yes             Yes  \n",
       "2868          No         Yes             Yes  "
      ]
     },
     "metadata": {},
     "output_type": "display_data"
    },
    {
     "data": {
      "text/html": [
       "<div>\n",
       "<style scoped>\n",
       "    .dataframe tbody tr th:only-of-type {\n",
       "        vertical-align: middle;\n",
       "    }\n",
       "\n",
       "    .dataframe tbody tr th {\n",
       "        vertical-align: top;\n",
       "    }\n",
       "\n",
       "    .dataframe thead th {\n",
       "        text-align: right;\n",
       "    }\n",
       "</style>\n",
       "<table border=\"1\" class=\"dataframe\">\n",
       "  <thead>\n",
       "    <tr style=\"text-align: right;\">\n",
       "      <th></th>\n",
       "      <th>customerID</th>\n",
       "      <th>gender</th>\n",
       "      <th>SeniorCitizen</th>\n",
       "      <th>Partner</th>\n",
       "      <th>Dependents</th>\n",
       "    </tr>\n",
       "  </thead>\n",
       "  <tbody>\n",
       "    <tr>\n",
       "      <th>2182</th>\n",
       "      <td>2530-FMFXO</td>\n",
       "      <td>Male</td>\n",
       "      <td>0</td>\n",
       "      <td>Yes</td>\n",
       "      <td>Yes</td>\n",
       "    </tr>\n",
       "    <tr>\n",
       "      <th>3259</th>\n",
       "      <td>9620-ENEJV</td>\n",
       "      <td>Female</td>\n",
       "      <td>0</td>\n",
       "      <td>No</td>\n",
       "      <td>No</td>\n",
       "    </tr>\n",
       "    <tr>\n",
       "      <th>2156</th>\n",
       "      <td>2737-YNGYW</td>\n",
       "      <td>Female</td>\n",
       "      <td>0</td>\n",
       "      <td>No</td>\n",
       "      <td>No</td>\n",
       "    </tr>\n",
       "    <tr>\n",
       "      <th>3894</th>\n",
       "      <td>5989-AXPUC</td>\n",
       "      <td>Female</td>\n",
       "      <td>0</td>\n",
       "      <td>Yes</td>\n",
       "      <td>No</td>\n",
       "    </tr>\n",
       "    <tr>\n",
       "      <th>6579</th>\n",
       "      <td>3938-YFPXD</td>\n",
       "      <td>Male</td>\n",
       "      <td>0</td>\n",
       "      <td>No</td>\n",
       "      <td>No</td>\n",
       "    </tr>\n",
       "  </tbody>\n",
       "</table>\n",
       "</div>"
      ],
      "text/plain": [
       "      customerID  gender  SeniorCitizen Partner Dependents\n",
       "2182  2530-FMFXO    Male              0     Yes        Yes\n",
       "3259  9620-ENEJV  Female              0      No         No\n",
       "2156  2737-YNGYW  Female              0      No         No\n",
       "3894  5989-AXPUC  Female              0     Yes         No\n",
       "6579  3938-YFPXD    Male              0      No         No"
      ]
     },
     "metadata": {},
     "output_type": "display_data"
    },
    {
     "data": {
      "text/html": [
       "<div>\n",
       "<style scoped>\n",
       "    .dataframe tbody tr th:only-of-type {\n",
       "        vertical-align: middle;\n",
       "    }\n",
       "\n",
       "    .dataframe tbody tr th {\n",
       "        vertical-align: top;\n",
       "    }\n",
       "\n",
       "    .dataframe thead th {\n",
       "        text-align: right;\n",
       "    }\n",
       "</style>\n",
       "<table border=\"1\" class=\"dataframe\">\n",
       "  <thead>\n",
       "    <tr style=\"text-align: right;\">\n",
       "      <th></th>\n",
       "      <th>customerID</th>\n",
       "      <th>MultipleLines</th>\n",
       "    </tr>\n",
       "  </thead>\n",
       "  <tbody>\n",
       "    <tr>\n",
       "      <th>5157</th>\n",
       "      <td>4475-NVTLU</td>\n",
       "      <td>No</td>\n",
       "    </tr>\n",
       "    <tr>\n",
       "      <th>2306</th>\n",
       "      <td>0784-ZQJZX</td>\n",
       "      <td>No</td>\n",
       "    </tr>\n",
       "    <tr>\n",
       "      <th>1812</th>\n",
       "      <td>7710-JSYOA</td>\n",
       "      <td>Yes</td>\n",
       "    </tr>\n",
       "    <tr>\n",
       "      <th>165</th>\n",
       "      <td>5524-KHNJP</td>\n",
       "      <td>No</td>\n",
       "    </tr>\n",
       "    <tr>\n",
       "      <th>2677</th>\n",
       "      <td>5312-IRCFR</td>\n",
       "      <td>Yes</td>\n",
       "    </tr>\n",
       "  </tbody>\n",
       "</table>\n",
       "</div>"
      ],
      "text/plain": [
       "      customerID MultipleLines\n",
       "5157  4475-NVTLU            No\n",
       "2306  0784-ZQJZX            No\n",
       "1812  7710-JSYOA           Yes\n",
       "165   5524-KHNJP            No\n",
       "2677  5312-IRCFR           Yes"
      ]
     },
     "metadata": {},
     "output_type": "display_data"
    }
   ],
   "source": [
    "#загрузим данные и выведем sample\n",
    "data_folder = DATA_FOLDER_YANDEX if os.path.exists (DATA_FOLDER_YANDEX) \\\n",
    "                                 else DATA_FOLDER_LOCAL\n",
    "\n",
    "data = SimpleNamespace()\n",
    "for file_name in os.listdir(data_folder):\n",
    "    if os.path.isfile(os.path.join(data_folder, file_name)):\n",
    "        setattr(data, \n",
    "                file_name.split('.')[0],\n",
    "                pd.read_csv(os.path.join(data_folder, file_name))\n",
    "                )\n",
    "\n",
    "data.contract.name = 'contract'\n",
    "data.internet.name = 'internet'\n",
    "data.personal.name = 'personal'\n",
    "data.phone.name = 'phone'\n",
    "\n",
    "\n",
    "#проверка\n",
    "display(data.contract.sample(5))\n",
    "display(data.internet.sample(5))\n",
    "display(data.personal.sample(5))\n",
    "display(data.phone.sample(5))"
   ]
  },
  {
   "cell_type": "code",
   "execution_count": 4,
   "metadata": {},
   "outputs": [],
   "source": [
    "#создадим список исходных данных для работы\n",
    "data.data_names = [data.contract, data.internet, data.personal, data.phone] "
   ]
  },
  {
   "cell_type": "code",
   "execution_count": 5,
   "metadata": {},
   "outputs": [
    {
     "name": "stdout",
     "output_type": "stream",
     "text": [
      "Датасет: contract\n"
     ]
    },
    {
     "data": {
      "text/html": [
       "<div>\n",
       "<style scoped>\n",
       "    .dataframe tbody tr th:only-of-type {\n",
       "        vertical-align: middle;\n",
       "    }\n",
       "\n",
       "    .dataframe tbody tr th {\n",
       "        vertical-align: top;\n",
       "    }\n",
       "\n",
       "    .dataframe thead th {\n",
       "        text-align: right;\n",
       "    }\n",
       "</style>\n",
       "<table border=\"1\" class=\"dataframe\">\n",
       "  <thead>\n",
       "    <tr style=\"text-align: right;\">\n",
       "      <th></th>\n",
       "      <th>customerID</th>\n",
       "      <th>BeginDate</th>\n",
       "      <th>EndDate</th>\n",
       "      <th>Type</th>\n",
       "      <th>PaperlessBilling</th>\n",
       "      <th>PaymentMethod</th>\n",
       "      <th>MonthlyCharges</th>\n",
       "      <th>TotalCharges</th>\n",
       "    </tr>\n",
       "  </thead>\n",
       "  <tbody>\n",
       "    <tr>\n",
       "      <th>5496</th>\n",
       "      <td>2208-NKVVH</td>\n",
       "      <td>2016-07-01</td>\n",
       "      <td>No</td>\n",
       "      <td>Two year</td>\n",
       "      <td>No</td>\n",
       "      <td>Mailed check</td>\n",
       "      <td>24.25</td>\n",
       "      <td>1077.95</td>\n",
       "    </tr>\n",
       "  </tbody>\n",
       "</table>\n",
       "</div>"
      ],
      "text/plain": [
       "      customerID   BeginDate EndDate      Type PaperlessBilling PaymentMethod  \\\n",
       "5496  2208-NKVVH  2016-07-01      No  Two year               No  Mailed check   \n",
       "\n",
       "      MonthlyCharges TotalCharges  \n",
       "5496           24.25      1077.95  "
      ]
     },
     "metadata": {},
     "output_type": "display_data"
    },
    {
     "name": "stdout",
     "output_type": "stream",
     "text": [
      "<class 'pandas.core.frame.DataFrame'>\n",
      "RangeIndex: 7043 entries, 0 to 7042\n",
      "Data columns (total 8 columns):\n",
      " #   Column            Non-Null Count  Dtype  \n",
      "---  ------            --------------  -----  \n",
      " 0   customerID        7043 non-null   object \n",
      " 1   BeginDate         7043 non-null   object \n",
      " 2   EndDate           7043 non-null   object \n",
      " 3   Type              7043 non-null   object \n",
      " 4   PaperlessBilling  7043 non-null   object \n",
      " 5   PaymentMethod     7043 non-null   object \n",
      " 6   MonthlyCharges    7043 non-null   float64\n",
      " 7   TotalCharges      7043 non-null   object \n",
      "dtypes: float64(1), object(7)\n",
      "memory usage: 440.3+ KB\n"
     ]
    },
    {
     "data": {
      "text/plain": [
       "None"
      ]
     },
     "metadata": {},
     "output_type": "display_data"
    },
    {
     "name": "stdout",
     "output_type": "stream",
     "text": [
      "--------------------------------\n",
      "Датасет: internet\n"
     ]
    },
    {
     "data": {
      "text/html": [
       "<div>\n",
       "<style scoped>\n",
       "    .dataframe tbody tr th:only-of-type {\n",
       "        vertical-align: middle;\n",
       "    }\n",
       "\n",
       "    .dataframe tbody tr th {\n",
       "        vertical-align: top;\n",
       "    }\n",
       "\n",
       "    .dataframe thead th {\n",
       "        text-align: right;\n",
       "    }\n",
       "</style>\n",
       "<table border=\"1\" class=\"dataframe\">\n",
       "  <thead>\n",
       "    <tr style=\"text-align: right;\">\n",
       "      <th></th>\n",
       "      <th>customerID</th>\n",
       "      <th>InternetService</th>\n",
       "      <th>OnlineSecurity</th>\n",
       "      <th>OnlineBackup</th>\n",
       "      <th>DeviceProtection</th>\n",
       "      <th>TechSupport</th>\n",
       "      <th>StreamingTV</th>\n",
       "      <th>StreamingMovies</th>\n",
       "    </tr>\n",
       "  </thead>\n",
       "  <tbody>\n",
       "    <tr>\n",
       "      <th>3473</th>\n",
       "      <td>6161-UUUTA</td>\n",
       "      <td>Fiber optic</td>\n",
       "      <td>No</td>\n",
       "      <td>No</td>\n",
       "      <td>No</td>\n",
       "      <td>No</td>\n",
       "      <td>Yes</td>\n",
       "      <td>No</td>\n",
       "    </tr>\n",
       "  </tbody>\n",
       "</table>\n",
       "</div>"
      ],
      "text/plain": [
       "      customerID InternetService OnlineSecurity OnlineBackup DeviceProtection  \\\n",
       "3473  6161-UUUTA     Fiber optic             No           No               No   \n",
       "\n",
       "     TechSupport StreamingTV StreamingMovies  \n",
       "3473          No         Yes              No  "
      ]
     },
     "metadata": {},
     "output_type": "display_data"
    },
    {
     "name": "stdout",
     "output_type": "stream",
     "text": [
      "<class 'pandas.core.frame.DataFrame'>\n",
      "RangeIndex: 5517 entries, 0 to 5516\n",
      "Data columns (total 8 columns):\n",
      " #   Column            Non-Null Count  Dtype \n",
      "---  ------            --------------  ----- \n",
      " 0   customerID        5517 non-null   object\n",
      " 1   InternetService   5517 non-null   object\n",
      " 2   OnlineSecurity    5517 non-null   object\n",
      " 3   OnlineBackup      5517 non-null   object\n",
      " 4   DeviceProtection  5517 non-null   object\n",
      " 5   TechSupport       5517 non-null   object\n",
      " 6   StreamingTV       5517 non-null   object\n",
      " 7   StreamingMovies   5517 non-null   object\n",
      "dtypes: object(8)\n",
      "memory usage: 344.9+ KB\n"
     ]
    },
    {
     "data": {
      "text/plain": [
       "None"
      ]
     },
     "metadata": {},
     "output_type": "display_data"
    },
    {
     "name": "stdout",
     "output_type": "stream",
     "text": [
      "--------------------------------\n",
      "Датасет: personal\n"
     ]
    },
    {
     "data": {
      "text/html": [
       "<div>\n",
       "<style scoped>\n",
       "    .dataframe tbody tr th:only-of-type {\n",
       "        vertical-align: middle;\n",
       "    }\n",
       "\n",
       "    .dataframe tbody tr th {\n",
       "        vertical-align: top;\n",
       "    }\n",
       "\n",
       "    .dataframe thead th {\n",
       "        text-align: right;\n",
       "    }\n",
       "</style>\n",
       "<table border=\"1\" class=\"dataframe\">\n",
       "  <thead>\n",
       "    <tr style=\"text-align: right;\">\n",
       "      <th></th>\n",
       "      <th>customerID</th>\n",
       "      <th>gender</th>\n",
       "      <th>SeniorCitizen</th>\n",
       "      <th>Partner</th>\n",
       "      <th>Dependents</th>\n",
       "    </tr>\n",
       "  </thead>\n",
       "  <tbody>\n",
       "    <tr>\n",
       "      <th>2268</th>\n",
       "      <td>7205-BAIAD</td>\n",
       "      <td>Female</td>\n",
       "      <td>0</td>\n",
       "      <td>No</td>\n",
       "      <td>No</td>\n",
       "    </tr>\n",
       "  </tbody>\n",
       "</table>\n",
       "</div>"
      ],
      "text/plain": [
       "      customerID  gender  SeniorCitizen Partner Dependents\n",
       "2268  7205-BAIAD  Female              0      No         No"
      ]
     },
     "metadata": {},
     "output_type": "display_data"
    },
    {
     "name": "stdout",
     "output_type": "stream",
     "text": [
      "<class 'pandas.core.frame.DataFrame'>\n",
      "RangeIndex: 7043 entries, 0 to 7042\n",
      "Data columns (total 5 columns):\n",
      " #   Column         Non-Null Count  Dtype \n",
      "---  ------         --------------  ----- \n",
      " 0   customerID     7043 non-null   object\n",
      " 1   gender         7043 non-null   object\n",
      " 2   SeniorCitizen  7043 non-null   int64 \n",
      " 3   Partner        7043 non-null   object\n",
      " 4   Dependents     7043 non-null   object\n",
      "dtypes: int64(1), object(4)\n",
      "memory usage: 275.2+ KB\n"
     ]
    },
    {
     "data": {
      "text/plain": [
       "None"
      ]
     },
     "metadata": {},
     "output_type": "display_data"
    },
    {
     "name": "stdout",
     "output_type": "stream",
     "text": [
      "--------------------------------\n",
      "Датасет: phone\n"
     ]
    },
    {
     "data": {
      "text/html": [
       "<div>\n",
       "<style scoped>\n",
       "    .dataframe tbody tr th:only-of-type {\n",
       "        vertical-align: middle;\n",
       "    }\n",
       "\n",
       "    .dataframe tbody tr th {\n",
       "        vertical-align: top;\n",
       "    }\n",
       "\n",
       "    .dataframe thead th {\n",
       "        text-align: right;\n",
       "    }\n",
       "</style>\n",
       "<table border=\"1\" class=\"dataframe\">\n",
       "  <thead>\n",
       "    <tr style=\"text-align: right;\">\n",
       "      <th></th>\n",
       "      <th>customerID</th>\n",
       "      <th>MultipleLines</th>\n",
       "    </tr>\n",
       "  </thead>\n",
       "  <tbody>\n",
       "    <tr>\n",
       "      <th>3219</th>\n",
       "      <td>5062-CJJKH</td>\n",
       "      <td>No</td>\n",
       "    </tr>\n",
       "  </tbody>\n",
       "</table>\n",
       "</div>"
      ],
      "text/plain": [
       "      customerID MultipleLines\n",
       "3219  5062-CJJKH            No"
      ]
     },
     "metadata": {},
     "output_type": "display_data"
    },
    {
     "name": "stdout",
     "output_type": "stream",
     "text": [
      "<class 'pandas.core.frame.DataFrame'>\n",
      "RangeIndex: 6361 entries, 0 to 6360\n",
      "Data columns (total 2 columns):\n",
      " #   Column         Non-Null Count  Dtype \n",
      "---  ------         --------------  ----- \n",
      " 0   customerID     6361 non-null   object\n",
      " 1   MultipleLines  6361 non-null   object\n",
      "dtypes: object(2)\n",
      "memory usage: 99.5+ KB\n"
     ]
    },
    {
     "data": {
      "text/plain": [
       "None"
      ]
     },
     "metadata": {},
     "output_type": "display_data"
    },
    {
     "name": "stdout",
     "output_type": "stream",
     "text": [
      "--------------------------------\n"
     ]
    }
   ],
   "source": [
    "for item in data.data_names:\n",
    "    print(\"Датасет:\", item.name)\n",
    "    display(item.sample())\n",
    "    display(item.info())\n",
    "    print(\"--------------------------------\")"
   ]
  },
  {
   "cell_type": "markdown",
   "metadata": {},
   "source": [
    "### Выводы по блоку 1: \n",
    "* Все четыре датасета не содержат пропущенных значений. \n",
    "\n",
    "* В датасетах contract и personal 7043 записей, в internet и phone - 5517 и 6361 соотвтетственно. Вероятнее всего это связано с тем, что не все пользователи заключили контракт на пользование интеренетом и телефонией. \n",
    "\n",
    "* В дальнейшем при объединении датасетов обратим внимание на общее количество записей.\n",
    "\n",
    "* Целевой признак явным образом не выделен в датасете, но обратим внимание, на признаки BeginDate и EndDate, в признаке EndDate указано \"No\" - на основании этих данных выделим целевой признак в следующем пункте. \n",
    "\n",
    "* В данном проекте мы решаем задачу бинарной классификации поэтому после выделения целевого признака будет целесообразно избивиться от признаков BeginDate и EndDate, чтобы не \"сбивать с толку\" модель. \n",
    "\n",
    "* Чтобы не терять информацию из признаков BeginDate и EndDate, создадим на основе них признак DaysUsed - в который запишем разницу EndDate и BeginDate \n",
    "\n",
    "* Все категориальные переменные необходимо будет закодировать и после применить скейлер. \n",
    "\n",
    "Необходимо изменить тип данных для признаков датасета **contract**: \n",
    "* **BeginDate**, **EndDate** на *datetime*, \n",
    "* **TotalCharges** на *float64*\n",
    "\n",
    "Вероятнее всего так как данные признаки имеют тип данныз object - в них есть значения заглушки, изучим эти признаки подробнее на следующем этапе. "
   ]
  },
  {
   "cell_type": "code",
   "execution_count": 6,
   "metadata": {},
   "outputs": [],
   "source": [
    "#приведем названия признаков к единому стилю\n",
    "for item in data.data_names:\n",
    "    item.rename(columns={'customerID': 'CustomerID'}, inplace=True)\n",
    "\n",
    "data.personal.rename(columns={'gender': 'Gender'}, inplace=True)"
   ]
  },
  {
   "cell_type": "code",
   "execution_count": 7,
   "metadata": {},
   "outputs": [
    {
     "data": {
      "text/html": [
       "<div>\n",
       "<style scoped>\n",
       "    .dataframe tbody tr th:only-of-type {\n",
       "        vertical-align: middle;\n",
       "    }\n",
       "\n",
       "    .dataframe tbody tr th {\n",
       "        vertical-align: top;\n",
       "    }\n",
       "\n",
       "    .dataframe thead th {\n",
       "        text-align: right;\n",
       "    }\n",
       "</style>\n",
       "<table border=\"1\" class=\"dataframe\">\n",
       "  <thead>\n",
       "    <tr style=\"text-align: right;\">\n",
       "      <th></th>\n",
       "      <th>CustomerID</th>\n",
       "      <th>BeginDate</th>\n",
       "      <th>EndDate</th>\n",
       "      <th>Type</th>\n",
       "      <th>PaperlessBilling</th>\n",
       "      <th>PaymentMethod</th>\n",
       "      <th>MonthlyCharges</th>\n",
       "      <th>TotalCharges</th>\n",
       "      <th>Churn</th>\n",
       "    </tr>\n",
       "  </thead>\n",
       "  <tbody>\n",
       "    <tr>\n",
       "      <th>5239</th>\n",
       "      <td>2056-EVGZL</td>\n",
       "      <td>2014-06-01</td>\n",
       "      <td>No</td>\n",
       "      <td>One year</td>\n",
       "      <td>No</td>\n",
       "      <td>Credit card (automatic)</td>\n",
       "      <td>105.75</td>\n",
       "      <td>7322.5</td>\n",
       "      <td>0</td>\n",
       "    </tr>\n",
       "    <tr>\n",
       "      <th>3200</th>\n",
       "      <td>0895-DQHEW</td>\n",
       "      <td>2015-06-01</td>\n",
       "      <td>2019-12-01 00:00:00</td>\n",
       "      <td>Month-to-month</td>\n",
       "      <td>Yes</td>\n",
       "      <td>Electronic check</td>\n",
       "      <td>104.30</td>\n",
       "      <td>5278.15</td>\n",
       "      <td>1</td>\n",
       "    </tr>\n",
       "    <tr>\n",
       "      <th>637</th>\n",
       "      <td>2077-DDHJK</td>\n",
       "      <td>2014-06-01</td>\n",
       "      <td>No</td>\n",
       "      <td>Two year</td>\n",
       "      <td>No</td>\n",
       "      <td>Credit card (automatic)</td>\n",
       "      <td>70.90</td>\n",
       "      <td>4911.35</td>\n",
       "      <td>0</td>\n",
       "    </tr>\n",
       "    <tr>\n",
       "      <th>929</th>\n",
       "      <td>8812-ZRHFP</td>\n",
       "      <td>2017-08-01</td>\n",
       "      <td>No</td>\n",
       "      <td>One year</td>\n",
       "      <td>No</td>\n",
       "      <td>Electronic check</td>\n",
       "      <td>86.45</td>\n",
       "      <td>2538.05</td>\n",
       "      <td>0</td>\n",
       "    </tr>\n",
       "    <tr>\n",
       "      <th>5655</th>\n",
       "      <td>5666-MBJPT</td>\n",
       "      <td>2014-09-01</td>\n",
       "      <td>No</td>\n",
       "      <td>Two year</td>\n",
       "      <td>Yes</td>\n",
       "      <td>Bank transfer (automatic)</td>\n",
       "      <td>25.10</td>\n",
       "      <td>1725</td>\n",
       "      <td>0</td>\n",
       "    </tr>\n",
       "  </tbody>\n",
       "</table>\n",
       "</div>"
      ],
      "text/plain": [
       "      CustomerID   BeginDate              EndDate            Type  \\\n",
       "5239  2056-EVGZL  2014-06-01                   No        One year   \n",
       "3200  0895-DQHEW  2015-06-01  2019-12-01 00:00:00  Month-to-month   \n",
       "637   2077-DDHJK  2014-06-01                   No        Two year   \n",
       "929   8812-ZRHFP  2017-08-01                   No        One year   \n",
       "5655  5666-MBJPT  2014-09-01                   No        Two year   \n",
       "\n",
       "     PaperlessBilling              PaymentMethod  MonthlyCharges TotalCharges  \\\n",
       "5239               No    Credit card (automatic)          105.75       7322.5   \n",
       "3200              Yes           Electronic check          104.30      5278.15   \n",
       "637                No    Credit card (automatic)           70.90      4911.35   \n",
       "929                No           Electronic check           86.45      2538.05   \n",
       "5655              Yes  Bank transfer (automatic)           25.10         1725   \n",
       "\n",
       "      Churn  \n",
       "5239      0  \n",
       "3200      1  \n",
       "637       0  \n",
       "929       0  \n",
       "5655      0  "
      ]
     },
     "execution_count": 7,
     "metadata": {},
     "output_type": "execute_result"
    }
   ],
   "source": [
    "#Добавим целевой признак, если контракт закрыт и EndDate не равно \"No\", то проставляем 1, в противном случае 0\n",
    "data.contract['Churn'] = (data.contract['EndDate'] != 'No').astype(int)\n",
    "data.contract.sample(5)"
   ]
  },
  {
   "cell_type": "code",
   "execution_count": 8,
   "metadata": {},
   "outputs": [
    {
     "data": {
      "text/html": [
       "<div>\n",
       "<style scoped>\n",
       "    .dataframe tbody tr th:only-of-type {\n",
       "        vertical-align: middle;\n",
       "    }\n",
       "\n",
       "    .dataframe tbody tr th {\n",
       "        vertical-align: top;\n",
       "    }\n",
       "\n",
       "    .dataframe thead th {\n",
       "        text-align: right;\n",
       "    }\n",
       "</style>\n",
       "<table border=\"1\" class=\"dataframe\">\n",
       "  <thead>\n",
       "    <tr style=\"text-align: right;\">\n",
       "      <th></th>\n",
       "      <th>CustomerID</th>\n",
       "      <th>BeginDate</th>\n",
       "      <th>EndDate</th>\n",
       "      <th>Type</th>\n",
       "      <th>PaperlessBilling</th>\n",
       "      <th>PaymentMethod</th>\n",
       "      <th>MonthlyCharges</th>\n",
       "      <th>TotalCharges</th>\n",
       "      <th>Churn</th>\n",
       "      <th>DaysUsed</th>\n",
       "    </tr>\n",
       "  </thead>\n",
       "  <tbody>\n",
       "    <tr>\n",
       "      <th>3068</th>\n",
       "      <td>1810-BOHSY</td>\n",
       "      <td>2015-11-01</td>\n",
       "      <td>2020-02-01</td>\n",
       "      <td>One year</td>\n",
       "      <td>Yes</td>\n",
       "      <td>Credit card (automatic)</td>\n",
       "      <td>96.40</td>\n",
       "      <td>4911.05</td>\n",
       "      <td>0</td>\n",
       "      <td>1553</td>\n",
       "    </tr>\n",
       "    <tr>\n",
       "      <th>1435</th>\n",
       "      <td>9052-VKDUW</td>\n",
       "      <td>2014-09-01</td>\n",
       "      <td>2020-02-01</td>\n",
       "      <td>Month-to-month</td>\n",
       "      <td>Yes</td>\n",
       "      <td>Credit card (automatic)</td>\n",
       "      <td>109.40</td>\n",
       "      <td>7227.45</td>\n",
       "      <td>0</td>\n",
       "      <td>1979</td>\n",
       "    </tr>\n",
       "    <tr>\n",
       "      <th>472</th>\n",
       "      <td>1304-BCCFO</td>\n",
       "      <td>2019-05-01</td>\n",
       "      <td>2020-02-01</td>\n",
       "      <td>Month-to-month</td>\n",
       "      <td>Yes</td>\n",
       "      <td>Mailed check</td>\n",
       "      <td>70.05</td>\n",
       "      <td>564.4</td>\n",
       "      <td>0</td>\n",
       "      <td>276</td>\n",
       "    </tr>\n",
       "    <tr>\n",
       "      <th>1237</th>\n",
       "      <td>2788-CJQAQ</td>\n",
       "      <td>2019-01-01</td>\n",
       "      <td>2020-02-01</td>\n",
       "      <td>One year</td>\n",
       "      <td>No</td>\n",
       "      <td>Mailed check</td>\n",
       "      <td>19.45</td>\n",
       "      <td>270.2</td>\n",
       "      <td>0</td>\n",
       "      <td>396</td>\n",
       "    </tr>\n",
       "    <tr>\n",
       "      <th>3402</th>\n",
       "      <td>4951-UKAAQ</td>\n",
       "      <td>2019-07-01</td>\n",
       "      <td>2019-11-01</td>\n",
       "      <td>Month-to-month</td>\n",
       "      <td>Yes</td>\n",
       "      <td>Electronic check</td>\n",
       "      <td>88.95</td>\n",
       "      <td>355.2</td>\n",
       "      <td>1</td>\n",
       "      <td>123</td>\n",
       "    </tr>\n",
       "  </tbody>\n",
       "</table>\n",
       "</div>"
      ],
      "text/plain": [
       "      CustomerID  BeginDate    EndDate            Type PaperlessBilling  \\\n",
       "3068  1810-BOHSY 2015-11-01 2020-02-01        One year              Yes   \n",
       "1435  9052-VKDUW 2014-09-01 2020-02-01  Month-to-month              Yes   \n",
       "472   1304-BCCFO 2019-05-01 2020-02-01  Month-to-month              Yes   \n",
       "1237  2788-CJQAQ 2019-01-01 2020-02-01        One year               No   \n",
       "3402  4951-UKAAQ 2019-07-01 2019-11-01  Month-to-month              Yes   \n",
       "\n",
       "                PaymentMethod  MonthlyCharges TotalCharges  Churn  DaysUsed  \n",
       "3068  Credit card (automatic)           96.40      4911.05      0      1553  \n",
       "1435  Credit card (automatic)          109.40      7227.45      0      1979  \n",
       "472              Mailed check           70.05        564.4      0       276  \n",
       "1237             Mailed check           19.45        270.2      0       396  \n",
       "3402         Electronic check           88.95        355.2      1       123  "
      ]
     },
     "metadata": {},
     "output_type": "display_data"
    },
    {
     "name": "stdout",
     "output_type": "stream",
     "text": [
      "<class 'pandas.core.frame.DataFrame'>\n",
      "RangeIndex: 7043 entries, 0 to 7042\n",
      "Data columns (total 10 columns):\n",
      " #   Column            Non-Null Count  Dtype         \n",
      "---  ------            --------------  -----         \n",
      " 0   CustomerID        7043 non-null   object        \n",
      " 1   BeginDate         7043 non-null   datetime64[ns]\n",
      " 2   EndDate           7043 non-null   datetime64[ns]\n",
      " 3   Type              7043 non-null   object        \n",
      " 4   PaperlessBilling  7043 non-null   object        \n",
      " 5   PaymentMethod     7043 non-null   object        \n",
      " 6   MonthlyCharges    7043 non-null   float64       \n",
      " 7   TotalCharges      7043 non-null   object        \n",
      " 8   Churn             7043 non-null   int64         \n",
      " 9   DaysUsed          7043 non-null   int64         \n",
      "dtypes: datetime64[ns](2), float64(1), int64(2), object(5)\n",
      "memory usage: 550.4+ KB\n"
     ]
    },
    {
     "data": {
      "text/plain": [
       "None"
      ]
     },
     "metadata": {},
     "output_type": "display_data"
    }
   ],
   "source": [
    "# Создадим признак DaysUsed, для этого заменим значения \"No\" в столбце EndDate на дату выгрузки датасета и найдем разницу между EndDate и BeginDate\n",
    "data.contract['EndDate'] = data.contract['EndDate'].replace(['No'], ['2020-02-01'])\n",
    "\n",
    "#приведем даты к единому формату\n",
    "data.contract['BeginDate'] = pd.to_datetime(data.contract['BeginDate'], format='%Y-%m-%d')\n",
    "data.contract['EndDate'] = pd.to_datetime(data.contract['EndDate'], format='%Y-%m-%d')\n",
    "\n",
    "data.contract['DaysUsed'] = (data.contract['EndDate'] - data.contract['BeginDate']).dt.days\n",
    "\n",
    "display(data.contract.sample(5))\n",
    "display(data.contract.info())"
   ]
  },
  {
   "cell_type": "code",
   "execution_count": 9,
   "metadata": {},
   "outputs": [
    {
     "name": "stdout",
     "output_type": "stream",
     "text": [
      "<class 'pandas.core.frame.DataFrame'>\n",
      "RangeIndex: 7043 entries, 0 to 7042\n",
      "Data columns (total 10 columns):\n",
      " #   Column            Non-Null Count  Dtype         \n",
      "---  ------            --------------  -----         \n",
      " 0   CustomerID        7043 non-null   object        \n",
      " 1   BeginDate         7043 non-null   datetime64[ns]\n",
      " 2   EndDate           7043 non-null   datetime64[ns]\n",
      " 3   Type              7043 non-null   object        \n",
      " 4   PaperlessBilling  7043 non-null   object        \n",
      " 5   PaymentMethod     7043 non-null   object        \n",
      " 6   MonthlyCharges    7043 non-null   float64       \n",
      " 7   TotalCharges      7032 non-null   float64       \n",
      " 8   Churn             7043 non-null   int64         \n",
      " 9   DaysUsed          7043 non-null   int64         \n",
      "dtypes: datetime64[ns](2), float64(2), int64(2), object(4)\n",
      "memory usage: 550.4+ KB\n"
     ]
    }
   ],
   "source": [
    "data.contract['TotalCharges'] = pd.to_numeric(data.contract['TotalCharges'], errors ='coerce')\n",
    "data.contract.info()"
   ]
  },
  {
   "cell_type": "code",
   "execution_count": 10,
   "metadata": {},
   "outputs": [
    {
     "data": {
      "text/html": [
       "<div>\n",
       "<style scoped>\n",
       "    .dataframe tbody tr th:only-of-type {\n",
       "        vertical-align: middle;\n",
       "    }\n",
       "\n",
       "    .dataframe tbody tr th {\n",
       "        vertical-align: top;\n",
       "    }\n",
       "\n",
       "    .dataframe thead th {\n",
       "        text-align: right;\n",
       "    }\n",
       "</style>\n",
       "<table border=\"1\" class=\"dataframe\">\n",
       "  <thead>\n",
       "    <tr style=\"text-align: right;\">\n",
       "      <th></th>\n",
       "      <th>CustomerID</th>\n",
       "      <th>BeginDate</th>\n",
       "      <th>EndDate</th>\n",
       "      <th>Type</th>\n",
       "      <th>PaperlessBilling</th>\n",
       "      <th>PaymentMethod</th>\n",
       "      <th>MonthlyCharges</th>\n",
       "      <th>TotalCharges</th>\n",
       "      <th>Churn</th>\n",
       "      <th>DaysUsed</th>\n",
       "    </tr>\n",
       "  </thead>\n",
       "  <tbody>\n",
       "    <tr>\n",
       "      <th>488</th>\n",
       "      <td>4472-LVYGI</td>\n",
       "      <td>2020-02-01</td>\n",
       "      <td>2020-02-01</td>\n",
       "      <td>Two year</td>\n",
       "      <td>Yes</td>\n",
       "      <td>Bank transfer (automatic)</td>\n",
       "      <td>52.55</td>\n",
       "      <td>NaN</td>\n",
       "      <td>0</td>\n",
       "      <td>0</td>\n",
       "    </tr>\n",
       "    <tr>\n",
       "      <th>753</th>\n",
       "      <td>3115-CZMZD</td>\n",
       "      <td>2020-02-01</td>\n",
       "      <td>2020-02-01</td>\n",
       "      <td>Two year</td>\n",
       "      <td>No</td>\n",
       "      <td>Mailed check</td>\n",
       "      <td>20.25</td>\n",
       "      <td>NaN</td>\n",
       "      <td>0</td>\n",
       "      <td>0</td>\n",
       "    </tr>\n",
       "    <tr>\n",
       "      <th>936</th>\n",
       "      <td>5709-LVOEQ</td>\n",
       "      <td>2020-02-01</td>\n",
       "      <td>2020-02-01</td>\n",
       "      <td>Two year</td>\n",
       "      <td>No</td>\n",
       "      <td>Mailed check</td>\n",
       "      <td>80.85</td>\n",
       "      <td>NaN</td>\n",
       "      <td>0</td>\n",
       "      <td>0</td>\n",
       "    </tr>\n",
       "    <tr>\n",
       "      <th>1082</th>\n",
       "      <td>4367-NUYAO</td>\n",
       "      <td>2020-02-01</td>\n",
       "      <td>2020-02-01</td>\n",
       "      <td>Two year</td>\n",
       "      <td>No</td>\n",
       "      <td>Mailed check</td>\n",
       "      <td>25.75</td>\n",
       "      <td>NaN</td>\n",
       "      <td>0</td>\n",
       "      <td>0</td>\n",
       "    </tr>\n",
       "    <tr>\n",
       "      <th>1340</th>\n",
       "      <td>1371-DWPAZ</td>\n",
       "      <td>2020-02-01</td>\n",
       "      <td>2020-02-01</td>\n",
       "      <td>Two year</td>\n",
       "      <td>No</td>\n",
       "      <td>Credit card (automatic)</td>\n",
       "      <td>56.05</td>\n",
       "      <td>NaN</td>\n",
       "      <td>0</td>\n",
       "      <td>0</td>\n",
       "    </tr>\n",
       "    <tr>\n",
       "      <th>3331</th>\n",
       "      <td>7644-OMVMY</td>\n",
       "      <td>2020-02-01</td>\n",
       "      <td>2020-02-01</td>\n",
       "      <td>Two year</td>\n",
       "      <td>No</td>\n",
       "      <td>Mailed check</td>\n",
       "      <td>19.85</td>\n",
       "      <td>NaN</td>\n",
       "      <td>0</td>\n",
       "      <td>0</td>\n",
       "    </tr>\n",
       "    <tr>\n",
       "      <th>3826</th>\n",
       "      <td>3213-VVOLG</td>\n",
       "      <td>2020-02-01</td>\n",
       "      <td>2020-02-01</td>\n",
       "      <td>Two year</td>\n",
       "      <td>No</td>\n",
       "      <td>Mailed check</td>\n",
       "      <td>25.35</td>\n",
       "      <td>NaN</td>\n",
       "      <td>0</td>\n",
       "      <td>0</td>\n",
       "    </tr>\n",
       "    <tr>\n",
       "      <th>4380</th>\n",
       "      <td>2520-SGTTA</td>\n",
       "      <td>2020-02-01</td>\n",
       "      <td>2020-02-01</td>\n",
       "      <td>Two year</td>\n",
       "      <td>No</td>\n",
       "      <td>Mailed check</td>\n",
       "      <td>20.00</td>\n",
       "      <td>NaN</td>\n",
       "      <td>0</td>\n",
       "      <td>0</td>\n",
       "    </tr>\n",
       "    <tr>\n",
       "      <th>5218</th>\n",
       "      <td>2923-ARZLG</td>\n",
       "      <td>2020-02-01</td>\n",
       "      <td>2020-02-01</td>\n",
       "      <td>One year</td>\n",
       "      <td>Yes</td>\n",
       "      <td>Mailed check</td>\n",
       "      <td>19.70</td>\n",
       "      <td>NaN</td>\n",
       "      <td>0</td>\n",
       "      <td>0</td>\n",
       "    </tr>\n",
       "    <tr>\n",
       "      <th>6670</th>\n",
       "      <td>4075-WKNIU</td>\n",
       "      <td>2020-02-01</td>\n",
       "      <td>2020-02-01</td>\n",
       "      <td>Two year</td>\n",
       "      <td>No</td>\n",
       "      <td>Mailed check</td>\n",
       "      <td>73.35</td>\n",
       "      <td>NaN</td>\n",
       "      <td>0</td>\n",
       "      <td>0</td>\n",
       "    </tr>\n",
       "    <tr>\n",
       "      <th>6754</th>\n",
       "      <td>2775-SEFEE</td>\n",
       "      <td>2020-02-01</td>\n",
       "      <td>2020-02-01</td>\n",
       "      <td>Two year</td>\n",
       "      <td>Yes</td>\n",
       "      <td>Bank transfer (automatic)</td>\n",
       "      <td>61.90</td>\n",
       "      <td>NaN</td>\n",
       "      <td>0</td>\n",
       "      <td>0</td>\n",
       "    </tr>\n",
       "  </tbody>\n",
       "</table>\n",
       "</div>"
      ],
      "text/plain": [
       "      CustomerID  BeginDate    EndDate      Type PaperlessBilling  \\\n",
       "488   4472-LVYGI 2020-02-01 2020-02-01  Two year              Yes   \n",
       "753   3115-CZMZD 2020-02-01 2020-02-01  Two year               No   \n",
       "936   5709-LVOEQ 2020-02-01 2020-02-01  Two year               No   \n",
       "1082  4367-NUYAO 2020-02-01 2020-02-01  Two year               No   \n",
       "1340  1371-DWPAZ 2020-02-01 2020-02-01  Two year               No   \n",
       "3331  7644-OMVMY 2020-02-01 2020-02-01  Two year               No   \n",
       "3826  3213-VVOLG 2020-02-01 2020-02-01  Two year               No   \n",
       "4380  2520-SGTTA 2020-02-01 2020-02-01  Two year               No   \n",
       "5218  2923-ARZLG 2020-02-01 2020-02-01  One year              Yes   \n",
       "6670  4075-WKNIU 2020-02-01 2020-02-01  Two year               No   \n",
       "6754  2775-SEFEE 2020-02-01 2020-02-01  Two year              Yes   \n",
       "\n",
       "                  PaymentMethod  MonthlyCharges  TotalCharges  Churn  DaysUsed  \n",
       "488   Bank transfer (automatic)           52.55           NaN      0         0  \n",
       "753                Mailed check           20.25           NaN      0         0  \n",
       "936                Mailed check           80.85           NaN      0         0  \n",
       "1082               Mailed check           25.75           NaN      0         0  \n",
       "1340    Credit card (automatic)           56.05           NaN      0         0  \n",
       "3331               Mailed check           19.85           NaN      0         0  \n",
       "3826               Mailed check           25.35           NaN      0         0  \n",
       "4380               Mailed check           20.00           NaN      0         0  \n",
       "5218               Mailed check           19.70           NaN      0         0  \n",
       "6670               Mailed check           73.35           NaN      0         0  \n",
       "6754  Bank transfer (automatic)           61.90           NaN      0         0  "
      ]
     },
     "execution_count": 10,
     "metadata": {},
     "output_type": "execute_result"
    }
   ],
   "source": [
    "#можем заметить, что в признаке TotalCharges появились пустые значения\n",
    "data.contract[data.contract['TotalCharges'].isnull()]"
   ]
  },
  {
   "cell_type": "markdown",
   "metadata": {},
   "source": [
    "Даты признаков BeginDate и EndDate совпадают - это новые клиенты которым еще не выставлены счета за услуги DaysUsed = 0. \n",
    "\n",
    "Такие данные с большой долей вероятности не репрезентативны и скорее всего окажутся в числе выбросов, удалим их, тем более что это всего 11 записей из 7 тыс. "
   ]
  },
  {
   "cell_type": "code",
   "execution_count": 11,
   "metadata": {},
   "outputs": [
    {
     "name": "stdout",
     "output_type": "stream",
     "text": [
      "<class 'pandas.core.frame.DataFrame'>\n",
      "Int64Index: 7032 entries, 0 to 7042\n",
      "Data columns (total 10 columns):\n",
      " #   Column            Non-Null Count  Dtype         \n",
      "---  ------            --------------  -----         \n",
      " 0   CustomerID        7032 non-null   object        \n",
      " 1   BeginDate         7032 non-null   datetime64[ns]\n",
      " 2   EndDate           7032 non-null   datetime64[ns]\n",
      " 3   Type              7032 non-null   object        \n",
      " 4   PaperlessBilling  7032 non-null   object        \n",
      " 5   PaymentMethod     7032 non-null   object        \n",
      " 6   MonthlyCharges    7032 non-null   float64       \n",
      " 7   TotalCharges      7032 non-null   float64       \n",
      " 8   Churn             7032 non-null   int64         \n",
      " 9   DaysUsed          7032 non-null   int64         \n",
      "dtypes: datetime64[ns](2), float64(2), int64(2), object(4)\n",
      "memory usage: 604.3+ KB\n"
     ]
    }
   ],
   "source": [
    "data.contract = data.contract[~data.contract['TotalCharges'].isnull()]\n",
    "data.contract.info()"
   ]
  },
  {
   "cell_type": "code",
   "execution_count": 12,
   "metadata": {},
   "outputs": [],
   "source": [
    "# чтобы не потерять важные данные при объединении датасетов, добавим в таблицы internet и phone соответствующие признаки\n",
    "data.internet['InternetPlan'] = 'Yes'\n",
    "data.phone['PhonePlan'] = 'Yes'"
   ]
  },
  {
   "cell_type": "code",
   "execution_count": 13,
   "metadata": {},
   "outputs": [
    {
     "name": "stderr",
     "output_type": "stream",
     "text": [
      "/var/folders/vw/2gwb12916v7g6sv898z3qx4r0000gn/T/ipykernel_66297/847758410.py:2: SettingWithCopyWarning: \n",
      "A value is trying to be set on a copy of a slice from a DataFrame\n",
      "\n",
      "See the caveats in the documentation: https://pandas.pydata.org/pandas-docs/stable/user_guide/indexing.html#returning-a-view-versus-a-copy\n",
      "  data.contract.drop(['BeginDate', 'EndDate'], axis=1, inplace=True)\n"
     ]
    }
   ],
   "source": [
    "#после того как мы выделили признак DaysUsed и целевой признак Churn, можем удалить BeginDate и EndDate\n",
    "data.contract.drop(['BeginDate', 'EndDate'], axis=1, inplace=True)"
   ]
  },
  {
   "cell_type": "code",
   "execution_count": 14,
   "metadata": {},
   "outputs": [
    {
     "data": {
      "text/html": [
       "<div>\n",
       "<style scoped>\n",
       "    .dataframe tbody tr th:only-of-type {\n",
       "        vertical-align: middle;\n",
       "    }\n",
       "\n",
       "    .dataframe tbody tr th {\n",
       "        vertical-align: top;\n",
       "    }\n",
       "\n",
       "    .dataframe thead th {\n",
       "        text-align: right;\n",
       "    }\n",
       "</style>\n",
       "<table border=\"1\" class=\"dataframe\">\n",
       "  <thead>\n",
       "    <tr style=\"text-align: right;\">\n",
       "      <th></th>\n",
       "      <th>Type</th>\n",
       "      <th>PaperlessBilling</th>\n",
       "      <th>PaymentMethod</th>\n",
       "      <th>MonthlyCharges</th>\n",
       "      <th>TotalCharges</th>\n",
       "      <th>Churn</th>\n",
       "      <th>DaysUsed</th>\n",
       "      <th>Gender</th>\n",
       "      <th>SeniorCitizen</th>\n",
       "      <th>Partner</th>\n",
       "      <th>...</th>\n",
       "      <th>InternetService</th>\n",
       "      <th>OnlineSecurity</th>\n",
       "      <th>OnlineBackup</th>\n",
       "      <th>DeviceProtection</th>\n",
       "      <th>TechSupport</th>\n",
       "      <th>StreamingTV</th>\n",
       "      <th>StreamingMovies</th>\n",
       "      <th>InternetPlan</th>\n",
       "      <th>MultipleLines</th>\n",
       "      <th>PhonePlan</th>\n",
       "    </tr>\n",
       "    <tr>\n",
       "      <th>CustomerID</th>\n",
       "      <th></th>\n",
       "      <th></th>\n",
       "      <th></th>\n",
       "      <th></th>\n",
       "      <th></th>\n",
       "      <th></th>\n",
       "      <th></th>\n",
       "      <th></th>\n",
       "      <th></th>\n",
       "      <th></th>\n",
       "      <th></th>\n",
       "      <th></th>\n",
       "      <th></th>\n",
       "      <th></th>\n",
       "      <th></th>\n",
       "      <th></th>\n",
       "      <th></th>\n",
       "      <th></th>\n",
       "      <th></th>\n",
       "      <th></th>\n",
       "      <th></th>\n",
       "    </tr>\n",
       "  </thead>\n",
       "  <tbody>\n",
       "    <tr>\n",
       "      <th>2097-YVPKN</th>\n",
       "      <td>Two year</td>\n",
       "      <td>No</td>\n",
       "      <td>Mailed check</td>\n",
       "      <td>25.75</td>\n",
       "      <td>1654.75</td>\n",
       "      <td>0</td>\n",
       "      <td>1979</td>\n",
       "      <td>Male</td>\n",
       "      <td>0</td>\n",
       "      <td>No</td>\n",
       "      <td>...</td>\n",
       "      <td>NaN</td>\n",
       "      <td>NaN</td>\n",
       "      <td>NaN</td>\n",
       "      <td>NaN</td>\n",
       "      <td>NaN</td>\n",
       "      <td>NaN</td>\n",
       "      <td>NaN</td>\n",
       "      <td>NaN</td>\n",
       "      <td>Yes</td>\n",
       "      <td>Yes</td>\n",
       "    </tr>\n",
       "    <tr>\n",
       "      <th>6766-HFKLA</th>\n",
       "      <td>Two year</td>\n",
       "      <td>No</td>\n",
       "      <td>Bank transfer (automatic)</td>\n",
       "      <td>103.20</td>\n",
       "      <td>5744.35</td>\n",
       "      <td>0</td>\n",
       "      <td>1706</td>\n",
       "      <td>Female</td>\n",
       "      <td>0</td>\n",
       "      <td>Yes</td>\n",
       "      <td>...</td>\n",
       "      <td>Fiber optic</td>\n",
       "      <td>No</td>\n",
       "      <td>No</td>\n",
       "      <td>Yes</td>\n",
       "      <td>Yes</td>\n",
       "      <td>Yes</td>\n",
       "      <td>Yes</td>\n",
       "      <td>Yes</td>\n",
       "      <td>Yes</td>\n",
       "      <td>Yes</td>\n",
       "    </tr>\n",
       "    <tr>\n",
       "      <th>7826-VVKWT</th>\n",
       "      <td>Two year</td>\n",
       "      <td>Yes</td>\n",
       "      <td>Electronic check</td>\n",
       "      <td>96.55</td>\n",
       "      <td>2263.45</td>\n",
       "      <td>0</td>\n",
       "      <td>730</td>\n",
       "      <td>Female</td>\n",
       "      <td>1</td>\n",
       "      <td>Yes</td>\n",
       "      <td>...</td>\n",
       "      <td>Fiber optic</td>\n",
       "      <td>No</td>\n",
       "      <td>No</td>\n",
       "      <td>Yes</td>\n",
       "      <td>No</td>\n",
       "      <td>Yes</td>\n",
       "      <td>Yes</td>\n",
       "      <td>Yes</td>\n",
       "      <td>No</td>\n",
       "      <td>Yes</td>\n",
       "    </tr>\n",
       "    <tr>\n",
       "      <th>8930-XOTDP</th>\n",
       "      <td>Month-to-month</td>\n",
       "      <td>No</td>\n",
       "      <td>Mailed check</td>\n",
       "      <td>55.95</td>\n",
       "      <td>1082.80</td>\n",
       "      <td>0</td>\n",
       "      <td>549</td>\n",
       "      <td>Female</td>\n",
       "      <td>0</td>\n",
       "      <td>Yes</td>\n",
       "      <td>...</td>\n",
       "      <td>DSL</td>\n",
       "      <td>No</td>\n",
       "      <td>No</td>\n",
       "      <td>No</td>\n",
       "      <td>No</td>\n",
       "      <td>Yes</td>\n",
       "      <td>No</td>\n",
       "      <td>Yes</td>\n",
       "      <td>No</td>\n",
       "      <td>Yes</td>\n",
       "    </tr>\n",
       "  </tbody>\n",
       "</table>\n",
       "<p>4 rows × 21 columns</p>\n",
       "</div>"
      ],
      "text/plain": [
       "                      Type PaperlessBilling              PaymentMethod  \\\n",
       "CustomerID                                                               \n",
       "2097-YVPKN        Two year               No               Mailed check   \n",
       "6766-HFKLA        Two year               No  Bank transfer (automatic)   \n",
       "7826-VVKWT        Two year              Yes           Electronic check   \n",
       "8930-XOTDP  Month-to-month               No               Mailed check   \n",
       "\n",
       "            MonthlyCharges  TotalCharges  Churn  DaysUsed  Gender  \\\n",
       "CustomerID                                                          \n",
       "2097-YVPKN           25.75       1654.75      0      1979    Male   \n",
       "6766-HFKLA          103.20       5744.35      0      1706  Female   \n",
       "7826-VVKWT           96.55       2263.45      0       730  Female   \n",
       "8930-XOTDP           55.95       1082.80      0       549  Female   \n",
       "\n",
       "            SeniorCitizen Partner  ... InternetService OnlineSecurity  \\\n",
       "CustomerID                         ...                                  \n",
       "2097-YVPKN              0      No  ...             NaN            NaN   \n",
       "6766-HFKLA              0     Yes  ...     Fiber optic             No   \n",
       "7826-VVKWT              1     Yes  ...     Fiber optic             No   \n",
       "8930-XOTDP              0     Yes  ...             DSL             No   \n",
       "\n",
       "           OnlineBackup DeviceProtection TechSupport StreamingTV  \\\n",
       "CustomerID                                                         \n",
       "2097-YVPKN          NaN              NaN         NaN         NaN   \n",
       "6766-HFKLA           No              Yes         Yes         Yes   \n",
       "7826-VVKWT           No              Yes          No         Yes   \n",
       "8930-XOTDP           No               No          No         Yes   \n",
       "\n",
       "           StreamingMovies InternetPlan MultipleLines PhonePlan  \n",
       "CustomerID                                                       \n",
       "2097-YVPKN             NaN          NaN           Yes       Yes  \n",
       "6766-HFKLA             Yes          Yes           Yes       Yes  \n",
       "7826-VVKWT             Yes          Yes            No       Yes  \n",
       "8930-XOTDP              No          Yes            No       Yes  \n",
       "\n",
       "[4 rows x 21 columns]"
      ]
     },
     "metadata": {},
     "output_type": "display_data"
    },
    {
     "name": "stdout",
     "output_type": "stream",
     "text": [
      "<class 'pandas.core.frame.DataFrame'>\n",
      "Index: 7032 entries, 7590-VHVEG to 3186-AJIEK\n",
      "Data columns (total 21 columns):\n",
      " #   Column            Non-Null Count  Dtype  \n",
      "---  ------            --------------  -----  \n",
      " 0   Type              7032 non-null   object \n",
      " 1   PaperlessBilling  7032 non-null   object \n",
      " 2   PaymentMethod     7032 non-null   object \n",
      " 3   MonthlyCharges    7032 non-null   float64\n",
      " 4   TotalCharges      7032 non-null   float64\n",
      " 5   Churn             7032 non-null   int64  \n",
      " 6   DaysUsed          7032 non-null   int64  \n",
      " 7   Gender            7032 non-null   object \n",
      " 8   SeniorCitizen     7032 non-null   int64  \n",
      " 9   Partner           7032 non-null   object \n",
      " 10  Dependents        7032 non-null   object \n",
      " 11  InternetService   5512 non-null   object \n",
      " 12  OnlineSecurity    5512 non-null   object \n",
      " 13  OnlineBackup      5512 non-null   object \n",
      " 14  DeviceProtection  5512 non-null   object \n",
      " 15  TechSupport       5512 non-null   object \n",
      " 16  StreamingTV       5512 non-null   object \n",
      " 17  StreamingMovies   5512 non-null   object \n",
      " 18  InternetPlan      5512 non-null   object \n",
      " 19  MultipleLines     6352 non-null   object \n",
      " 20  PhonePlan         6352 non-null   object \n",
      "dtypes: float64(2), int64(3), object(16)\n",
      "memory usage: 1.2+ MB\n"
     ]
    },
    {
     "data": {
      "text/plain": [
       "None"
      ]
     },
     "metadata": {},
     "output_type": "display_data"
    }
   ],
   "source": [
    "#соберем данные в единый датафрейм\n",
    "df = data.contract.merge(right=data.personal, on='CustomerID', validate='one_to_one')\n",
    "df = df.merge(right=data.internet, how='left', on='CustomerID')\n",
    "df = df.merge(right=data.phone, how='left', on='CustomerID')\n",
    "\n",
    "#Установим CustomerID в качестве индекса\n",
    "df = df.set_index('CustomerID')\n",
    "\n",
    "display(df.sample(4))\n",
    "display(df.info())"
   ]
  },
  {
   "cell_type": "markdown",
   "metadata": {},
   "source": [
    "После объединения датасетов появились пропуски, так как в исходных датасетах было разное количество записей, вероятнее всего это обусловлено тем, что контракты на телефон и интернет заключаются поотдельности"
   ]
  },
  {
   "cell_type": "code",
   "execution_count": 15,
   "metadata": {},
   "outputs": [
    {
     "name": "stdout",
     "output_type": "stream",
     "text": [
      "<class 'pandas.core.frame.DataFrame'>\n",
      "Index: 7032 entries, 7590-VHVEG to 3186-AJIEK\n",
      "Data columns (total 21 columns):\n",
      " #   Column            Non-Null Count  Dtype  \n",
      "---  ------            --------------  -----  \n",
      " 0   Type              7032 non-null   object \n",
      " 1   PaperlessBilling  7032 non-null   object \n",
      " 2   PaymentMethod     7032 non-null   object \n",
      " 3   MonthlyCharges    7032 non-null   float64\n",
      " 4   TotalCharges      7032 non-null   float64\n",
      " 5   Churn             7032 non-null   int64  \n",
      " 6   DaysUsed          7032 non-null   int64  \n",
      " 7   Gender            7032 non-null   object \n",
      " 8   SeniorCitizen     7032 non-null   int64  \n",
      " 9   Partner           7032 non-null   object \n",
      " 10  Dependents        7032 non-null   object \n",
      " 11  InternetService   7032 non-null   object \n",
      " 12  OnlineSecurity    7032 non-null   object \n",
      " 13  OnlineBackup      7032 non-null   object \n",
      " 14  DeviceProtection  7032 non-null   object \n",
      " 15  TechSupport       7032 non-null   object \n",
      " 16  StreamingTV       7032 non-null   object \n",
      " 17  StreamingMovies   7032 non-null   object \n",
      " 18  InternetPlan      7032 non-null   object \n",
      " 19  MultipleLines     7032 non-null   object \n",
      " 20  PhonePlan         7032 non-null   object \n",
      "dtypes: float64(2), int64(3), object(16)\n",
      "memory usage: 1.2+ MB\n"
     ]
    }
   ],
   "source": [
    "#заполним пропуски значениями \"No\"\n",
    "for column in ('InternetService', \n",
    "               'OnlineSecurity', \n",
    "               'OnlineBackup', \n",
    "               'DeviceProtection', \n",
    "               'TechSupport', \n",
    "               'StreamingTV', \n",
    "               'StreamingMovies', \n",
    "               'MultipleLines',\n",
    "               'InternetPlan',\n",
    "               'PhonePlan'):\n",
    "    df[column] = df[column].fillna('No')\n",
    "\n",
    "df.info()"
   ]
  },
  {
   "cell_type": "code",
   "execution_count": 16,
   "metadata": {},
   "outputs": [],
   "source": [
    "#для посоедующей работы разделим признаки на численные и категориальные\n",
    "numerical = df.select_dtypes(include=['int16', 'int32', 'int64', 'float16', 'float32', 'float64'])\n",
    "categorical = df.select_dtypes(include=['object'])"
   ]
  },
  {
   "cell_type": "markdown",
   "metadata": {},
   "source": [
    "### 2. Исследовательский анализ данных"
   ]
  },
  {
   "cell_type": "code",
   "execution_count": 17,
   "metadata": {},
   "outputs": [
    {
     "data": {
      "image/png": "[encoded data removed]",
      "text/plain": [
       "<Figure size 1800x400 with 2 Axes>"
      ]
     },
     "metadata": {},
     "output_type": "display_data"
    }
   ],
   "source": [
    "df.hist(column=['Churn', 'SeniorCitizen'], figsize=(18,4), grid=False, bins=3);"
   ]
  },
  {
   "cell_type": "markdown",
   "metadata": {},
   "source": [
    "* Churn - подавляющее большинство пользователей лояльны\n",
    "* присутствует дисбаланс классов в целевом признаке - необходимо будет это учесть при построении модели class_weight=balanced \n",
    "* SeniorCitizen - преобладающая доля клиентов это молодые люди не пенсионного возраста"
   ]
  },
  {
   "cell_type": "code",
   "execution_count": 18,
   "metadata": {},
   "outputs": [
    {
     "data": {
      "image/png": "[encoded data removed]",
      "text/plain": [
       "<Figure size 1500x800 with 6 Axes>"
      ]
     },
     "metadata": {},
     "output_type": "display_data"
    },
    {
     "data": {
      "text/html": [
       "<div>\n",
       "<style scoped>\n",
       "    .dataframe tbody tr th:only-of-type {\n",
       "        vertical-align: middle;\n",
       "    }\n",
       "\n",
       "    .dataframe tbody tr th {\n",
       "        vertical-align: top;\n",
       "    }\n",
       "\n",
       "    .dataframe thead th {\n",
       "        text-align: right;\n",
       "    }\n",
       "</style>\n",
       "<table border=\"1\" class=\"dataframe\">\n",
       "  <thead>\n",
       "    <tr style=\"text-align: right;\">\n",
       "      <th></th>\n",
       "      <th>MonthlyCharges</th>\n",
       "      <th>TotalCharges</th>\n",
       "      <th>DaysUsed</th>\n",
       "    </tr>\n",
       "  </thead>\n",
       "  <tbody>\n",
       "    <tr>\n",
       "      <th>count</th>\n",
       "      <td>7032.000000</td>\n",
       "      <td>7032.000000</td>\n",
       "      <td>7032.000000</td>\n",
       "    </tr>\n",
       "    <tr>\n",
       "      <th>mean</th>\n",
       "      <td>64.798208</td>\n",
       "      <td>2283.300441</td>\n",
       "      <td>987.538538</td>\n",
       "    </tr>\n",
       "    <tr>\n",
       "      <th>std</th>\n",
       "      <td>30.085974</td>\n",
       "      <td>2266.771362</td>\n",
       "      <td>747.153663</td>\n",
       "    </tr>\n",
       "    <tr>\n",
       "      <th>min</th>\n",
       "      <td>18.250000</td>\n",
       "      <td>18.800000</td>\n",
       "      <td>30.000000</td>\n",
       "    </tr>\n",
       "    <tr>\n",
       "      <th>25%</th>\n",
       "      <td>35.587500</td>\n",
       "      <td>401.450000</td>\n",
       "      <td>275.000000</td>\n",
       "    </tr>\n",
       "    <tr>\n",
       "      <th>50%</th>\n",
       "      <td>70.350000</td>\n",
       "      <td>1397.475000</td>\n",
       "      <td>883.000000</td>\n",
       "    </tr>\n",
       "    <tr>\n",
       "      <th>75%</th>\n",
       "      <td>89.862500</td>\n",
       "      <td>3794.737500</td>\n",
       "      <td>1676.000000</td>\n",
       "    </tr>\n",
       "    <tr>\n",
       "      <th>max</th>\n",
       "      <td>118.750000</td>\n",
       "      <td>8684.800000</td>\n",
       "      <td>2191.000000</td>\n",
       "    </tr>\n",
       "  </tbody>\n",
       "</table>\n",
       "</div>"
      ],
      "text/plain": [
       "       MonthlyCharges  TotalCharges     DaysUsed\n",
       "count     7032.000000   7032.000000  7032.000000\n",
       "mean        64.798208   2283.300441   987.538538\n",
       "std         30.085974   2266.771362   747.153663\n",
       "min         18.250000     18.800000    30.000000\n",
       "25%         35.587500    401.450000   275.000000\n",
       "50%         70.350000   1397.475000   883.000000\n",
       "75%         89.862500   3794.737500  1676.000000\n",
       "max        118.750000   8684.800000  2191.000000"
      ]
     },
     "metadata": {},
     "output_type": "display_data"
    }
   ],
   "source": [
    "cols = 3\n",
    "rows = 2\n",
    "\n",
    "plt.figure(figsize=(15, 8))\n",
    "\n",
    "idx = 0\n",
    "for column in ['MonthlyCharges','TotalCharges', 'DaysUsed']:\n",
    "    idx += 1 \n",
    "    \n",
    "    plt.subplot(rows, cols, idx)\n",
    "    plt.hist(df[column])\n",
    "    plt.title(column)\n",
    "    \n",
    "for column in ['MonthlyCharges','TotalCharges', 'DaysUsed']:\n",
    "    idx += 1 \n",
    "    \n",
    "    plt.subplot(rows, cols, idx)\n",
    "    plt.boxplot(df[column])\n",
    "    plt.title(column)\n",
    "        \n",
    "plt.show()\n",
    "\n",
    "display(df[['MonthlyCharges','TotalCharges', 'DaysUsed']].describe())"
   ]
  },
  {
   "cell_type": "markdown",
   "metadata": {},
   "source": [
    "На основе графиков можно сделать следующие выводы:\n",
    "* MonthlyCharges - можем заметить большое количество значений меньше 30, рассмотрим их отдельно\n",
    "* DaysUsed - можно выделить две категории пользователей, те кто заключил договор недавно и те кто уже давно пользуется услугами\n",
    "* TotalCharges - значения убывают, то есть пользователей которые пользуются базовыми тарифами и платят мало гораздо больше"
   ]
  },
  {
   "cell_type": "code",
   "execution_count": 19,
   "metadata": {},
   "outputs": [
    {
     "data": {
      "text/html": [
       "<div>\n",
       "<style scoped>\n",
       "    .dataframe tbody tr th:only-of-type {\n",
       "        vertical-align: middle;\n",
       "    }\n",
       "\n",
       "    .dataframe tbody tr th {\n",
       "        vertical-align: top;\n",
       "    }\n",
       "\n",
       "    .dataframe thead th {\n",
       "        text-align: right;\n",
       "    }\n",
       "</style>\n",
       "<table border=\"1\" class=\"dataframe\">\n",
       "  <thead>\n",
       "    <tr style=\"text-align: right;\">\n",
       "      <th></th>\n",
       "      <th>Type</th>\n",
       "      <th>PaperlessBilling</th>\n",
       "      <th>PaymentMethod</th>\n",
       "      <th>MonthlyCharges</th>\n",
       "      <th>TotalCharges</th>\n",
       "      <th>Churn</th>\n",
       "      <th>DaysUsed</th>\n",
       "      <th>Gender</th>\n",
       "      <th>SeniorCitizen</th>\n",
       "      <th>Partner</th>\n",
       "      <th>...</th>\n",
       "      <th>InternetService</th>\n",
       "      <th>OnlineSecurity</th>\n",
       "      <th>OnlineBackup</th>\n",
       "      <th>DeviceProtection</th>\n",
       "      <th>TechSupport</th>\n",
       "      <th>StreamingTV</th>\n",
       "      <th>StreamingMovies</th>\n",
       "      <th>InternetPlan</th>\n",
       "      <th>MultipleLines</th>\n",
       "      <th>PhonePlan</th>\n",
       "    </tr>\n",
       "    <tr>\n",
       "      <th>CustomerID</th>\n",
       "      <th></th>\n",
       "      <th></th>\n",
       "      <th></th>\n",
       "      <th></th>\n",
       "      <th></th>\n",
       "      <th></th>\n",
       "      <th></th>\n",
       "      <th></th>\n",
       "      <th></th>\n",
       "      <th></th>\n",
       "      <th></th>\n",
       "      <th></th>\n",
       "      <th></th>\n",
       "      <th></th>\n",
       "      <th></th>\n",
       "      <th></th>\n",
       "      <th></th>\n",
       "      <th></th>\n",
       "      <th></th>\n",
       "      <th></th>\n",
       "      <th></th>\n",
       "    </tr>\n",
       "  </thead>\n",
       "  <tbody>\n",
       "    <tr>\n",
       "      <th>3727-JEZTU</th>\n",
       "      <td>Month-to-month</td>\n",
       "      <td>No</td>\n",
       "      <td>Mailed check</td>\n",
       "      <td>20.40</td>\n",
       "      <td>20.4</td>\n",
       "      <td>0</td>\n",
       "      <td>31</td>\n",
       "      <td>Female</td>\n",
       "      <td>0</td>\n",
       "      <td>No</td>\n",
       "      <td>...</td>\n",
       "      <td>No</td>\n",
       "      <td>No</td>\n",
       "      <td>No</td>\n",
       "      <td>No</td>\n",
       "      <td>No</td>\n",
       "      <td>No</td>\n",
       "      <td>No</td>\n",
       "      <td>No</td>\n",
       "      <td>No</td>\n",
       "      <td>Yes</td>\n",
       "    </tr>\n",
       "    <tr>\n",
       "      <th>9800-OUIGR</th>\n",
       "      <td>Two year</td>\n",
       "      <td>No</td>\n",
       "      <td>Credit card (automatic)</td>\n",
       "      <td>20.00</td>\n",
       "      <td>1374.2</td>\n",
       "      <td>0</td>\n",
       "      <td>2010</td>\n",
       "      <td>Male</td>\n",
       "      <td>0</td>\n",
       "      <td>Yes</td>\n",
       "      <td>...</td>\n",
       "      <td>No</td>\n",
       "      <td>No</td>\n",
       "      <td>No</td>\n",
       "      <td>No</td>\n",
       "      <td>No</td>\n",
       "      <td>No</td>\n",
       "      <td>No</td>\n",
       "      <td>No</td>\n",
       "      <td>No</td>\n",
       "      <td>Yes</td>\n",
       "    </tr>\n",
       "    <tr>\n",
       "      <th>1345-GKDZZ</th>\n",
       "      <td>Month-to-month</td>\n",
       "      <td>No</td>\n",
       "      <td>Mailed check</td>\n",
       "      <td>19.55</td>\n",
       "      <td>128.6</td>\n",
       "      <td>0</td>\n",
       "      <td>184</td>\n",
       "      <td>Male</td>\n",
       "      <td>0</td>\n",
       "      <td>No</td>\n",
       "      <td>...</td>\n",
       "      <td>No</td>\n",
       "      <td>No</td>\n",
       "      <td>No</td>\n",
       "      <td>No</td>\n",
       "      <td>No</td>\n",
       "      <td>No</td>\n",
       "      <td>No</td>\n",
       "      <td>No</td>\n",
       "      <td>No</td>\n",
       "      <td>Yes</td>\n",
       "    </tr>\n",
       "    <tr>\n",
       "      <th>6051-PTVNS</th>\n",
       "      <td>One year</td>\n",
       "      <td>No</td>\n",
       "      <td>Credit card (automatic)</td>\n",
       "      <td>19.15</td>\n",
       "      <td>998.1</td>\n",
       "      <td>0</td>\n",
       "      <td>1676</td>\n",
       "      <td>Female</td>\n",
       "      <td>0</td>\n",
       "      <td>Yes</td>\n",
       "      <td>...</td>\n",
       "      <td>No</td>\n",
       "      <td>No</td>\n",
       "      <td>No</td>\n",
       "      <td>No</td>\n",
       "      <td>No</td>\n",
       "      <td>No</td>\n",
       "      <td>No</td>\n",
       "      <td>No</td>\n",
       "      <td>No</td>\n",
       "      <td>Yes</td>\n",
       "    </tr>\n",
       "    <tr>\n",
       "      <th>9986-BONCE</th>\n",
       "      <td>Month-to-month</td>\n",
       "      <td>No</td>\n",
       "      <td>Bank transfer (automatic)</td>\n",
       "      <td>20.95</td>\n",
       "      <td>85.5</td>\n",
       "      <td>1</td>\n",
       "      <td>122</td>\n",
       "      <td>Female</td>\n",
       "      <td>0</td>\n",
       "      <td>No</td>\n",
       "      <td>...</td>\n",
       "      <td>No</td>\n",
       "      <td>No</td>\n",
       "      <td>No</td>\n",
       "      <td>No</td>\n",
       "      <td>No</td>\n",
       "      <td>No</td>\n",
       "      <td>No</td>\n",
       "      <td>No</td>\n",
       "      <td>No</td>\n",
       "      <td>Yes</td>\n",
       "    </tr>\n",
       "  </tbody>\n",
       "</table>\n",
       "<p>5 rows × 21 columns</p>\n",
       "</div>"
      ],
      "text/plain": [
       "                      Type PaperlessBilling              PaymentMethod  \\\n",
       "CustomerID                                                               \n",
       "3727-JEZTU  Month-to-month               No               Mailed check   \n",
       "9800-OUIGR        Two year               No    Credit card (automatic)   \n",
       "1345-GKDZZ  Month-to-month               No               Mailed check   \n",
       "6051-PTVNS        One year               No    Credit card (automatic)   \n",
       "9986-BONCE  Month-to-month               No  Bank transfer (automatic)   \n",
       "\n",
       "            MonthlyCharges  TotalCharges  Churn  DaysUsed  Gender  \\\n",
       "CustomerID                                                          \n",
       "3727-JEZTU           20.40          20.4      0        31  Female   \n",
       "9800-OUIGR           20.00        1374.2      0      2010    Male   \n",
       "1345-GKDZZ           19.55         128.6      0       184    Male   \n",
       "6051-PTVNS           19.15         998.1      0      1676  Female   \n",
       "9986-BONCE           20.95          85.5      1       122  Female   \n",
       "\n",
       "            SeniorCitizen Partner  ... InternetService OnlineSecurity  \\\n",
       "CustomerID                         ...                                  \n",
       "3727-JEZTU              0      No  ...              No             No   \n",
       "9800-OUIGR              0     Yes  ...              No             No   \n",
       "1345-GKDZZ              0      No  ...              No             No   \n",
       "6051-PTVNS              0     Yes  ...              No             No   \n",
       "9986-BONCE              0      No  ...              No             No   \n",
       "\n",
       "           OnlineBackup DeviceProtection TechSupport StreamingTV  \\\n",
       "CustomerID                                                         \n",
       "3727-JEZTU           No               No          No          No   \n",
       "9800-OUIGR           No               No          No          No   \n",
       "1345-GKDZZ           No               No          No          No   \n",
       "6051-PTVNS           No               No          No          No   \n",
       "9986-BONCE           No               No          No          No   \n",
       "\n",
       "           StreamingMovies InternetPlan MultipleLines PhonePlan  \n",
       "CustomerID                                                       \n",
       "3727-JEZTU              No           No            No       Yes  \n",
       "9800-OUIGR              No           No            No       Yes  \n",
       "1345-GKDZZ              No           No            No       Yes  \n",
       "6051-PTVNS              No           No            No       Yes  \n",
       "9986-BONCE              No           No            No       Yes  \n",
       "\n",
       "[5 rows x 21 columns]"
      ]
     },
     "execution_count": 19,
     "metadata": {},
     "output_type": "execute_result"
    }
   ],
   "source": [
    "df.query('MonthlyCharges < 25').sample(5)"
   ]
  },
  {
   "cell_type": "markdown",
   "metadata": {},
   "source": [
    "Можем заметить, что в выборку MonthlyCharges < 25 попали базовые телефонные контракты (PhonePlan = Yes) без дополнительных опций и подключенного интернета (InternetPlan = No)"
   ]
  },
  {
   "cell_type": "code",
   "execution_count": 20,
   "metadata": {},
   "outputs": [
    {
     "data": {
      "image/png": "[encoded data removed]",
      "text/plain": [
       "<Figure size 2000x4000 with 16 Axes>"
      ]
     },
     "metadata": {},
     "output_type": "display_data"
    }
   ],
   "source": [
    "plt.figure(figsize=(20, 40))\n",
    "\n",
    "for idx, column in enumerate(categorical):\n",
    "    ax = plt.subplot(8, 2, idx + 1)\n",
    "    df[column].value_counts().plot(kind='bar', \n",
    "                                   title=column, \n",
    "                                   ax=ax,\n",
    "                                   rot=0)\n",
    "        \n",
    "plt.show()"
   ]
  },
  {
   "cell_type": "markdown",
   "metadata": {},
   "source": [
    "В части категориальных признаков можем отметить следующие особенности:\n",
    "* Среди типов оплаты преобладает ежемесячный тарифный план\n",
    "* Соотношение в PaperlessBilling может указывать на то, что большая доля пользователей предпочитает получать бумажные квитанции, что косвенно указывает на, то что значительную долю пользователей составляет старшая возрастная группа. \n",
    "* Также в части дополнительных сервисов интернет тарифов, преобладает отказ от дополнительных опций, то есть большая часть клиентов старается минимизировать траты. \n",
    "* Отдельно необходимо выделить признаки StreamingTV и StreamingMovies больше половины пользователей интернета пользуются IP TV вероятнее всего  этим фактором обусловлены горбы на гистограмме MonthlyCharges, то есть это 2 категории пользователей интернет контратов - с подключенным IP TV и без него. \n",
    "* Гендерное соотношение пользователей и Семейный статус находятся примерно на одном уровне. \n"
   ]
  },
  {
   "cell_type": "markdown",
   "metadata": {},
   "source": [
    "### Выводы по блоку 2:\n",
    "\n",
    "Мы проанализировали числовые и категориальные признаки и описали наблюдения.\n",
    "\n",
    "Данные не нуждаются в удалении выбросов и аномальных значений, можем переходить к следуюещй части проекта. "
   ]
  },
  {
   "cell_type": "code",
   "execution_count": 21,
   "metadata": {},
   "outputs": [
    {
     "data": {
      "text/html": [
       "<div>\n",
       "<style scoped>\n",
       "    .dataframe tbody tr th:only-of-type {\n",
       "        vertical-align: middle;\n",
       "    }\n",
       "\n",
       "    .dataframe tbody tr th {\n",
       "        vertical-align: top;\n",
       "    }\n",
       "\n",
       "    .dataframe thead th {\n",
       "        text-align: right;\n",
       "    }\n",
       "</style>\n",
       "<table border=\"1\" class=\"dataframe\">\n",
       "  <thead>\n",
       "    <tr style=\"text-align: right;\">\n",
       "      <th></th>\n",
       "      <th>MonthlyCharges</th>\n",
       "      <th>TotalCharges</th>\n",
       "      <th>Churn</th>\n",
       "      <th>DaysUsed</th>\n",
       "    </tr>\n",
       "  </thead>\n",
       "  <tbody>\n",
       "    <tr>\n",
       "      <th>MonthlyCharges</th>\n",
       "      <td>1.000000</td>\n",
       "      <td>0.651065</td>\n",
       "      <td>0.192858</td>\n",
       "      <td>0.246715</td>\n",
       "    </tr>\n",
       "    <tr>\n",
       "      <th>TotalCharges</th>\n",
       "      <td>0.651065</td>\n",
       "      <td>1.000000</td>\n",
       "      <td>-0.199484</td>\n",
       "      <td>0.825811</td>\n",
       "    </tr>\n",
       "    <tr>\n",
       "      <th>Churn</th>\n",
       "      <td>0.192858</td>\n",
       "      <td>-0.199484</td>\n",
       "      <td>1.000000</td>\n",
       "      <td>-0.354496</td>\n",
       "    </tr>\n",
       "    <tr>\n",
       "      <th>DaysUsed</th>\n",
       "      <td>0.246715</td>\n",
       "      <td>0.825811</td>\n",
       "      <td>-0.354496</td>\n",
       "      <td>1.000000</td>\n",
       "    </tr>\n",
       "  </tbody>\n",
       "</table>\n",
       "</div>"
      ],
      "text/plain": [
       "                MonthlyCharges  TotalCharges     Churn  DaysUsed\n",
       "MonthlyCharges        1.000000      0.651065  0.192858  0.246715\n",
       "TotalCharges          0.651065      1.000000 -0.199484  0.825811\n",
       "Churn                 0.192858     -0.199484  1.000000 -0.354496\n",
       "DaysUsed              0.246715      0.825811 -0.354496  1.000000"
      ]
     },
     "execution_count": 21,
     "metadata": {},
     "output_type": "execute_result"
    }
   ],
   "source": [
    "df[['MonthlyCharges', 'TotalCharges', 'Churn', 'DaysUsed']].corr()"
   ]
  },
  {
   "cell_type": "markdown",
   "metadata": {},
   "source": [
    "Можем заметить, что присутствует мультиколлинеарность признаков TotalCharges и DaysUsed - удалим TotalCharges "
   ]
  },
  {
   "cell_type": "code",
   "execution_count": 22,
   "metadata": {},
   "outputs": [
    {
     "name": "stdout",
     "output_type": "stream",
     "text": [
      "<class 'pandas.core.frame.DataFrame'>\n",
      "Index: 7032 entries, 7590-VHVEG to 3186-AJIEK\n",
      "Data columns (total 20 columns):\n",
      " #   Column            Non-Null Count  Dtype  \n",
      "---  ------            --------------  -----  \n",
      " 0   Type              7032 non-null   object \n",
      " 1   PaperlessBilling  7032 non-null   object \n",
      " 2   PaymentMethod     7032 non-null   object \n",
      " 3   MonthlyCharges    7032 non-null   float64\n",
      " 4   Churn             7032 non-null   int64  \n",
      " 5   DaysUsed          7032 non-null   int64  \n",
      " 6   Gender            7032 non-null   object \n",
      " 7   SeniorCitizen     7032 non-null   int64  \n",
      " 8   Partner           7032 non-null   object \n",
      " 9   Dependents        7032 non-null   object \n",
      " 10  InternetService   7032 non-null   object \n",
      " 11  OnlineSecurity    7032 non-null   object \n",
      " 12  OnlineBackup      7032 non-null   object \n",
      " 13  DeviceProtection  7032 non-null   object \n",
      " 14  TechSupport       7032 non-null   object \n",
      " 15  StreamingTV       7032 non-null   object \n",
      " 16  StreamingMovies   7032 non-null   object \n",
      " 17  InternetPlan      7032 non-null   object \n",
      " 18  MultipleLines     7032 non-null   object \n",
      " 19  PhonePlan         7032 non-null   object \n",
      "dtypes: float64(1), int64(3), object(16)\n",
      "memory usage: 1.1+ MB\n"
     ]
    }
   ],
   "source": [
    "df.drop('TotalCharges', axis=1, inplace=True)\n",
    "df.info()"
   ]
  },
  {
   "cell_type": "markdown",
   "metadata": {},
   "source": [
    "Разделим данные на обучающую и тестовую выборки, по требованию заказчика тестовая выборка должна составлять 25% "
   ]
  },
  {
   "cell_type": "code",
   "execution_count": 23,
   "metadata": {},
   "outputs": [],
   "source": [
    "train, test = train_test_split(df, test_size=0.25, random_state=RANDOM_STATE)"
   ]
  },
  {
   "cell_type": "markdown",
   "metadata": {},
   "source": [
    "Выделим фичи и целевой признак"
   ]
  },
  {
   "cell_type": "code",
   "execution_count": 24,
   "metadata": {},
   "outputs": [
    {
     "name": "stdout",
     "output_type": "stream",
     "text": [
      "Размер обучающей выборки: 5274 объектов, 19 признаков\n",
      "Размер тестовой выборки: 1758 объектов, 19 признаков\n"
     ]
    }
   ],
   "source": [
    "X = train.drop(['Churn'], axis=1)\n",
    "y = train['Churn']\n",
    "X_test = test.drop(['Churn'],axis=1)\n",
    "y_test = test['Churn']\n",
    "\n",
    "print('Размер обучающей выборки: {} объектов, {} признаков'.format(X.shape[0], X.shape[1]))\n",
    "print('Размер тестовой выборки: {} объектов, {} признаков'.format(X_test.shape[0], X_test.shape[1]))"
   ]
  },
  {
   "cell_type": "markdown",
   "metadata": {},
   "source": [
    "Для дальнейшего удобства использования выделим категориальные и числовые признаки"
   ]
  },
  {
   "cell_type": "code",
   "execution_count": 25,
   "metadata": {},
   "outputs": [],
   "source": [
    "categorical= ['Type', 'PaperlessBilling', 'PaymentMethod', 'Gender', 'Partner',\n",
    "              'Dependents', 'InternetService', 'OnlineSecurity', 'OnlineBackup',\n",
    "              'DeviceProtection', 'TechSupport', 'StreamingTV', 'StreamingMovies',\n",
    "              'InternetPlan', 'MultipleLines', 'PhonePlan','SeniorCitizen']\n",
    "              \n",
    "numerical = ['MonthlyCharges', 'DaysUsed']"
   ]
  },
  {
   "cell_type": "code",
   "execution_count": 26,
   "metadata": {},
   "outputs": [],
   "source": [
    "#Установим последнюю версию scikit чтобы избежать ошибок при запуске на разных платформах\n",
    "# !pip install scikit-learn==1.1.2"
   ]
  },
  {
   "cell_type": "markdown",
   "metadata": {},
   "source": [
    "Так как мы решаем задачу бинарной классификации мы выбрали следующием модели для сравнения:\n",
    "* LogisticRegression\n",
    "* RandomForestClassifier\n",
    "* CatBoostClassifier\n",
    "\n",
    "Для определения оптимальной модели используем GridsearcCV с применением пайплайна, в пайплайне применим ColumnTransformer:\n",
    "* числовых признаков используем StandardScaler\n",
    "* для категориальных - OneHotEncoder \n",
    "\n",
    "Ввиду особенностей CatBoostClassifier, у которого есть встроенные методы работы с категориальными признаками cat_features=categorical (в препроцессоре для Catboost пропустим шаг обработки категориальных переменных), создадим отдельные пайпалайны для каждой модели и перебирем их циклом в GridsearcCV. \n",
    "\n",
    "Наиболее оптимальную модель выберем по результатам кроссвалидации KFold(n_splits=5) по величине метрике ROC AUC. "
   ]
  },
  {
   "cell_type": "code",
   "execution_count": 27,
   "metadata": {},
   "outputs": [],
   "source": [
    "# Создадим препроцессор для пайпалайна\n",
    "numeric_transformer = StandardScaler()\n",
    "\n",
    "categorical_transformer_ohe = OneHotEncoder(handle_unknown='infrequent_if_exist', drop = 'first')\n",
    "\n",
    "preprocessor = ColumnTransformer(\n",
    "                                 transformers=[\n",
    "                                                (\"num\", numeric_transformer, numerical),\n",
    "                                                (\"cat\", categorical_transformer_ohe, categorical),\n",
    "                                               ]\n",
    "                                )"
   ]
  },
  {
   "cell_type": "code",
   "execution_count": 28,
   "metadata": {},
   "outputs": [
    {
     "name": "stdout",
     "output_type": "stream",
     "text": [
      "Лучшие параметры GridSearch модели №1:\n"
     ]
    },
    {
     "data": {
      "text/plain": [
       "{'LogisticRegression__n_jobs': -1, 'LogisticRegression__solver': 'lbfgs'}"
      ]
     },
     "metadata": {},
     "output_type": "display_data"
    },
    {
     "name": "stdout",
     "output_type": "stream",
     "text": [
      "Лучший ROC-AUC Score train: 0.8424\n",
      "\n",
      "< < ==================================================================== > >\n",
      "\n",
      "Лучшие параметры GridSearch модели №2:\n"
     ]
    },
    {
     "data": {
      "text/plain": [
       "{'RandomForestClassifier__max_depth': 10,\n",
       " 'RandomForestClassifier__min_samples_leaf': 10,\n",
       " 'RandomForestClassifier__min_samples_split': 2,\n",
       " 'RandomForestClassifier__n_estimators': 100}"
      ]
     },
     "metadata": {},
     "output_type": "display_data"
    },
    {
     "name": "stdout",
     "output_type": "stream",
     "text": [
      "Лучший ROC-AUC Score train: 0.857\n",
      "\n",
      "< < ==================================================================== > >\n",
      "\n",
      "Лучшие параметры GridSearch модели №3:\n"
     ]
    },
    {
     "data": {
      "text/plain": [
       "{'CatBoost__depth': 3,\n",
       " 'CatBoost__iterations': 500,\n",
       " 'CatBoost__l2_leaf_reg': 4,\n",
       " 'CatBoost__learning_rate': 0.5,\n",
       " 'CatBoost__silent': True,\n",
       " 'CatBoost__thread_count': -1}"
      ]
     },
     "metadata": {},
     "output_type": "display_data"
    },
    {
     "name": "stdout",
     "output_type": "stream",
     "text": [
      "Лучший ROC-AUC Score train: 0.923\n",
      "\n",
      "< < ==================================================================== > >\n",
      "\n"
     ]
    }
   ],
   "source": [
    "RANDOM_STATE = 270223\n",
    "SCORING = 'roc_auc'\n",
    "\n",
    "\n",
    "cv = KFold(n_splits=5, shuffle=True)\n",
    "\n",
    "# пайпалайн для модели LogisticRegression\n",
    "pipeline1 = Pipeline((\n",
    "    ('preprocessor', preprocessor),\n",
    "    ('LogisticRegression', LogisticRegression(random_state=RANDOM_STATE)),\n",
    "    ))\n",
    "\n",
    "# пайпалайн для модели RandomForestClassifier\n",
    "pipeline2 = Pipeline((\n",
    "    ('preprocessor', preprocessor),\n",
    "    ('RandomForestClassifier', RandomForestClassifier(random_state=RANDOM_STATE)),\n",
    "    ))\n",
    "\n",
    "# пайпалайн для модели CatBoostClassifier\n",
    "pipeline3 = Pipeline((\n",
    "    ('CatBoost', CatBoostClassifier(cat_features=categorical, random_state=RANDOM_STATE)),\n",
    "    ))\n",
    "\n",
    "# параметры для модели LogisticRegression\n",
    "param1 = {}\n",
    "param1['LogisticRegression__solver'] = ['lbfgs']\n",
    "param1['LogisticRegression__n_jobs'] = [-1]\n",
    "\n",
    "# параметры для модели RandomForestClassifier\n",
    "param2 = {}\n",
    "param2['RandomForestClassifier__max_depth'] = [5, 10, 20]\n",
    "param2['RandomForestClassifier__min_samples_split'] = [2, 10]\n",
    "param2['RandomForestClassifier__min_samples_leaf'] = [2, 10]\n",
    "param2['RandomForestClassifier__n_estimators'] = [10, 50, 100]\n",
    "\n",
    "# параметры для модели CatBoostClassifier\n",
    "param3 = {}\n",
    "param3['CatBoost__depth'] =  [3, 5]\n",
    "param3['CatBoost__iterations'] =  [500]\n",
    "param3['CatBoost__learning_rate'] = [0.1, 0.5]\n",
    "param3['CatBoost__thread_count']  = [-1]\n",
    "param3['CatBoost__l2_leaf_reg']  = [4, 5]\n",
    "param3['CatBoost__silent'] = [True]\n",
    "\n",
    "pars = [param1, param2, param3]\n",
    "pips = [pipeline1, pipeline2, pipeline3]\n",
    "\n",
    "# в цикле переберем и выведем олучшие параметры для трех моделей\n",
    "for i in range(len(pars)):\n",
    "    gs = GridSearchCV(pips[i], pars[i], n_jobs=-1,cv = cv, scoring=SCORING)\n",
    "    gs = gs.fit(X, y)\n",
    "    print(f'Лучшие параметры GridSearch модели №{i+1}:')\n",
    "    display(gs.best_params_)\n",
    "    print('Лучший ROC-AUC Score train:', gs.best_score_.round(4))\n",
    "    print('')\n",
    "    print('< < ==================================================================== > >')\n",
    "    print('')"
   ]
  },
  {
   "cell_type": "markdown",
   "metadata": {},
   "source": [
    "По результатам GridSearchCV мы получили следующием метрики ROC-AUC на обучающей выборке:\n",
    "* LogisticRegression - 0.8447\n",
    "* RandomForestClassifier - 0.8589\n",
    "* CatBoostClassifier - 0.9228\n",
    "\n",
    "Для валидации модели на тестовой выборке выбреме CatBoostClassifier со следующими параметрами \n",
    "\n",
    "* depth = 3\n",
    "* iterations = 500\n",
    "* l2_leaf_reg = 4\n",
    "* learning_rate = 0.5\n",
    "* thread_count = -1\n",
    "\n",
    "далее чтобы не запускать весь код снова используем параметр GridSearchCV best_estimator_ для расчета ROC-AUC на тестовой выборке и построения графика важности признаков"
   ]
  },
  {
   "cell_type": "code",
   "execution_count": 29,
   "metadata": {},
   "outputs": [
    {
     "name": "stdout",
     "output_type": "stream",
     "text": [
      "ROC-AUC Test Score 0.9446\n"
     ]
    },
    {
     "data": {
      "text/html": [
       "<div>\n",
       "<style scoped>\n",
       "    .dataframe tbody tr th:only-of-type {\n",
       "        vertical-align: middle;\n",
       "    }\n",
       "\n",
       "    .dataframe tbody tr th {\n",
       "        vertical-align: top;\n",
       "    }\n",
       "\n",
       "    .dataframe thead th {\n",
       "        text-align: right;\n",
       "    }\n",
       "</style>\n",
       "<table border=\"1\" class=\"dataframe\">\n",
       "  <thead>\n",
       "    <tr style=\"text-align: right;\">\n",
       "      <th></th>\n",
       "      <th>importances</th>\n",
       "    </tr>\n",
       "  </thead>\n",
       "  <tbody>\n",
       "    <tr>\n",
       "      <th>DaysUsed</th>\n",
       "      <td>64.692677</td>\n",
       "    </tr>\n",
       "    <tr>\n",
       "      <th>MonthlyCharges</th>\n",
       "      <td>9.868124</td>\n",
       "    </tr>\n",
       "    <tr>\n",
       "      <th>InternetPlan</th>\n",
       "      <td>6.361715</td>\n",
       "    </tr>\n",
       "    <tr>\n",
       "      <th>Type</th>\n",
       "      <td>4.770230</td>\n",
       "    </tr>\n",
       "    <tr>\n",
       "      <th>InternetService</th>\n",
       "      <td>3.918213</td>\n",
       "    </tr>\n",
       "  </tbody>\n",
       "</table>\n",
       "</div>"
      ],
      "text/plain": [
       "                 importances\n",
       "DaysUsed           64.692677\n",
       "MonthlyCharges      9.868124\n",
       "InternetPlan        6.361715\n",
       "Type                4.770230\n",
       "InternetService     3.918213"
      ]
     },
     "metadata": {},
     "output_type": "display_data"
    },
    {
     "data": {
      "image/png": "[encoded data removed]",
      "text/plain": [
       "<Figure size 640x480 with 1 Axes>"
      ]
     },
     "metadata": {},
     "output_type": "display_data"
    }
   ],
   "source": [
    "#посчитаем предсказания модели на тестовой выборке\n",
    "predicted_model = gs.best_estimator_.predict_proba(X_test)[:, 1]\n",
    "\n",
    "feature_importances = pd.DataFrame(gs.best_estimator_[0].feature_importances_, index = X.columns, columns=['importances'])\n",
    "feature_importances = feature_importances.sort_values(by='importances', ascending=False)\n",
    "\n",
    "#рассчитаем ROC-AUC для тестовой выборки\n",
    "print('ROC-AUC Test Score', roc_auc_score(y_test, predicted_model).round(4))\n",
    "display(feature_importances.head())\n",
    "feature_importances.head().plot(kind='barh');"
   ]
  },
  {
   "cell_type": "markdown",
   "metadata": {},
   "source": [
    "Результат метрики на тестовой выборке **0.9446 что выше обозначенного заказчиком порогового значения**. \n",
    "\n",
    "Наибольшее влияние на результат расчета модели оказал выделенный нами признак DaysUsed. "
   ]
  },
  {
   "cell_type": "markdown",
   "metadata": {},
   "source": [
    "Рассчитаем ROC-AUC на тестовой выборке для CatBoostClassifier и построим визуализацию важности признаков\n",
    "\n"
   ]
  },
  {
   "cell_type": "markdown",
   "metadata": {},
   "source": [
    "Также по требованию заказчика необходимо построить ROC-кривую и матрицу ошибок"
   ]
  },
  {
   "cell_type": "code",
   "execution_count": 30,
   "metadata": {},
   "outputs": [
    {
     "data": {
      "image/png": "[encoded data removed]",
      "text/plain": [
       "<Figure size 800x500 with 1 Axes>"
      ]
     },
     "metadata": {},
     "output_type": "display_data"
    }
   ],
   "source": [
    "#построим ROC-AUC Curve\n",
    "plt.figure(figsize=[8,5])\n",
    "\n",
    "plt.plot([0, 1], [0, 1], linestyle='--', label='Случайная модель')\n",
    "\n",
    "fpr, tpr, thresholds = roc_curve(y_test, predicted_model)\n",
    "plt.plot(fpr, tpr, label='CatBoostClassifier')\n",
    "\n",
    "plt.xlim([0,1])\n",
    "plt.ylim([0,1])\n",
    "plt.xlabel(\"False Positive Rate\")\n",
    "plt.ylabel(\"True Positive Rate\")\n",
    "plt.legend(loc='lower right', fontsize='medium')\n",
    "plt.title(\"ROC кривая\")\n",
    "plt.show()"
   ]
  },
  {
   "cell_type": "code",
   "execution_count": 31,
   "metadata": {},
   "outputs": [
    {
     "name": "stderr",
     "output_type": "stream",
     "text": [
      "/Users/andrew/Documents/Python_projects/venv/lib/python3.10/site-packages/sklearn/utils/deprecation.py:87: FutureWarning: Function plot_confusion_matrix is deprecated; Function `plot_confusion_matrix` is deprecated in 1.0 and will be removed in 1.2. Use one of the class methods: ConfusionMatrixDisplay.from_predictions or ConfusionMatrixDisplay.from_estimator.\n",
      "  warnings.warn(msg, category=FutureWarning)\n"
     ]
    },
    {
     "data": {
      "image/png": "[encoded data removed]",
      "text/plain": [
       "<Figure size 640x480 with 2 Axes>"
      ]
     },
     "metadata": {},
     "output_type": "display_data"
    },
    {
     "name": "stdout",
     "output_type": "stream",
     "text": [
      "              precision    recall  f1-score   support\n",
      "\n",
      "           0       0.92      0.95      0.93      1294\n",
      "           1       0.84      0.76      0.80       464\n",
      "\n",
      "    accuracy                           0.90      1758\n",
      "   macro avg       0.88      0.86      0.87      1758\n",
      "weighted avg       0.90      0.90      0.90      1758\n",
      "\n"
     ]
    }
   ],
   "source": [
    "# построим confusion_matrix и выведем classification_report\n",
    "cm =confusion_matrix(y_test, predicted_model.round())\n",
    "matrix = plot_confusion_matrix(gs, X_test, y_test, cmap=plt.cm.Blues)\n",
    "plt.show();\n",
    "print(classification_report(y_test, predicted_model.round()))"
   ]
  },
  {
   "cell_type": "markdown",
   "metadata": {},
   "source": [
    "### 4. Итоговые выводы по проекту\n",
    "\n",
    "Для анализа нам были предоставлены заказчиком 4 датасета: \n",
    "- `contract.csv` — информация о договоре;\n",
    "- `personal.csv` — персональные данные клиента;\n",
    "- `internet.csv` — информация об интернет-услугах;\n",
    "- `phone.csv` — информация об услугах телефонии.\n",
    "\n",
    "Мы проанализировали предоставленные данные и выделили **следующие особенности**: \n",
    "* Все четыре датасета не содержали пропущенных значений. \n",
    "* В датасетах contract и personal **7043** записей, в internet и phone - **5517 и 6361** соотвтетственно.\n",
    "* целевой признак явным образом выделен не был. \n",
    "\n",
    "В ходе предобработки данных мы **выделили целевой признак Churn** и **дополнительный признак DaysUsed** (общее количество дней пользования контратком) на основе дат начала и окончания пользования услугами. Также выделили **признаки наличия контракта на пользование Телефоном и Интернетом**. \n",
    "\n",
    "В третьей части построения моделей мы выбрали 3х кандидатов для решения задачи бинарной классификации, которые показали следующие **результаты метрики AUC ROC на обучающей выборке**:\n",
    "* LogisticRegression - 0.8447\n",
    "* RandomForestClassifier - 0.8589 \n",
    "* CatBoostClassifier - 0.9228 \n",
    "\n",
    "Для моделирования мы использовали стэк: **Pipeline (ColumnTransformer: StandardScaler + OneHotEncoder) + GridsearcCV (KFold)**\n",
    "\n",
    "Мы протестировали CatBoostClassifier на тестовой выборке и получили результат метрики **AUC ROC - 0.9446** что выше обозначенного заказчиком порогового значения. \n",
    "\n",
    "Наибольшее влияние на результат расчета модели оказал выделенный нами признак DaysUsed. \n",
    "\n",
    "Цель проекта достигнута. "
   ]
  },
  {
   "cell_type": "markdown",
   "metadata": {},
   "source": [
    "# Отчет по проекту\n",
    "\n",
    "В соответствии с утвержденным планом работ были выделены три ключевых этапа: **подготовка данных**, **исследовательский анализ данных (EDA)** и этап **построения моделей**.\n",
    "**Все этапы плана работ были выполнены и поставленные задачи достигнуты.**\n",
    "\n",
    "Из основных трудностей при реализации проекта можно выделить **подготовку данных** и **выделение целевого признака**, а также **реализацию перебора моделей в едином цикле** с записью параметров лучшей модели в GridsearchCV.\n",
    "\n",
    "В части подготовки данных мы **проанализировали состав четырех исходных датасетов и выделили ключевые особенности**, а также **выделили** на основе нескольких признаков **целевой признак**.\n",
    "\n",
    "- На основе признаков BeginDate и EndDate выделили новый признак DaysUsed который отражал общее количество дней пользования контрактом.\n",
    "- Также на основании признака EndDate выделили целевой признак Churn - если указана дата окончания контракта, то целевой признак = 1, в обратном случае - 0.\n",
    "- Чтобы не потерять важные данные при объединении датасетов, мы добавили в таблицы internet и phone соответствующие признаки.\n",
    "- Так как наша задача не была связана с прогнозированием временных рядов, мы удалили признаки BeginDate и EndDate, после проведения вышеуказанных манипуляций с ними, чтобы не сбивать с толку модель.\n",
    "- Избавились от мультиколлинеарности признаков TotalCharges и DaysUsed - удалив TotalCharges. \n",
    "- После объединения датасетов появились пропуски, так как в исходных датасетах было разное количество записей, это обусловлено тем, что контракты на телефон и интернет заключаются поотдельности, заполнили пропуски значениями \"No\" .\n",
    "      \n",
    "Для реализации перебора моделей в GridsearchCV мы **использовали модицифировнный пайплайн** в котором **для каждой выбранной модели** прописали **уникальную предобработку данных**, после чего в цикле подставили значения в GridsearchCV и обучили модели. \n",
    "\n",
    "**Основной особенностью данного подхода является, то, что нам не нужно было запускать и обучать каждую модель по отдельности, а потом вручную сравнивать метрики качества, мы просто вывели best_score_ и best_param_ для каждой модели и в последующем для проверки модели на Тестовой выборке использовали model.best_estimator_.predict_proba(X_test)** \n",
    "\n",
    "Для моделирования мы использовали следующий стэк **Pipeline (ColumnTransformer: StandardScaler + OneHotEncoder) + GridsearcCV (KFold)**\n",
    "- Так как мы решаем задачу бинарной классификации мы выбрали следующием модели для сравнения: LogisticRegression, RandomForestClassifier, CatBoostClassifier\n",
    "- Для определения оптимальной модели используем GridsearcCV с применением пайплайна, в пайплайне применим ColumnTransformer: числовых признаков используем StandardScaler, для категориальных - OneHotEncoder \n",
    "- Ввиду особенностей CatBoostClassifier, у которого есть **встроенные методы работы с категориальными признаками** cat_features=categorical (в препроцессоре для Catboost мы пропустили шаг обработки категориальных переменных), создали **отдельные пайпалайны для каждой модели** и перебирали их циклом в GridsearcCV. \n",
    "- Наиболее оптимальную модель мы выбрали по результатам кроссвалидации **KFold(n_splits=5)** по величине метрике **ROC AUC**. \n",
    "\n",
    "На вход модели мы подавали датасет состоящий из следующих признаков: \n",
    "\n",
    "Type, PaperlessBilling, PaymentMethod, MonthlyCharges, DaysUsed, Gender, SeniorCitizen, Partner, Dependents, InternetService, OnlineSecurity, OnlineBackup, DeviceProtection,\n",
    "TechSupport, StreamingTV, StreamingMovies, InternetPlan, MultipleLines, PhonePlan\n",
    "\n",
    "На обучающей выборке по трем моделям мы получили следующие результаты метрики ROC AUC: \n",
    "* LogisticRegression - **0.8447**\n",
    "* RandomForestClassifier - **0.8589**\n",
    "* CatBoostClassifier - **0.9228** \n",
    "\n",
    "Наилучшее качество на обучающей выборке показала модель **CatBoostClassifier со следующими гиперпараметрами**:\n",
    "* depth = 3\n",
    "* iterations = 500\n",
    "* l2_leaf_reg = 4\n",
    "* learning_rate = 0.5\n",
    "* thread_count = -1\n",
    "\n",
    "После запуска модели **на тестовой выборке** с выбранными гиперпараметрами метрика качества **AUC ROC увеличилась** и составила  **0.9446** что выше обозначенного заказчиком порогового значения. \n",
    "\n",
    "**Наибольшее влияние** на результат расчета модели **оказал** выделенный нами **новый признак**, которого не было в исходном датасете - **DaysUsed**. \n",
    "\n",
    "**Цель проекта достигнута.**\n"
   ]
  }
 ],
 "metadata": {
  "ExecuteTimeLog": [
   {
    "duration": 401,
    "start_time": "2023-03-01T15:54:36.789Z"
   },
   {
    "duration": 3,
    "start_time": "2023-03-01T15:54:38.564Z"
   },
   {
    "duration": 101,
    "start_time": "2023-03-01T15:54:40.060Z"
   },
   {
    "duration": 3,
    "start_time": "2023-03-01T15:54:41.239Z"
   },
   {
    "duration": 79,
    "start_time": "2023-03-01T15:54:42.080Z"
   },
   {
    "duration": 4,
    "start_time": "2023-03-01T15:54:44.632Z"
   },
   {
    "duration": 19,
    "start_time": "2023-03-01T15:54:45.891Z"
   },
   {
    "duration": 33,
    "start_time": "2023-03-01T15:54:46.994Z"
   },
   {
    "duration": 14,
    "start_time": "2023-03-01T15:54:48.457Z"
   },
   {
    "duration": 15,
    "start_time": "2023-03-01T15:54:49.429Z"
   },
   {
    "duration": 14,
    "start_time": "2023-03-01T15:54:50.438Z"
   },
   {
    "duration": 4,
    "start_time": "2023-03-01T15:54:51.313Z"
   },
   {
    "duration": 4,
    "start_time": "2023-03-01T15:54:52.258Z"
   },
   {
    "duration": 66,
    "start_time": "2023-03-01T15:54:53.271Z"
   },
   {
    "duration": 21,
    "start_time": "2023-03-01T15:54:54.331Z"
   },
   {
    "duration": 7,
    "start_time": "2023-03-01T15:55:02.001Z"
   },
   {
    "duration": 219,
    "start_time": "2023-03-01T15:55:04.239Z"
   },
   {
    "duration": 568,
    "start_time": "2023-03-01T15:55:07.500Z"
   },
   {
    "duration": 26,
    "start_time": "2023-03-01T15:55:12.960Z"
   },
   {
    "duration": 1618,
    "start_time": "2023-03-01T15:55:34.515Z"
   },
   {
    "duration": 1423,
    "start_time": "2023-03-01T16:27:35.171Z"
   },
   {
    "duration": 3,
    "start_time": "2023-03-01T16:27:36.597Z"
   },
   {
    "duration": 119,
    "start_time": "2023-03-01T16:27:36.602Z"
   },
   {
    "duration": 3,
    "start_time": "2023-03-01T16:27:36.723Z"
   },
   {
    "duration": 72,
    "start_time": "2023-03-01T16:27:36.727Z"
   },
   {
    "duration": 5,
    "start_time": "2023-03-01T16:27:36.801Z"
   },
   {
    "duration": 45,
    "start_time": "2023-03-01T16:27:36.807Z"
   },
   {
    "duration": 31,
    "start_time": "2023-03-01T16:27:36.853Z"
   },
   {
    "duration": 14,
    "start_time": "2023-03-01T16:27:36.886Z"
   },
   {
    "duration": 14,
    "start_time": "2023-03-01T16:27:36.902Z"
   },
   {
    "duration": 42,
    "start_time": "2023-03-01T16:27:36.917Z"
   },
   {
    "duration": 4,
    "start_time": "2023-03-01T16:27:36.961Z"
   },
   {
    "duration": 8,
    "start_time": "2023-03-01T16:27:36.966Z"
   },
   {
    "duration": 89,
    "start_time": "2023-03-01T16:27:36.976Z"
   },
   {
    "duration": 24,
    "start_time": "2023-03-01T16:27:37.068Z"
   },
   {
    "duration": 7,
    "start_time": "2023-03-01T16:27:37.094Z"
   },
   {
    "duration": 248,
    "start_time": "2023-03-01T16:27:37.102Z"
   },
   {
    "duration": 578,
    "start_time": "2023-03-01T16:27:37.352Z"
   },
   {
    "duration": 35,
    "start_time": "2023-03-01T16:27:37.931Z"
   },
   {
    "duration": 1532,
    "start_time": "2023-03-01T16:27:37.968Z"
   },
   {
    "duration": 1744,
    "start_time": "2023-03-03T06:53:46.233Z"
   },
   {
    "duration": 4,
    "start_time": "2023-03-03T06:53:47.979Z"
   },
   {
    "duration": 453,
    "start_time": "2023-03-03T06:53:47.985Z"
   },
   {
    "duration": 3,
    "start_time": "2023-03-03T06:53:48.441Z"
   },
   {
    "duration": 101,
    "start_time": "2023-03-03T06:53:48.445Z"
   },
   {
    "duration": 5,
    "start_time": "2023-03-03T06:53:48.548Z"
   },
   {
    "duration": 16,
    "start_time": "2023-03-03T06:53:48.555Z"
   },
   {
    "duration": 42,
    "start_time": "2023-03-03T06:53:48.573Z"
   },
   {
    "duration": 16,
    "start_time": "2023-03-03T06:53:48.637Z"
   },
   {
    "duration": 15,
    "start_time": "2023-03-03T06:53:48.655Z"
   },
   {
    "duration": 14,
    "start_time": "2023-03-03T06:53:48.671Z"
   },
   {
    "duration": 4,
    "start_time": "2023-03-03T06:53:48.687Z"
   },
   {
    "duration": 8,
    "start_time": "2023-03-03T06:53:48.693Z"
   },
   {
    "duration": 109,
    "start_time": "2023-03-03T06:53:48.703Z"
   },
   {
    "duration": 43,
    "start_time": "2023-03-03T06:53:48.814Z"
   },
   {
    "duration": 6,
    "start_time": "2023-03-03T06:53:48.859Z"
   },
   {
    "duration": 250,
    "start_time": "2023-03-03T06:53:48.867Z"
   },
   {
    "duration": 665,
    "start_time": "2023-03-03T06:53:49.119Z"
   },
   {
    "duration": 24,
    "start_time": "2023-03-03T06:53:49.786Z"
   },
   {
    "duration": 1664,
    "start_time": "2023-03-03T06:53:49.812Z"
   },
   {
    "duration": 13,
    "start_time": "2023-03-03T06:53:51.478Z"
   },
   {
    "duration": 21,
    "start_time": "2023-03-03T06:53:51.492Z"
   },
   {
    "duration": 14,
    "start_time": "2023-03-03T06:53:51.516Z"
   },
   {
    "duration": 10,
    "start_time": "2023-03-03T06:53:51.532Z"
   },
   {
    "duration": 12,
    "start_time": "2023-03-03T06:53:51.544Z"
   },
   {
    "duration": 128,
    "start_time": "2023-03-03T06:53:51.559Z"
   },
   {
    "duration": 0,
    "start_time": "2023-03-03T06:53:51.689Z"
   },
   {
    "duration": 0,
    "start_time": "2023-03-03T06:53:51.691Z"
   },
   {
    "duration": 0,
    "start_time": "2023-03-03T06:53:51.692Z"
   },
   {
    "duration": 0,
    "start_time": "2023-03-03T06:53:51.693Z"
   },
   {
    "duration": 0,
    "start_time": "2023-03-03T06:53:51.695Z"
   },
   {
    "duration": 0,
    "start_time": "2023-03-03T06:53:51.696Z"
   },
   {
    "duration": 0,
    "start_time": "2023-03-03T06:53:51.697Z"
   },
   {
    "duration": 0,
    "start_time": "2023-03-03T06:53:51.699Z"
   },
   {
    "duration": 4,
    "start_time": "2023-03-03T06:54:38.104Z"
   },
   {
    "duration": 4,
    "start_time": "2023-03-03T06:57:56.917Z"
   },
   {
    "duration": 5,
    "start_time": "2023-03-03T06:57:59.000Z"
   },
   {
    "duration": 4,
    "start_time": "2023-03-03T06:58:03.174Z"
   },
   {
    "duration": 99721,
    "start_time": "2023-03-03T06:58:18.696Z"
   },
   {
    "duration": 6,
    "start_time": "2023-03-03T07:02:34.672Z"
   },
   {
    "duration": 31,
    "start_time": "2023-03-03T07:02:49.368Z"
   },
   {
    "duration": 246,
    "start_time": "2023-03-03T07:02:55.735Z"
   },
   {
    "duration": 92,
    "start_time": "2023-03-03T07:04:58.241Z"
   },
   {
    "duration": 5,
    "start_time": "2023-03-03T07:05:15.546Z"
   },
   {
    "duration": 3,
    "start_time": "2023-03-03T07:05:17.265Z"
   },
   {
    "duration": 41,
    "start_time": "2023-03-03T07:05:18.658Z"
   },
   {
    "duration": 5,
    "start_time": "2023-03-03T07:05:31.643Z"
   },
   {
    "duration": 4,
    "start_time": "2023-03-03T07:05:33.282Z"
   },
   {
    "duration": 102550,
    "start_time": "2023-03-03T07:05:34.649Z"
   },
   {
    "duration": 1428,
    "start_time": "2023-03-03T07:11:16.085Z"
   },
   {
    "duration": 4,
    "start_time": "2023-03-03T07:11:17.515Z"
   },
   {
    "duration": 127,
    "start_time": "2023-03-03T07:11:17.520Z"
   },
   {
    "duration": 3,
    "start_time": "2023-03-03T07:11:17.649Z"
   },
   {
    "duration": 99,
    "start_time": "2023-03-03T07:11:17.653Z"
   },
   {
    "duration": 5,
    "start_time": "2023-03-03T07:11:17.753Z"
   },
   {
    "duration": 20,
    "start_time": "2023-03-03T07:11:17.759Z"
   },
   {
    "duration": 58,
    "start_time": "2023-03-03T07:11:17.781Z"
   },
   {
    "duration": 15,
    "start_time": "2023-03-03T07:11:17.841Z"
   },
   {
    "duration": 15,
    "start_time": "2023-03-03T07:11:17.858Z"
   },
   {
    "duration": 27,
    "start_time": "2023-03-03T07:11:17.875Z"
   },
   {
    "duration": 4,
    "start_time": "2023-03-03T07:11:17.904Z"
   },
   {
    "duration": 29,
    "start_time": "2023-03-03T07:11:17.909Z"
   },
   {
    "duration": 77,
    "start_time": "2023-03-03T07:11:17.940Z"
   },
   {
    "duration": 40,
    "start_time": "2023-03-03T07:11:18.019Z"
   },
   {
    "duration": 20,
    "start_time": "2023-03-03T07:11:18.062Z"
   },
   {
    "duration": 244,
    "start_time": "2023-03-03T07:11:18.083Z"
   },
   {
    "duration": 643,
    "start_time": "2023-03-03T07:11:18.328Z"
   },
   {
    "duration": 30,
    "start_time": "2023-03-03T07:11:18.973Z"
   },
   {
    "duration": 1514,
    "start_time": "2023-03-03T07:11:19.005Z"
   },
   {
    "duration": 15,
    "start_time": "2023-03-03T07:11:20.521Z"
   },
   {
    "duration": 27,
    "start_time": "2023-03-03T07:11:20.537Z"
   },
   {
    "duration": 197,
    "start_time": "2023-03-03T07:11:20.565Z"
   },
   {
    "duration": 25,
    "start_time": "2023-03-03T07:11:20.763Z"
   },
   {
    "duration": 35,
    "start_time": "2023-03-03T07:11:20.790Z"
   },
   {
    "duration": 29,
    "start_time": "2023-03-03T07:11:20.826Z"
   },
   {
    "duration": 31,
    "start_time": "2023-03-03T07:11:20.857Z"
   },
   {
    "duration": 34,
    "start_time": "2023-03-03T07:11:20.892Z"
   },
   {
    "duration": 127,
    "start_time": "2023-03-03T07:11:20.928Z"
   },
   {
    "duration": 0,
    "start_time": "2023-03-03T07:11:21.057Z"
   },
   {
    "duration": 0,
    "start_time": "2023-03-03T07:11:21.058Z"
   },
   {
    "duration": 0,
    "start_time": "2023-03-03T07:11:21.060Z"
   },
   {
    "duration": 0,
    "start_time": "2023-03-03T07:11:21.061Z"
   },
   {
    "duration": 0,
    "start_time": "2023-03-03T07:11:21.062Z"
   },
   {
    "duration": 0,
    "start_time": "2023-03-03T07:11:21.063Z"
   },
   {
    "duration": 6,
    "start_time": "2023-03-03T07:15:35.444Z"
   },
   {
    "duration": 3,
    "start_time": "2023-03-03T07:15:39.235Z"
   },
   {
    "duration": 34,
    "start_time": "2023-03-03T07:15:44.861Z"
   },
   {
    "duration": 99570,
    "start_time": "2023-03-03T07:27:26.184Z"
   },
   {
    "duration": 6,
    "start_time": "2023-03-03T07:29:05.757Z"
   },
   {
    "duration": 43,
    "start_time": "2023-03-03T07:29:05.765Z"
   },
   {
    "duration": 263,
    "start_time": "2023-03-03T07:29:05.810Z"
   },
   {
    "duration": 9,
    "start_time": "2023-03-03T07:32:37.848Z"
   },
   {
    "duration": 87,
    "start_time": "2023-03-03T07:44:55.387Z"
   },
   {
    "duration": 4,
    "start_time": "2023-03-03T07:45:04.917Z"
   },
   {
    "duration": 4,
    "start_time": "2023-03-03T07:45:08.684Z"
   },
   {
    "duration": 26,
    "start_time": "2023-03-03T07:45:10.597Z"
   },
   {
    "duration": 58940,
    "start_time": "2023-03-03T07:45:20.575Z"
   },
   {
    "duration": 6,
    "start_time": "2023-03-03T07:46:19.517Z"
   },
   {
    "duration": 36,
    "start_time": "2023-03-03T07:46:19.525Z"
   },
   {
    "duration": 244,
    "start_time": "2023-03-03T07:46:19.563Z"
   },
   {
    "duration": 14,
    "start_time": "2023-03-03T07:47:51.045Z"
   },
   {
    "duration": 1611,
    "start_time": "2023-03-03T07:48:03.162Z"
   },
   {
    "duration": 4,
    "start_time": "2023-03-03T07:48:04.775Z"
   },
   {
    "duration": 177,
    "start_time": "2023-03-03T07:48:04.780Z"
   },
   {
    "duration": 3,
    "start_time": "2023-03-03T07:48:04.958Z"
   },
   {
    "duration": 107,
    "start_time": "2023-03-03T07:48:04.964Z"
   },
   {
    "duration": 5,
    "start_time": "2023-03-03T07:48:05.074Z"
   },
   {
    "duration": 27,
    "start_time": "2023-03-03T07:48:05.081Z"
   },
   {
    "duration": 62,
    "start_time": "2023-03-03T07:48:05.110Z"
   },
   {
    "duration": 19,
    "start_time": "2023-03-03T07:48:05.174Z"
   },
   {
    "duration": 29,
    "start_time": "2023-03-03T07:48:05.195Z"
   },
   {
    "duration": 20,
    "start_time": "2023-03-03T07:48:05.239Z"
   },
   {
    "duration": 29,
    "start_time": "2023-03-03T07:48:05.261Z"
   },
   {
    "duration": 39,
    "start_time": "2023-03-03T07:48:05.292Z"
   },
   {
    "duration": 136,
    "start_time": "2023-03-03T07:48:05.334Z"
   },
   {
    "duration": 23,
    "start_time": "2023-03-03T07:48:05.472Z"
   },
   {
    "duration": 24,
    "start_time": "2023-03-03T07:48:05.498Z"
   },
   {
    "duration": 269,
    "start_time": "2023-03-03T07:48:05.524Z"
   },
   {
    "duration": 712,
    "start_time": "2023-03-03T07:48:05.795Z"
   },
   {
    "duration": 31,
    "start_time": "2023-03-03T07:48:06.509Z"
   },
   {
    "duration": 1610,
    "start_time": "2023-03-03T07:48:06.542Z"
   },
   {
    "duration": 15,
    "start_time": "2023-03-03T07:48:08.154Z"
   },
   {
    "duration": 48,
    "start_time": "2023-03-03T07:48:08.171Z"
   },
   {
    "duration": 43,
    "start_time": "2023-03-03T07:48:08.221Z"
   },
   {
    "duration": 45,
    "start_time": "2023-03-03T07:48:08.266Z"
   },
   {
    "duration": 49,
    "start_time": "2023-03-03T07:48:08.313Z"
   },
   {
    "duration": 166,
    "start_time": "2023-03-03T07:48:08.364Z"
   },
   {
    "duration": 0,
    "start_time": "2023-03-03T07:48:08.538Z"
   },
   {
    "duration": 1,
    "start_time": "2023-03-03T07:48:08.539Z"
   },
   {
    "duration": 0,
    "start_time": "2023-03-03T07:48:08.541Z"
   },
   {
    "duration": 0,
    "start_time": "2023-03-03T07:48:08.542Z"
   },
   {
    "duration": 0,
    "start_time": "2023-03-03T07:48:08.543Z"
   },
   {
    "duration": 0,
    "start_time": "2023-03-03T07:48:08.544Z"
   },
   {
    "duration": 0,
    "start_time": "2023-03-03T07:48:08.545Z"
   },
   {
    "duration": 0,
    "start_time": "2023-03-03T07:48:08.547Z"
   },
   {
    "duration": 0,
    "start_time": "2023-03-03T07:48:08.548Z"
   },
   {
    "duration": 0,
    "start_time": "2023-03-03T07:48:08.549Z"
   },
   {
    "duration": 3,
    "start_time": "2023-03-03T07:48:17.574Z"
   },
   {
    "duration": 14,
    "start_time": "2023-03-03T07:49:19.853Z"
   },
   {
    "duration": 11,
    "start_time": "2023-03-03T07:49:46.367Z"
   },
   {
    "duration": 5,
    "start_time": "2023-03-03T07:50:44.920Z"
   },
   {
    "duration": 11,
    "start_time": "2023-03-03T07:50:56.230Z"
   },
   {
    "duration": 12,
    "start_time": "2023-03-03T07:51:09.695Z"
   },
   {
    "duration": 4,
    "start_time": "2023-03-03T07:51:48.630Z"
   },
   {
    "duration": 1724,
    "start_time": "2023-03-03T07:52:11.514Z"
   },
   {
    "duration": 4,
    "start_time": "2023-03-03T07:52:13.240Z"
   },
   {
    "duration": 138,
    "start_time": "2023-03-03T07:52:13.246Z"
   },
   {
    "duration": 3,
    "start_time": "2023-03-03T07:52:13.386Z"
   },
   {
    "duration": 97,
    "start_time": "2023-03-03T07:52:13.391Z"
   },
   {
    "duration": 5,
    "start_time": "2023-03-03T07:52:13.490Z"
   },
   {
    "duration": 51,
    "start_time": "2023-03-03T07:52:13.497Z"
   },
   {
    "duration": 36,
    "start_time": "2023-03-03T07:52:13.550Z"
   },
   {
    "duration": 17,
    "start_time": "2023-03-03T07:52:13.587Z"
   },
   {
    "duration": 42,
    "start_time": "2023-03-03T07:52:13.607Z"
   },
   {
    "duration": 34,
    "start_time": "2023-03-03T07:52:13.651Z"
   },
   {
    "duration": 29,
    "start_time": "2023-03-03T07:52:13.687Z"
   },
   {
    "duration": 24,
    "start_time": "2023-03-03T07:52:13.718Z"
   },
   {
    "duration": 115,
    "start_time": "2023-03-03T07:52:13.744Z"
   },
   {
    "duration": 24,
    "start_time": "2023-03-03T07:52:13.861Z"
   },
   {
    "duration": 32,
    "start_time": "2023-03-03T07:52:13.887Z"
   },
   {
    "duration": 275,
    "start_time": "2023-03-03T07:52:13.921Z"
   },
   {
    "duration": 676,
    "start_time": "2023-03-03T07:52:14.198Z"
   },
   {
    "duration": 25,
    "start_time": "2023-03-03T07:52:14.876Z"
   },
   {
    "duration": 1574,
    "start_time": "2023-03-03T07:52:14.902Z"
   },
   {
    "duration": 12,
    "start_time": "2023-03-03T07:52:16.478Z"
   },
   {
    "duration": 24,
    "start_time": "2023-03-03T07:52:16.492Z"
   },
   {
    "duration": 8,
    "start_time": "2023-03-03T07:52:16.517Z"
   },
   {
    "duration": 16,
    "start_time": "2023-03-03T07:52:16.527Z"
   },
   {
    "duration": 15,
    "start_time": "2023-03-03T07:52:16.545Z"
   },
   {
    "duration": 130,
    "start_time": "2023-03-03T07:52:16.563Z"
   },
   {
    "duration": 0,
    "start_time": "2023-03-03T07:52:16.695Z"
   },
   {
    "duration": 0,
    "start_time": "2023-03-03T07:52:16.696Z"
   },
   {
    "duration": 0,
    "start_time": "2023-03-03T07:52:16.698Z"
   },
   {
    "duration": 0,
    "start_time": "2023-03-03T07:52:16.699Z"
   },
   {
    "duration": 0,
    "start_time": "2023-03-03T07:52:16.700Z"
   },
   {
    "duration": 1,
    "start_time": "2023-03-03T07:52:16.701Z"
   },
   {
    "duration": 0,
    "start_time": "2023-03-03T07:52:16.703Z"
   },
   {
    "duration": 0,
    "start_time": "2023-03-03T07:52:16.704Z"
   },
   {
    "duration": 0,
    "start_time": "2023-03-03T07:52:16.706Z"
   },
   {
    "duration": 0,
    "start_time": "2023-03-03T07:52:16.707Z"
   },
   {
    "duration": 6,
    "start_time": "2023-03-03T07:52:35.887Z"
   },
   {
    "duration": 6,
    "start_time": "2023-03-03T07:52:51.831Z"
   },
   {
    "duration": 12,
    "start_time": "2023-03-03T07:53:09.376Z"
   },
   {
    "duration": 11,
    "start_time": "2023-03-03T07:53:17.193Z"
   },
   {
    "duration": 1617,
    "start_time": "2023-03-03T07:53:52.930Z"
   },
   {
    "duration": 4,
    "start_time": "2023-03-03T07:53:54.549Z"
   },
   {
    "duration": 128,
    "start_time": "2023-03-03T07:53:54.555Z"
   },
   {
    "duration": 3,
    "start_time": "2023-03-03T07:53:54.685Z"
   },
   {
    "duration": 96,
    "start_time": "2023-03-03T07:53:54.690Z"
   },
   {
    "duration": 5,
    "start_time": "2023-03-03T07:53:54.788Z"
   },
   {
    "duration": 52,
    "start_time": "2023-03-03T07:53:54.796Z"
   },
   {
    "duration": 39,
    "start_time": "2023-03-03T07:53:54.851Z"
   },
   {
    "duration": 17,
    "start_time": "2023-03-03T07:53:54.892Z"
   },
   {
    "duration": 16,
    "start_time": "2023-03-03T07:53:54.940Z"
   },
   {
    "duration": 22,
    "start_time": "2023-03-03T07:53:54.957Z"
   },
   {
    "duration": 126,
    "start_time": "2023-03-03T07:53:54.980Z"
   },
   {
    "duration": 12,
    "start_time": "2023-03-03T07:53:55.108Z"
   },
   {
    "duration": 90,
    "start_time": "2023-03-03T07:53:55.122Z"
   },
   {
    "duration": 33,
    "start_time": "2023-03-03T07:53:55.214Z"
   },
   {
    "duration": 7,
    "start_time": "2023-03-03T07:53:55.249Z"
   },
   {
    "duration": 264,
    "start_time": "2023-03-03T07:53:55.258Z"
   },
   {
    "duration": 676,
    "start_time": "2023-03-03T07:53:55.524Z"
   },
   {
    "duration": 38,
    "start_time": "2023-03-03T07:53:56.202Z"
   },
   {
    "duration": 1614,
    "start_time": "2023-03-03T07:53:56.242Z"
   },
   {
    "duration": 11,
    "start_time": "2023-03-03T07:53:57.857Z"
   },
   {
    "duration": 17,
    "start_time": "2023-03-03T07:53:57.870Z"
   },
   {
    "duration": 6,
    "start_time": "2023-03-03T07:53:57.889Z"
   },
   {
    "duration": 8,
    "start_time": "2023-03-03T07:53:57.897Z"
   },
   {
    "duration": 11,
    "start_time": "2023-03-03T07:53:57.906Z"
   },
   {
    "duration": 5,
    "start_time": "2023-03-03T07:53:57.938Z"
   },
   {
    "duration": 7,
    "start_time": "2023-03-03T07:53:57.944Z"
   },
   {
    "duration": 12,
    "start_time": "2023-03-03T07:53:57.955Z"
   },
   {
    "duration": 6,
    "start_time": "2023-03-03T07:53:57.969Z"
   },
   {
    "duration": 7,
    "start_time": "2023-03-03T07:53:57.977Z"
   },
   {
    "duration": 6,
    "start_time": "2023-03-03T07:53:57.985Z"
   },
   {
    "duration": 46,
    "start_time": "2023-03-03T07:53:57.993Z"
   },
   {
    "duration": 1586,
    "start_time": "2023-03-03T07:54:39.146Z"
   },
   {
    "duration": 3,
    "start_time": "2023-03-03T07:54:40.735Z"
   },
   {
    "duration": 124,
    "start_time": "2023-03-03T07:54:40.740Z"
   },
   {
    "duration": 3,
    "start_time": "2023-03-03T07:54:40.865Z"
   },
   {
    "duration": 96,
    "start_time": "2023-03-03T07:54:40.870Z"
   },
   {
    "duration": 6,
    "start_time": "2023-03-03T07:54:40.967Z"
   },
   {
    "duration": 21,
    "start_time": "2023-03-03T07:54:40.974Z"
   },
   {
    "duration": 66,
    "start_time": "2023-03-03T07:54:40.997Z"
   },
   {
    "duration": 16,
    "start_time": "2023-03-03T07:54:41.065Z"
   },
   {
    "duration": 20,
    "start_time": "2023-03-03T07:54:41.083Z"
   },
   {
    "duration": 34,
    "start_time": "2023-03-03T07:54:41.105Z"
   },
   {
    "duration": 4,
    "start_time": "2023-03-03T07:54:41.141Z"
   },
   {
    "duration": 12,
    "start_time": "2023-03-03T07:54:41.147Z"
   },
   {
    "duration": 89,
    "start_time": "2023-03-03T07:54:41.162Z"
   },
   {
    "duration": 23,
    "start_time": "2023-03-03T07:54:41.252Z"
   },
   {
    "duration": 11,
    "start_time": "2023-03-03T07:54:41.277Z"
   },
   {
    "duration": 252,
    "start_time": "2023-03-03T07:54:41.289Z"
   },
   {
    "duration": 668,
    "start_time": "2023-03-03T07:54:41.543Z"
   },
   {
    "duration": 36,
    "start_time": "2023-03-03T07:54:42.213Z"
   },
   {
    "duration": 1697,
    "start_time": "2023-03-03T07:54:42.251Z"
   },
   {
    "duration": 11,
    "start_time": "2023-03-03T07:54:43.950Z"
   },
   {
    "duration": 35,
    "start_time": "2023-03-03T07:54:43.963Z"
   },
   {
    "duration": 41,
    "start_time": "2023-03-03T07:54:44.000Z"
   },
   {
    "duration": 30,
    "start_time": "2023-03-03T07:54:44.043Z"
   },
   {
    "duration": 27,
    "start_time": "2023-03-03T07:54:44.075Z"
   },
   {
    "duration": 32,
    "start_time": "2023-03-03T07:54:44.104Z"
   },
   {
    "duration": 29,
    "start_time": "2023-03-03T07:54:44.138Z"
   },
   {
    "duration": 23,
    "start_time": "2023-03-03T07:54:44.169Z"
   },
   {
    "duration": 10,
    "start_time": "2023-03-03T07:54:44.193Z"
   },
   {
    "duration": 44,
    "start_time": "2023-03-03T07:54:44.204Z"
   },
   {
    "duration": 30,
    "start_time": "2023-03-03T07:54:44.250Z"
   },
   {
    "duration": 31,
    "start_time": "2023-03-03T07:54:44.281Z"
   },
   {
    "duration": 290,
    "start_time": "2023-03-03T07:54:44.314Z"
   },
   {
    "duration": 0,
    "start_time": "2023-03-03T07:54:44.606Z"
   },
   {
    "duration": 0,
    "start_time": "2023-03-03T07:54:44.608Z"
   },
   {
    "duration": 0,
    "start_time": "2023-03-03T07:54:44.609Z"
   },
   {
    "duration": 1651,
    "start_time": "2023-03-03T07:56:00.047Z"
   },
   {
    "duration": 3,
    "start_time": "2023-03-03T07:56:01.701Z"
   },
   {
    "duration": 159,
    "start_time": "2023-03-03T07:56:01.706Z"
   },
   {
    "duration": 3,
    "start_time": "2023-03-03T07:56:01.867Z"
   },
   {
    "duration": 110,
    "start_time": "2023-03-03T07:56:01.872Z"
   },
   {
    "duration": 6,
    "start_time": "2023-03-03T07:56:01.983Z"
   },
   {
    "duration": 48,
    "start_time": "2023-03-03T07:56:01.990Z"
   },
   {
    "duration": 65,
    "start_time": "2023-03-03T07:56:02.040Z"
   },
   {
    "duration": 55,
    "start_time": "2023-03-03T07:56:02.107Z"
   },
   {
    "duration": 78,
    "start_time": "2023-03-03T07:56:02.164Z"
   },
   {
    "duration": 55,
    "start_time": "2023-03-03T07:56:02.245Z"
   },
   {
    "duration": 36,
    "start_time": "2023-03-03T07:56:02.302Z"
   },
   {
    "duration": 61,
    "start_time": "2023-03-03T07:56:02.340Z"
   },
   {
    "duration": 131,
    "start_time": "2023-03-03T07:56:02.406Z"
   },
   {
    "duration": 32,
    "start_time": "2023-03-03T07:56:02.539Z"
   },
   {
    "duration": 47,
    "start_time": "2023-03-03T07:56:02.573Z"
   },
   {
    "duration": 265,
    "start_time": "2023-03-03T07:56:02.622Z"
   },
   {
    "duration": 687,
    "start_time": "2023-03-03T07:56:02.889Z"
   },
   {
    "duration": 25,
    "start_time": "2023-03-03T07:56:03.578Z"
   },
   {
    "duration": 1575,
    "start_time": "2023-03-03T07:56:03.605Z"
   },
   {
    "duration": 13,
    "start_time": "2023-03-03T07:56:05.182Z"
   },
   {
    "duration": 18,
    "start_time": "2023-03-03T07:56:05.197Z"
   },
   {
    "duration": 9,
    "start_time": "2023-03-03T07:56:05.218Z"
   },
   {
    "duration": 24,
    "start_time": "2023-03-03T07:56:05.229Z"
   },
   {
    "duration": 11,
    "start_time": "2023-03-03T07:56:05.254Z"
   },
   {
    "duration": 8,
    "start_time": "2023-03-03T07:56:05.267Z"
   },
   {
    "duration": 9,
    "start_time": "2023-03-03T07:56:05.277Z"
   },
   {
    "duration": 10,
    "start_time": "2023-03-03T07:56:05.287Z"
   },
   {
    "duration": 5,
    "start_time": "2023-03-03T07:56:05.299Z"
   },
   {
    "duration": 13,
    "start_time": "2023-03-03T07:56:05.306Z"
   },
   {
    "duration": 8,
    "start_time": "2023-03-03T07:56:05.321Z"
   },
   {
    "duration": 19,
    "start_time": "2023-03-03T07:56:05.331Z"
   },
   {
    "duration": 5836,
    "start_time": "2023-03-03T07:56:05.352Z"
   },
   {
    "duration": 0,
    "start_time": "2023-03-03T07:56:11.189Z"
   },
   {
    "duration": 0,
    "start_time": "2023-03-03T07:56:11.191Z"
   },
   {
    "duration": 0,
    "start_time": "2023-03-03T07:56:11.192Z"
   },
   {
    "duration": 1650,
    "start_time": "2023-03-03T07:56:58.138Z"
   },
   {
    "duration": 3,
    "start_time": "2023-03-03T07:56:59.790Z"
   },
   {
    "duration": 129,
    "start_time": "2023-03-03T07:56:59.795Z"
   },
   {
    "duration": 3,
    "start_time": "2023-03-03T07:56:59.926Z"
   },
   {
    "duration": 82,
    "start_time": "2023-03-03T07:56:59.931Z"
   },
   {
    "duration": 5,
    "start_time": "2023-03-03T07:57:00.038Z"
   },
   {
    "duration": 20,
    "start_time": "2023-03-03T07:57:00.046Z"
   },
   {
    "duration": 49,
    "start_time": "2023-03-03T07:57:00.068Z"
   },
   {
    "duration": 34,
    "start_time": "2023-03-03T07:57:00.119Z"
   },
   {
    "duration": 22,
    "start_time": "2023-03-03T07:57:00.156Z"
   },
   {
    "duration": 23,
    "start_time": "2023-03-03T07:57:00.180Z"
   },
   {
    "duration": 12,
    "start_time": "2023-03-03T07:57:00.205Z"
   },
   {
    "duration": 21,
    "start_time": "2023-03-03T07:57:00.219Z"
   },
   {
    "duration": 88,
    "start_time": "2023-03-03T07:57:00.244Z"
   },
   {
    "duration": 25,
    "start_time": "2023-03-03T07:57:00.337Z"
   },
   {
    "duration": 54,
    "start_time": "2023-03-03T07:57:00.364Z"
   },
   {
    "duration": 262,
    "start_time": "2023-03-03T07:57:00.420Z"
   },
   {
    "duration": 676,
    "start_time": "2023-03-03T07:57:00.684Z"
   },
   {
    "duration": 27,
    "start_time": "2023-03-03T07:57:01.362Z"
   },
   {
    "duration": 1705,
    "start_time": "2023-03-03T07:57:01.391Z"
   },
   {
    "duration": 12,
    "start_time": "2023-03-03T07:57:03.098Z"
   },
   {
    "duration": 67,
    "start_time": "2023-03-03T07:57:03.112Z"
   },
   {
    "duration": 22,
    "start_time": "2023-03-03T07:57:03.181Z"
   },
   {
    "duration": 16,
    "start_time": "2023-03-03T07:57:03.205Z"
   },
   {
    "duration": 33,
    "start_time": "2023-03-03T07:57:03.223Z"
   },
   {
    "duration": 31,
    "start_time": "2023-03-03T07:57:03.258Z"
   },
   {
    "duration": 11,
    "start_time": "2023-03-03T07:57:03.291Z"
   },
   {
    "duration": 11,
    "start_time": "2023-03-03T07:57:03.303Z"
   },
   {
    "duration": 8,
    "start_time": "2023-03-03T07:57:03.316Z"
   },
   {
    "duration": 22,
    "start_time": "2023-03-03T07:57:03.326Z"
   },
   {
    "duration": 11,
    "start_time": "2023-03-03T07:57:03.350Z"
   },
   {
    "duration": 60,
    "start_time": "2023-03-03T07:57:03.363Z"
   },
   {
    "duration": 59680,
    "start_time": "2023-03-03T07:57:03.425Z"
   },
   {
    "duration": 6,
    "start_time": "2023-03-03T07:58:03.107Z"
   },
   {
    "duration": 72,
    "start_time": "2023-03-03T07:58:03.114Z"
   },
   {
    "duration": 297,
    "start_time": "2023-03-03T07:58:03.188Z"
   },
   {
    "duration": 5,
    "start_time": "2023-03-03T07:59:57.231Z"
   },
   {
    "duration": 3,
    "start_time": "2023-03-03T07:59:58.799Z"
   },
   {
    "duration": 16,
    "start_time": "2023-03-03T08:00:01.486Z"
   },
   {
    "duration": 136,
    "start_time": "2023-03-03T08:00:04.376Z"
   },
   {
    "duration": 1633,
    "start_time": "2023-03-03T08:00:17.244Z"
   },
   {
    "duration": 3,
    "start_time": "2023-03-03T08:00:18.880Z"
   },
   {
    "duration": 138,
    "start_time": "2023-03-03T08:00:18.885Z"
   },
   {
    "duration": 3,
    "start_time": "2023-03-03T08:00:19.025Z"
   },
   {
    "duration": 110,
    "start_time": "2023-03-03T08:00:19.030Z"
   },
   {
    "duration": 7,
    "start_time": "2023-03-03T08:00:19.142Z"
   },
   {
    "duration": 27,
    "start_time": "2023-03-03T08:00:19.152Z"
   },
   {
    "duration": 59,
    "start_time": "2023-03-03T08:00:19.181Z"
   },
   {
    "duration": 19,
    "start_time": "2023-03-03T08:00:19.242Z"
   },
   {
    "duration": 23,
    "start_time": "2023-03-03T08:00:19.265Z"
   },
   {
    "duration": 19,
    "start_time": "2023-03-03T08:00:19.290Z"
   },
   {
    "duration": 29,
    "start_time": "2023-03-03T08:00:19.312Z"
   },
   {
    "duration": 27,
    "start_time": "2023-03-03T08:00:19.344Z"
   },
   {
    "duration": 119,
    "start_time": "2023-03-03T08:00:19.372Z"
   },
   {
    "duration": 24,
    "start_time": "2023-03-03T08:00:19.493Z"
   },
   {
    "duration": 25,
    "start_time": "2023-03-03T08:00:19.519Z"
   },
   {
    "duration": 257,
    "start_time": "2023-03-03T08:00:19.547Z"
   },
   {
    "duration": 754,
    "start_time": "2023-03-03T08:00:19.806Z"
   },
   {
    "duration": 26,
    "start_time": "2023-03-03T08:00:20.562Z"
   },
   {
    "duration": 1681,
    "start_time": "2023-03-03T08:00:20.591Z"
   },
   {
    "duration": 11,
    "start_time": "2023-03-03T08:00:22.274Z"
   },
   {
    "duration": 22,
    "start_time": "2023-03-03T08:00:22.287Z"
   },
   {
    "duration": 13,
    "start_time": "2023-03-03T08:00:22.311Z"
   },
   {
    "duration": 32,
    "start_time": "2023-03-03T08:00:22.325Z"
   },
   {
    "duration": 21,
    "start_time": "2023-03-03T08:00:22.359Z"
   },
   {
    "duration": 21,
    "start_time": "2023-03-03T08:00:22.382Z"
   },
   {
    "duration": 27,
    "start_time": "2023-03-03T08:00:22.405Z"
   },
   {
    "duration": 53,
    "start_time": "2023-03-03T08:00:22.437Z"
   },
   {
    "duration": 16,
    "start_time": "2023-03-03T08:00:22.492Z"
   },
   {
    "duration": 10,
    "start_time": "2023-03-03T08:00:22.510Z"
   },
   {
    "duration": 13,
    "start_time": "2023-03-03T08:00:22.522Z"
   },
   {
    "duration": 51,
    "start_time": "2023-03-03T08:00:22.537Z"
   },
   {
    "duration": 1577,
    "start_time": "2023-03-03T08:00:22.590Z"
   },
   {
    "duration": 0,
    "start_time": "2023-03-03T08:00:24.169Z"
   },
   {
    "duration": 0,
    "start_time": "2023-03-03T08:00:24.170Z"
   },
   {
    "duration": 0,
    "start_time": "2023-03-03T08:00:24.171Z"
   },
   {
    "duration": 1655,
    "start_time": "2023-03-03T08:01:49.892Z"
   },
   {
    "duration": 12,
    "start_time": "2023-03-03T08:01:51.551Z"
   },
   {
    "duration": 126,
    "start_time": "2023-03-03T08:01:51.565Z"
   },
   {
    "duration": 3,
    "start_time": "2023-03-03T08:01:51.693Z"
   },
   {
    "duration": 91,
    "start_time": "2023-03-03T08:01:51.697Z"
   },
   {
    "duration": 5,
    "start_time": "2023-03-03T08:01:51.790Z"
   },
   {
    "duration": 49,
    "start_time": "2023-03-03T08:01:51.797Z"
   },
   {
    "duration": 59,
    "start_time": "2023-03-03T08:01:51.848Z"
   },
   {
    "duration": 15,
    "start_time": "2023-03-03T08:01:51.909Z"
   },
   {
    "duration": 26,
    "start_time": "2023-03-03T08:01:51.926Z"
   },
   {
    "duration": 18,
    "start_time": "2023-03-03T08:01:51.954Z"
   },
   {
    "duration": 4,
    "start_time": "2023-03-03T08:01:51.974Z"
   },
   {
    "duration": 21,
    "start_time": "2023-03-03T08:01:51.980Z"
   },
   {
    "duration": 85,
    "start_time": "2023-03-03T08:01:52.003Z"
   },
   {
    "duration": 24,
    "start_time": "2023-03-03T08:01:52.090Z"
   },
   {
    "duration": 30,
    "start_time": "2023-03-03T08:01:52.116Z"
   },
   {
    "duration": 293,
    "start_time": "2023-03-03T08:01:52.147Z"
   },
   {
    "duration": 753,
    "start_time": "2023-03-03T08:01:52.441Z"
   },
   {
    "duration": 25,
    "start_time": "2023-03-03T08:01:53.195Z"
   },
   {
    "duration": 1563,
    "start_time": "2023-03-03T08:01:53.221Z"
   },
   {
    "duration": 11,
    "start_time": "2023-03-03T08:01:54.785Z"
   },
   {
    "duration": 17,
    "start_time": "2023-03-03T08:01:54.798Z"
   },
   {
    "duration": 12,
    "start_time": "2023-03-03T08:01:54.816Z"
   },
   {
    "duration": 18,
    "start_time": "2023-03-03T08:01:54.829Z"
   },
   {
    "duration": 17,
    "start_time": "2023-03-03T08:01:54.849Z"
   },
   {
    "duration": 6,
    "start_time": "2023-03-03T08:01:54.868Z"
   },
   {
    "duration": 6,
    "start_time": "2023-03-03T08:01:54.876Z"
   },
   {
    "duration": 8,
    "start_time": "2023-03-03T08:01:54.885Z"
   },
   {
    "duration": 7,
    "start_time": "2023-03-03T08:01:54.895Z"
   },
   {
    "duration": 10,
    "start_time": "2023-03-03T08:01:54.903Z"
   },
   {
    "duration": 8,
    "start_time": "2023-03-03T08:01:54.915Z"
   },
   {
    "duration": 21,
    "start_time": "2023-03-03T08:01:54.939Z"
   },
   {
    "duration": 483,
    "start_time": "2023-03-03T08:01:54.962Z"
   },
   {
    "duration": 0,
    "start_time": "2023-03-03T08:01:55.448Z"
   },
   {
    "duration": 0,
    "start_time": "2023-03-03T08:01:55.450Z"
   },
   {
    "duration": 0,
    "start_time": "2023-03-03T08:01:55.452Z"
   },
   {
    "duration": 7,
    "start_time": "2023-03-03T08:07:13.413Z"
   },
   {
    "duration": 5,
    "start_time": "2023-03-03T08:07:18.297Z"
   },
   {
    "duration": 2993,
    "start_time": "2023-03-03T08:07:38.828Z"
   },
   {
    "duration": 7,
    "start_time": "2023-03-03T08:08:02.586Z"
   },
   {
    "duration": 5,
    "start_time": "2023-03-03T08:08:04.507Z"
   },
   {
    "duration": 128680,
    "start_time": "2023-03-03T08:08:06.676Z"
   },
   {
    "duration": 8,
    "start_time": "2023-03-03T08:10:15.358Z"
   },
   {
    "duration": 35,
    "start_time": "2023-03-03T08:10:15.368Z"
   },
   {
    "duration": 47,
    "start_time": "2023-03-03T08:10:15.406Z"
   },
   {
    "duration": 9,
    "start_time": "2023-03-03T08:11:02.892Z"
   },
   {
    "duration": 9,
    "start_time": "2023-03-03T08:11:21.891Z"
   },
   {
    "duration": 5,
    "start_time": "2023-03-03T08:11:31.379Z"
   },
   {
    "duration": 246,
    "start_time": "2023-03-03T08:12:21.107Z"
   },
   {
    "duration": 12344,
    "start_time": "2023-03-03T08:13:25.525Z"
   },
   {
    "duration": 1701,
    "start_time": "2023-03-03T08:13:53.807Z"
   },
   {
    "duration": 3,
    "start_time": "2023-03-03T08:13:55.510Z"
   },
   {
    "duration": 120,
    "start_time": "2023-03-03T08:13:55.515Z"
   },
   {
    "duration": 3,
    "start_time": "2023-03-03T08:13:55.637Z"
   },
   {
    "duration": 103,
    "start_time": "2023-03-03T08:13:55.643Z"
   },
   {
    "duration": 7,
    "start_time": "2023-03-03T08:13:55.748Z"
   },
   {
    "duration": 19,
    "start_time": "2023-03-03T08:13:55.757Z"
   },
   {
    "duration": 36,
    "start_time": "2023-03-03T08:13:55.777Z"
   },
   {
    "duration": 22,
    "start_time": "2023-03-03T08:13:55.838Z"
   },
   {
    "duration": 15,
    "start_time": "2023-03-03T08:13:55.863Z"
   },
   {
    "duration": 16,
    "start_time": "2023-03-03T08:13:55.880Z"
   },
   {
    "duration": 4,
    "start_time": "2023-03-03T08:13:55.898Z"
   },
   {
    "duration": 45,
    "start_time": "2023-03-03T08:13:55.903Z"
   },
   {
    "duration": 74,
    "start_time": "2023-03-03T08:13:55.953Z"
   },
   {
    "duration": 26,
    "start_time": "2023-03-03T08:13:56.042Z"
   },
   {
    "duration": 7,
    "start_time": "2023-03-03T08:13:56.069Z"
   },
   {
    "duration": 238,
    "start_time": "2023-03-03T08:13:56.077Z"
   },
   {
    "duration": 695,
    "start_time": "2023-03-03T08:13:56.318Z"
   },
   {
    "duration": 38,
    "start_time": "2023-03-03T08:13:57.015Z"
   },
   {
    "duration": 1638,
    "start_time": "2023-03-03T08:13:57.058Z"
   },
   {
    "duration": 12,
    "start_time": "2023-03-03T08:13:58.698Z"
   },
   {
    "duration": 16,
    "start_time": "2023-03-03T08:13:58.712Z"
   },
   {
    "duration": 5,
    "start_time": "2023-03-03T08:13:58.730Z"
   },
   {
    "duration": 15,
    "start_time": "2023-03-03T08:13:58.737Z"
   },
   {
    "duration": 11,
    "start_time": "2023-03-03T08:13:58.756Z"
   },
   {
    "duration": 5,
    "start_time": "2023-03-03T08:13:58.769Z"
   },
   {
    "duration": 17,
    "start_time": "2023-03-03T08:13:58.775Z"
   },
   {
    "duration": 5,
    "start_time": "2023-03-03T08:13:58.794Z"
   },
   {
    "duration": 9,
    "start_time": "2023-03-03T08:13:58.801Z"
   },
   {
    "duration": 10,
    "start_time": "2023-03-03T08:13:58.811Z"
   },
   {
    "duration": 51,
    "start_time": "2023-03-03T08:13:58.823Z"
   },
   {
    "duration": 115448,
    "start_time": "2023-03-03T08:13:58.876Z"
   },
   {
    "duration": 5,
    "start_time": "2023-03-03T08:15:54.326Z"
   },
   {
    "duration": 43,
    "start_time": "2023-03-03T08:15:54.332Z"
   },
   {
    "duration": 278,
    "start_time": "2023-03-03T08:15:54.377Z"
   },
   {
    "duration": 132103,
    "start_time": "2023-03-03T08:16:25.789Z"
   },
   {
    "duration": 1468,
    "start_time": "2023-03-03T16:33:18.286Z"
   },
   {
    "duration": 3,
    "start_time": "2023-03-03T16:33:19.756Z"
   },
   {
    "duration": 140,
    "start_time": "2023-03-03T16:33:19.760Z"
   },
   {
    "duration": 9,
    "start_time": "2023-03-03T16:33:19.902Z"
   },
   {
    "duration": 107,
    "start_time": "2023-03-03T16:33:19.918Z"
   },
   {
    "duration": 9,
    "start_time": "2023-03-03T16:33:20.032Z"
   },
   {
    "duration": 19,
    "start_time": "2023-03-03T16:33:20.043Z"
   },
   {
    "duration": 33,
    "start_time": "2023-03-03T16:33:20.063Z"
   },
   {
    "duration": 39,
    "start_time": "2023-03-03T16:33:20.097Z"
   },
   {
    "duration": 20,
    "start_time": "2023-03-03T16:33:20.144Z"
   },
   {
    "duration": 18,
    "start_time": "2023-03-03T16:33:20.167Z"
   },
   {
    "duration": 6,
    "start_time": "2023-03-03T16:33:20.187Z"
   },
   {
    "duration": 59,
    "start_time": "2023-03-03T16:33:20.195Z"
   },
   {
    "duration": 102,
    "start_time": "2023-03-03T16:33:20.257Z"
   },
   {
    "duration": 24,
    "start_time": "2023-03-03T16:33:20.360Z"
   },
   {
    "duration": 6,
    "start_time": "2023-03-03T16:33:20.385Z"
   },
   {
    "duration": 302,
    "start_time": "2023-03-03T16:33:20.393Z"
   },
   {
    "duration": 750,
    "start_time": "2023-03-03T16:33:20.697Z"
   },
   {
    "duration": 25,
    "start_time": "2023-03-03T16:33:21.448Z"
   },
   {
    "duration": 1646,
    "start_time": "2023-03-03T16:33:21.475Z"
   },
   {
    "duration": 24,
    "start_time": "2023-03-03T16:33:23.123Z"
   },
   {
    "duration": 52,
    "start_time": "2023-03-03T16:33:23.148Z"
   },
   {
    "duration": 47,
    "start_time": "2023-03-03T16:33:23.202Z"
   },
   {
    "duration": 27,
    "start_time": "2023-03-03T16:33:23.251Z"
   },
   {
    "duration": 55,
    "start_time": "2023-03-03T16:33:23.280Z"
   },
   {
    "duration": 30,
    "start_time": "2023-03-03T16:33:23.338Z"
   },
   {
    "duration": 35,
    "start_time": "2023-03-03T16:33:23.370Z"
   },
   {
    "duration": 44,
    "start_time": "2023-03-03T16:33:23.407Z"
   },
   {
    "duration": 2505,
    "start_time": "2023-03-03T16:33:23.453Z"
   },
   {
    "duration": 0,
    "start_time": "2023-03-03T16:33:25.960Z"
   },
   {
    "duration": 0,
    "start_time": "2023-03-03T16:33:25.961Z"
   },
   {
    "duration": 0,
    "start_time": "2023-03-03T16:33:25.963Z"
   },
   {
    "duration": 0,
    "start_time": "2023-03-03T16:33:25.964Z"
   },
   {
    "duration": 12,
    "start_time": "2023-03-03T16:34:04.804Z"
   },
   {
    "duration": 18850,
    "start_time": "2023-03-03T16:34:09.880Z"
   },
   {
    "duration": 165,
    "start_time": "2023-03-03T16:34:28.733Z"
   },
   {
    "duration": 284,
    "start_time": "2023-03-03T16:34:40.492Z"
   },
   {
    "duration": 1911,
    "start_time": "2023-03-03T21:24:43.653Z"
   },
   {
    "duration": 4,
    "start_time": "2023-03-03T21:24:45.567Z"
   },
   {
    "duration": 478,
    "start_time": "2023-03-03T21:24:45.572Z"
   },
   {
    "duration": 2,
    "start_time": "2023-03-03T21:24:46.052Z"
   },
   {
    "duration": 106,
    "start_time": "2023-03-03T21:24:46.057Z"
   },
   {
    "duration": 4,
    "start_time": "2023-03-03T21:24:46.165Z"
   },
   {
    "duration": 19,
    "start_time": "2023-03-03T21:24:46.171Z"
   },
   {
    "duration": 69,
    "start_time": "2023-03-03T21:24:46.192Z"
   },
   {
    "duration": 16,
    "start_time": "2023-03-03T21:24:46.262Z"
   },
   {
    "duration": 42,
    "start_time": "2023-03-03T21:24:46.280Z"
   },
   {
    "duration": 21,
    "start_time": "2023-03-03T21:24:46.324Z"
   },
   {
    "duration": 4,
    "start_time": "2023-03-03T21:24:46.347Z"
   },
   {
    "duration": 13,
    "start_time": "2023-03-03T21:24:46.354Z"
   },
   {
    "duration": 107,
    "start_time": "2023-03-03T21:24:46.371Z"
   },
   {
    "duration": 52,
    "start_time": "2023-03-03T21:24:46.481Z"
   },
   {
    "duration": 6,
    "start_time": "2023-03-03T21:24:46.535Z"
   },
   {
    "duration": 266,
    "start_time": "2023-03-03T21:24:46.542Z"
   },
   {
    "duration": 754,
    "start_time": "2023-03-03T21:24:46.809Z"
   },
   {
    "duration": 26,
    "start_time": "2023-03-03T21:24:47.565Z"
   },
   {
    "duration": 1687,
    "start_time": "2023-03-03T21:24:47.593Z"
   },
   {
    "duration": 11,
    "start_time": "2023-03-03T21:24:49.283Z"
   },
   {
    "duration": 19,
    "start_time": "2023-03-03T21:24:49.296Z"
   },
   {
    "duration": 9,
    "start_time": "2023-03-03T21:24:49.317Z"
   },
   {
    "duration": 22,
    "start_time": "2023-03-03T21:24:49.329Z"
   },
   {
    "duration": 4,
    "start_time": "2023-03-03T21:24:49.354Z"
   },
   {
    "duration": 5,
    "start_time": "2023-03-03T21:24:49.360Z"
   },
   {
    "duration": 9,
    "start_time": "2023-03-03T21:24:49.367Z"
   },
   {
    "duration": 15,
    "start_time": "2023-03-03T21:24:49.378Z"
   },
   {
    "duration": 2535,
    "start_time": "2023-03-03T21:24:49.395Z"
   },
   {
    "duration": 0,
    "start_time": "2023-03-03T21:24:51.933Z"
   },
   {
    "duration": 0,
    "start_time": "2023-03-03T21:24:51.934Z"
   },
   {
    "duration": 0,
    "start_time": "2023-03-03T21:24:51.935Z"
   },
   {
    "duration": 0,
    "start_time": "2023-03-03T21:24:51.937Z"
   },
   {
    "duration": 4,
    "start_time": "2023-03-03T21:44:28.115Z"
   },
   {
    "duration": 6,
    "start_time": "2023-03-03T21:44:31.949Z"
   },
   {
    "duration": 4,
    "start_time": "2023-03-03T21:44:36.546Z"
   },
   {
    "duration": 2577,
    "start_time": "2023-03-03T21:44:39.869Z"
   },
   {
    "duration": 8379,
    "start_time": "2023-03-03T21:46:09.377Z"
   },
   {
    "duration": 5,
    "start_time": "2023-03-03T21:46:22.257Z"
   },
   {
    "duration": 7,
    "start_time": "2023-03-03T21:46:27.072Z"
   },
   {
    "duration": 4,
    "start_time": "2023-03-03T21:46:32.054Z"
   },
   {
    "duration": 3149,
    "start_time": "2023-03-03T21:46:38.972Z"
   },
   {
    "duration": 1538,
    "start_time": "2023-03-03T21:46:49.135Z"
   },
   {
    "duration": 4,
    "start_time": "2023-03-03T21:46:50.676Z"
   },
   {
    "duration": 158,
    "start_time": "2023-03-03T21:46:50.682Z"
   },
   {
    "duration": 3,
    "start_time": "2023-03-03T21:46:50.842Z"
   },
   {
    "duration": 117,
    "start_time": "2023-03-03T21:46:50.848Z"
   },
   {
    "duration": 5,
    "start_time": "2023-03-03T21:46:50.967Z"
   },
   {
    "duration": 55,
    "start_time": "2023-03-03T21:46:50.974Z"
   },
   {
    "duration": 58,
    "start_time": "2023-03-03T21:46:51.031Z"
   },
   {
    "duration": 30,
    "start_time": "2023-03-03T21:46:51.091Z"
   },
   {
    "duration": 26,
    "start_time": "2023-03-03T21:46:51.124Z"
   },
   {
    "duration": 23,
    "start_time": "2023-03-03T21:46:51.152Z"
   },
   {
    "duration": 6,
    "start_time": "2023-03-03T21:46:51.177Z"
   },
   {
    "duration": 42,
    "start_time": "2023-03-03T21:46:51.186Z"
   },
   {
    "duration": 116,
    "start_time": "2023-03-03T21:46:51.233Z"
   },
   {
    "duration": 32,
    "start_time": "2023-03-03T21:46:51.352Z"
   },
   {
    "duration": 35,
    "start_time": "2023-03-03T21:46:51.386Z"
   },
   {
    "duration": 285,
    "start_time": "2023-03-03T21:46:51.424Z"
   },
   {
    "duration": 699,
    "start_time": "2023-03-03T21:46:51.711Z"
   },
   {
    "duration": 44,
    "start_time": "2023-03-03T21:46:52.412Z"
   },
   {
    "duration": 1938,
    "start_time": "2023-03-03T21:46:52.458Z"
   },
   {
    "duration": 17,
    "start_time": "2023-03-03T21:46:54.401Z"
   },
   {
    "duration": 48,
    "start_time": "2023-03-03T21:46:54.421Z"
   },
   {
    "duration": 14,
    "start_time": "2023-03-03T21:46:54.472Z"
   },
   {
    "duration": 14,
    "start_time": "2023-03-03T21:46:54.488Z"
   },
   {
    "duration": 12,
    "start_time": "2023-03-03T21:46:54.505Z"
   },
   {
    "duration": 2663,
    "start_time": "2023-03-03T21:46:54.520Z"
   },
   {
    "duration": 5,
    "start_time": "2023-03-03T21:46:57.186Z"
   },
   {
    "duration": 10,
    "start_time": "2023-03-03T21:46:57.193Z"
   },
   {
    "duration": 10,
    "start_time": "2023-03-03T21:46:57.205Z"
   },
   {
    "duration": 112079,
    "start_time": "2023-03-03T21:46:57.217Z"
   },
   {
    "duration": 5,
    "start_time": "2023-03-03T21:48:49.299Z"
   },
   {
    "duration": 18196,
    "start_time": "2023-03-03T21:48:49.306Z"
   },
   {
    "duration": 195,
    "start_time": "2023-03-03T21:49:07.504Z"
   },
   {
    "duration": 205,
    "start_time": "2023-03-03T21:49:07.701Z"
   },
   {
    "duration": 5,
    "start_time": "2023-03-03T21:49:39.971Z"
   },
   {
    "duration": 3,
    "start_time": "2023-03-03T21:52:52.834Z"
   },
   {
    "duration": 159,
    "start_time": "2023-03-03T21:52:58.476Z"
   },
   {
    "duration": 1410,
    "start_time": "2023-03-03T21:57:16.957Z"
   },
   {
    "duration": 4,
    "start_time": "2023-03-03T21:57:18.370Z"
   },
   {
    "duration": 132,
    "start_time": "2023-03-03T21:57:18.376Z"
   },
   {
    "duration": 3,
    "start_time": "2023-03-03T21:57:18.511Z"
   },
   {
    "duration": 115,
    "start_time": "2023-03-03T21:57:18.516Z"
   },
   {
    "duration": 5,
    "start_time": "2023-03-03T21:57:18.634Z"
   },
   {
    "duration": 20,
    "start_time": "2023-03-03T21:57:18.641Z"
   },
   {
    "duration": 75,
    "start_time": "2023-03-03T21:57:18.662Z"
   },
   {
    "duration": 17,
    "start_time": "2023-03-03T21:57:18.738Z"
   },
   {
    "duration": 18,
    "start_time": "2023-03-03T21:57:18.758Z"
   },
   {
    "duration": 15,
    "start_time": "2023-03-03T21:57:18.778Z"
   },
   {
    "duration": 8,
    "start_time": "2023-03-03T21:57:18.821Z"
   },
   {
    "duration": 9,
    "start_time": "2023-03-03T21:57:18.836Z"
   },
   {
    "duration": 107,
    "start_time": "2023-03-03T21:57:18.847Z"
   },
   {
    "duration": 24,
    "start_time": "2023-03-03T21:57:18.956Z"
   },
   {
    "duration": 6,
    "start_time": "2023-03-03T21:57:18.982Z"
   },
   {
    "duration": 302,
    "start_time": "2023-03-03T21:57:18.990Z"
   },
   {
    "duration": 673,
    "start_time": "2023-03-03T21:57:19.294Z"
   },
   {
    "duration": 27,
    "start_time": "2023-03-03T21:57:19.968Z"
   },
   {
    "duration": 1875,
    "start_time": "2023-03-03T21:57:19.997Z"
   },
   {
    "duration": 13,
    "start_time": "2023-03-03T21:57:21.875Z"
   },
   {
    "duration": 20,
    "start_time": "2023-03-03T21:57:21.890Z"
   },
   {
    "duration": 21,
    "start_time": "2023-03-03T21:57:21.912Z"
   },
   {
    "duration": 13,
    "start_time": "2023-03-03T21:57:21.935Z"
   },
   {
    "duration": 6,
    "start_time": "2023-03-03T21:57:21.950Z"
   },
   {
    "duration": 2506,
    "start_time": "2023-03-03T21:57:21.958Z"
   },
   {
    "duration": 6,
    "start_time": "2023-03-03T21:57:24.466Z"
   },
   {
    "duration": 37,
    "start_time": "2023-03-03T21:57:24.476Z"
   },
   {
    "duration": 30,
    "start_time": "2023-03-03T21:57:24.516Z"
   },
   {
    "duration": 168,
    "start_time": "2023-03-03T21:57:24.548Z"
   },
   {
    "duration": 0,
    "start_time": "2023-03-03T21:57:24.718Z"
   },
   {
    "duration": 0,
    "start_time": "2023-03-03T21:57:24.720Z"
   },
   {
    "duration": 0,
    "start_time": "2023-03-03T21:57:24.722Z"
   },
   {
    "duration": 0,
    "start_time": "2023-03-03T21:57:24.724Z"
   },
   {
    "duration": 0,
    "start_time": "2023-03-03T21:57:24.726Z"
   },
   {
    "duration": 6,
    "start_time": "2023-03-03T21:57:38.174Z"
   },
   {
    "duration": 4,
    "start_time": "2023-03-03T21:57:43.333Z"
   },
   {
    "duration": 108664,
    "start_time": "2023-03-03T21:57:46.613Z"
   },
   {
    "duration": 6,
    "start_time": "2023-03-03T21:59:35.280Z"
   },
   {
    "duration": 16606,
    "start_time": "2023-03-03T21:59:35.288Z"
   },
   {
    "duration": 15,
    "start_time": "2023-03-03T22:24:08.268Z"
   },
   {
    "duration": 16,
    "start_time": "2023-03-03T22:24:20.006Z"
   },
   {
    "duration": 15,
    "start_time": "2023-03-03T22:24:37.728Z"
   },
   {
    "duration": 5,
    "start_time": "2023-03-03T22:25:30.619Z"
   },
   {
    "duration": 18,
    "start_time": "2023-03-03T22:34:47.046Z"
   },
   {
    "duration": 17,
    "start_time": "2023-03-03T22:35:04.159Z"
   },
   {
    "duration": 17,
    "start_time": "2023-03-03T22:35:35.929Z"
   },
   {
    "duration": 41,
    "start_time": "2023-03-03T22:36:08.596Z"
   },
   {
    "duration": 42,
    "start_time": "2023-03-03T22:37:25.619Z"
   },
   {
    "duration": 40,
    "start_time": "2023-03-03T22:37:54.088Z"
   },
   {
    "duration": 4382,
    "start_time": "2023-03-03T22:40:40.443Z"
   },
   {
    "duration": 46692,
    "start_time": "2023-03-03T22:41:22.623Z"
   },
   {
    "duration": 47386,
    "start_time": "2023-03-03T22:42:38.226Z"
   },
   {
    "duration": 71,
    "start_time": "2023-03-03T22:45:38.388Z"
   },
   {
    "duration": 46466,
    "start_time": "2023-03-03T22:46:30.825Z"
   },
   {
    "duration": 0,
    "start_time": "2023-03-03T22:47:38.655Z"
   },
   {
    "duration": 47177,
    "start_time": "2023-03-03T22:47:40.691Z"
   },
   {
    "duration": 48156,
    "start_time": "2023-03-03T22:50:56.045Z"
   },
   {
    "duration": 171002,
    "start_time": "2023-03-03T22:52:49.414Z"
   },
   {
    "duration": 171011,
    "start_time": "2023-03-03T23:05:53.966Z"
   },
   {
    "duration": 172707,
    "start_time": "2023-03-03T23:10:41.825Z"
   },
   {
    "duration": 146,
    "start_time": "2023-03-03T23:16:11.793Z"
   },
   {
    "duration": 168580,
    "start_time": "2023-03-03T23:20:33.255Z"
   },
   {
    "duration": 1645,
    "start_time": "2023-03-05T14:22:59.573Z"
   },
   {
    "duration": 3,
    "start_time": "2023-03-05T14:23:01.219Z"
   },
   {
    "duration": 396,
    "start_time": "2023-03-05T14:23:01.224Z"
   },
   {
    "duration": 3,
    "start_time": "2023-03-05T14:23:01.622Z"
   },
   {
    "duration": 88,
    "start_time": "2023-03-05T14:23:01.626Z"
   },
   {
    "duration": 6,
    "start_time": "2023-03-05T14:23:01.716Z"
   },
   {
    "duration": 27,
    "start_time": "2023-03-05T14:23:01.724Z"
   },
   {
    "duration": 57,
    "start_time": "2023-03-05T14:23:01.753Z"
   },
   {
    "duration": 13,
    "start_time": "2023-03-05T14:23:01.812Z"
   },
   {
    "duration": 20,
    "start_time": "2023-03-05T14:23:01.828Z"
   },
   {
    "duration": 41,
    "start_time": "2023-03-05T14:23:01.850Z"
   },
   {
    "duration": 4,
    "start_time": "2023-03-05T14:23:01.893Z"
   },
   {
    "duration": 22,
    "start_time": "2023-03-05T14:23:01.898Z"
   },
   {
    "duration": 64,
    "start_time": "2023-03-05T14:23:01.921Z"
   },
   {
    "duration": 22,
    "start_time": "2023-03-05T14:23:01.990Z"
   },
   {
    "duration": 7,
    "start_time": "2023-03-05T14:23:02.013Z"
   },
   {
    "duration": 209,
    "start_time": "2023-03-05T14:23:02.021Z"
   },
   {
    "duration": 572,
    "start_time": "2023-03-05T14:23:02.231Z"
   },
   {
    "duration": 20,
    "start_time": "2023-03-05T14:23:02.805Z"
   },
   {
    "duration": 1326,
    "start_time": "2023-03-05T14:23:02.826Z"
   },
   {
    "duration": 12,
    "start_time": "2023-03-05T14:23:04.154Z"
   },
   {
    "duration": 30,
    "start_time": "2023-03-05T14:23:04.168Z"
   },
   {
    "duration": 8,
    "start_time": "2023-03-05T14:23:04.200Z"
   },
   {
    "duration": 8,
    "start_time": "2023-03-05T14:23:04.210Z"
   },
   {
    "duration": 10,
    "start_time": "2023-03-05T14:23:04.219Z"
   },
   {
    "duration": 5,
    "start_time": "2023-03-05T14:23:04.231Z"
   },
   {
    "duration": 12,
    "start_time": "2023-03-05T14:23:04.238Z"
   },
   {
    "duration": 201,
    "start_time": "2023-03-05T14:23:04.253Z"
   },
   {
    "duration": 0,
    "start_time": "2023-03-05T14:23:04.456Z"
   },
   {
    "duration": 0,
    "start_time": "2023-03-05T14:23:04.457Z"
   },
   {
    "duration": 0,
    "start_time": "2023-03-05T14:23:04.458Z"
   },
   {
    "duration": 1477,
    "start_time": "2023-03-05T14:27:22.766Z"
   },
   {
    "duration": 3,
    "start_time": "2023-03-05T14:27:24.245Z"
   },
   {
    "duration": 108,
    "start_time": "2023-03-05T14:27:24.249Z"
   },
   {
    "duration": 2,
    "start_time": "2023-03-05T14:27:24.359Z"
   },
   {
    "duration": 62,
    "start_time": "2023-03-05T14:27:24.363Z"
   },
   {
    "duration": 4,
    "start_time": "2023-03-05T14:27:24.426Z"
   },
   {
    "duration": 14,
    "start_time": "2023-03-05T14:27:24.432Z"
   },
   {
    "duration": 62,
    "start_time": "2023-03-05T14:27:24.447Z"
   },
   {
    "duration": 13,
    "start_time": "2023-03-05T14:27:24.510Z"
   },
   {
    "duration": 12,
    "start_time": "2023-03-05T14:27:24.525Z"
   },
   {
    "duration": 12,
    "start_time": "2023-03-05T14:27:24.538Z"
   },
   {
    "duration": 4,
    "start_time": "2023-03-05T14:27:24.551Z"
   },
   {
    "duration": 35,
    "start_time": "2023-03-05T14:27:24.556Z"
   },
   {
    "duration": 64,
    "start_time": "2023-03-05T14:27:24.593Z"
   },
   {
    "duration": 36,
    "start_time": "2023-03-05T14:27:24.659Z"
   },
   {
    "duration": 5,
    "start_time": "2023-03-05T14:27:24.696Z"
   },
   {
    "duration": 218,
    "start_time": "2023-03-05T14:27:24.703Z"
   },
   {
    "duration": 577,
    "start_time": "2023-03-05T14:27:24.923Z"
   },
   {
    "duration": 22,
    "start_time": "2023-03-05T14:27:25.501Z"
   },
   {
    "duration": 1451,
    "start_time": "2023-03-05T14:27:25.524Z"
   },
   {
    "duration": 18,
    "start_time": "2023-03-05T14:27:26.977Z"
   },
   {
    "duration": 16,
    "start_time": "2023-03-05T14:27:26.996Z"
   },
   {
    "duration": 6,
    "start_time": "2023-03-05T14:27:27.013Z"
   },
   {
    "duration": 9,
    "start_time": "2023-03-05T14:27:27.020Z"
   },
   {
    "duration": 4,
    "start_time": "2023-03-05T14:27:27.030Z"
   },
   {
    "duration": 5,
    "start_time": "2023-03-05T14:27:27.035Z"
   },
   {
    "duration": 7,
    "start_time": "2023-03-05T14:27:27.041Z"
   },
   {
    "duration": 204,
    "start_time": "2023-03-05T14:27:27.051Z"
   },
   {
    "duration": 0,
    "start_time": "2023-03-05T14:27:27.256Z"
   },
   {
    "duration": 0,
    "start_time": "2023-03-05T14:27:27.257Z"
   },
   {
    "duration": 0,
    "start_time": "2023-03-05T14:27:27.258Z"
   },
   {
    "duration": 1387,
    "start_time": "2023-03-05T14:27:51.008Z"
   },
   {
    "duration": 2,
    "start_time": "2023-03-05T14:27:52.397Z"
   },
   {
    "duration": 108,
    "start_time": "2023-03-05T14:27:52.401Z"
   },
   {
    "duration": 3,
    "start_time": "2023-03-05T14:27:52.510Z"
   },
   {
    "duration": 91,
    "start_time": "2023-03-05T14:27:52.515Z"
   },
   {
    "duration": 6,
    "start_time": "2023-03-05T14:27:52.607Z"
   },
   {
    "duration": 12,
    "start_time": "2023-03-05T14:27:52.614Z"
   },
   {
    "duration": 42,
    "start_time": "2023-03-05T14:27:52.628Z"
   },
   {
    "duration": 29,
    "start_time": "2023-03-05T14:27:52.672Z"
   },
   {
    "duration": 13,
    "start_time": "2023-03-05T14:27:52.702Z"
   },
   {
    "duration": 12,
    "start_time": "2023-03-05T14:27:52.716Z"
   },
   {
    "duration": 3,
    "start_time": "2023-03-05T14:27:52.730Z"
   },
   {
    "duration": 7,
    "start_time": "2023-03-05T14:27:52.735Z"
   },
   {
    "duration": 96,
    "start_time": "2023-03-05T14:27:52.746Z"
   },
   {
    "duration": 22,
    "start_time": "2023-03-05T14:27:52.844Z"
   },
   {
    "duration": 5,
    "start_time": "2023-03-05T14:27:52.867Z"
   },
   {
    "duration": 207,
    "start_time": "2023-03-05T14:27:52.891Z"
   },
   {
    "duration": 598,
    "start_time": "2023-03-05T14:27:53.100Z"
   },
   {
    "duration": 21,
    "start_time": "2023-03-05T14:27:53.699Z"
   },
   {
    "duration": 1269,
    "start_time": "2023-03-05T14:27:53.722Z"
   },
   {
    "duration": 12,
    "start_time": "2023-03-05T14:27:54.993Z"
   },
   {
    "duration": 16,
    "start_time": "2023-03-05T14:27:55.006Z"
   },
   {
    "duration": 7,
    "start_time": "2023-03-05T14:27:55.024Z"
   },
   {
    "duration": 8,
    "start_time": "2023-03-05T14:27:55.033Z"
   },
   {
    "duration": 5,
    "start_time": "2023-03-05T14:27:55.042Z"
   },
   {
    "duration": 7710,
    "start_time": "2023-03-05T14:27:55.049Z"
   },
   {
    "duration": 4,
    "start_time": "2023-03-05T14:28:02.761Z"
   },
   {
    "duration": 180,
    "start_time": "2023-03-05T14:28:02.766Z"
   },
   {
    "duration": 0,
    "start_time": "2023-03-05T14:28:02.948Z"
   },
   {
    "duration": 0,
    "start_time": "2023-03-05T14:28:02.949Z"
   },
   {
    "duration": 0,
    "start_time": "2023-03-05T14:28:02.950Z"
   },
   {
    "duration": 1198,
    "start_time": "2023-03-05T14:28:33.922Z"
   },
   {
    "duration": 3,
    "start_time": "2023-03-05T14:28:35.121Z"
   },
   {
    "duration": 119,
    "start_time": "2023-03-05T14:28:35.125Z"
   },
   {
    "duration": 2,
    "start_time": "2023-03-05T14:28:35.246Z"
   },
   {
    "duration": 78,
    "start_time": "2023-03-05T14:28:35.250Z"
   },
   {
    "duration": 4,
    "start_time": "2023-03-05T14:28:35.329Z"
   },
   {
    "duration": 17,
    "start_time": "2023-03-05T14:28:35.335Z"
   },
   {
    "duration": 59,
    "start_time": "2023-03-05T14:28:35.354Z"
   },
   {
    "duration": 14,
    "start_time": "2023-03-05T14:28:35.415Z"
   },
   {
    "duration": 14,
    "start_time": "2023-03-05T14:28:35.431Z"
   },
   {
    "duration": 17,
    "start_time": "2023-03-05T14:28:35.447Z"
   },
   {
    "duration": 5,
    "start_time": "2023-03-05T14:28:35.465Z"
   },
   {
    "duration": 5,
    "start_time": "2023-03-05T14:28:35.492Z"
   },
   {
    "duration": 70,
    "start_time": "2023-03-05T14:28:35.499Z"
   },
   {
    "duration": 36,
    "start_time": "2023-03-05T14:28:35.571Z"
   },
   {
    "duration": 5,
    "start_time": "2023-03-05T14:28:35.608Z"
   },
   {
    "duration": 231,
    "start_time": "2023-03-05T14:28:35.615Z"
   },
   {
    "duration": 518,
    "start_time": "2023-03-05T14:28:35.847Z"
   },
   {
    "duration": 42,
    "start_time": "2023-03-05T14:28:36.367Z"
   },
   {
    "duration": 1369,
    "start_time": "2023-03-05T14:28:36.411Z"
   },
   {
    "duration": 15,
    "start_time": "2023-03-05T14:28:37.782Z"
   },
   {
    "duration": 14,
    "start_time": "2023-03-05T14:28:37.799Z"
   },
   {
    "duration": 6,
    "start_time": "2023-03-05T14:28:37.815Z"
   },
   {
    "duration": 7,
    "start_time": "2023-03-05T14:28:37.822Z"
   },
   {
    "duration": 4,
    "start_time": "2023-03-05T14:28:37.831Z"
   },
   {
    "duration": 2002,
    "start_time": "2023-03-05T14:28:37.837Z"
   },
   {
    "duration": 4,
    "start_time": "2023-03-05T14:28:39.841Z"
   },
   {
    "duration": 136095,
    "start_time": "2023-03-05T14:28:39.848Z"
   },
   {
    "duration": 132,
    "start_time": "2023-03-05T14:30:55.945Z"
   },
   {
    "duration": 145,
    "start_time": "2023-03-05T14:30:56.079Z"
   },
   {
    "duration": 171,
    "start_time": "2023-03-05T14:30:56.226Z"
   }
  ],
  "kernelspec": {
   "display_name": "Python 3 (ipykernel)",
   "language": "python",
   "name": "python3"
  },
  "language_info": {
   "codemirror_mode": {
    "name": "ipython",
    "version": 3
   },
   "file_extension": ".py",
   "mimetype": "text/x-python",
   "name": "python",
   "nbconvert_exporter": "python",
   "pygments_lexer": "ipython3",
   "version": "3.10.7"
  },
  "toc": {
   "base_numbering": 1,
   "nav_menu": {},
   "number_sections": true,
   "sideBar": true,
   "skip_h1_title": true,
   "title_cell": "Table of Contents",
   "title_sidebar": "Contents",
   "toc_cell": false,
   "toc_position": {},
   "toc_section_display": true,
   "toc_window_display": false
  },
  "vscode": {
   "interpreter": {
    "hash": "32c89bd846e7d90e2938ca19c65b48f29b82b27179265c08c0b2d60021c46366"
   }
  }
 },
 "nbformat": 4,
 "nbformat_minor": 2
}
