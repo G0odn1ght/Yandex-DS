{
 "cells": [
  {
   "cell_type": "markdown",
   "metadata": {
    "toc": true
   },
   "source": [
    "<h1>Содержание<span class=\"tocSkip\"></span></h1>\n",
    "<div class=\"toc\"><ul class=\"toc-item\"><li><span><a href=\"#1.-Загрузка-и-подготовка-данных\" data-toc-modified-id=\"1.-Загрузка-и-подготовка-данных-1\"><span class=\"toc-item-num\">1&nbsp;&nbsp;</span>1. Загрузка и подготовка данных</a></span></li><li><span><a href=\"#2.-Обучение-моделей\" data-toc-modified-id=\"2.-Обучение-моделей-2\"><span class=\"toc-item-num\">2&nbsp;&nbsp;</span>2. Обучение моделей</a></span></li><li><span><a href=\"#3.-Выводы\" data-toc-modified-id=\"3.-Выводы-3\"><span class=\"toc-item-num\">3&nbsp;&nbsp;</span>3. Выводы</a></span></li><li><span><a href=\"#Чек-лист-проверки\" data-toc-modified-id=\"Чек-лист-проверки-4\"><span class=\"toc-item-num\">4&nbsp;&nbsp;</span>Чек-лист проверки</a></span></li></ul></div>"
   ]
  },
  {
   "attachments": {},
   "cell_type": "markdown",
   "metadata": {},
   "source": [
    "# Проект текстовой классификации"
   ]
  },
  {
   "attachments": {},
   "cell_type": "markdown",
   "metadata": {},
   "source": [
    "Интернет-магазин запускает новый сервис. Пользователи смогут редактировать и дополнять описания товаров, как в вики-сообществах. То есть клиенты предлагают свои правки и комментируют изменения других. Магазину нужен инструмент, который будет искать токсичные комментарии и отправлять их на модерацию. \n",
    "\n",
    "Необходимо обучить модель для классификации комментариев на позитивные и негативные. \n",
    "\n",
    "Основной критерий качества модели - значение метрики качества *F1* не меньше 0.75. \n",
    "\n",
    "**План работ:**\n",
    "\n",
    "1. Загрузка и подготовка данных.\n",
    "2. Обучение моделей. \n",
    "3. Выводы.\n",
    "\n",
    "\n",
    "**Описание данных**\n",
    "\n",
    "Данные находятся в файле `toxic_comments.csv`. Столбец *text* в нём содержит текст комментария, а *toxic* — целевой признак."
   ]
  },
  {
   "cell_type": "markdown",
   "metadata": {},
   "source": [
    "## 1. Загрузка и подготовка данных"
   ]
  },
  {
   "cell_type": "code",
   "execution_count": 1,
   "metadata": {},
   "outputs": [
    {
     "name": "stderr",
     "output_type": "stream",
     "text": [
      "[nltk_data] Downloading package stopwords to\n",
      "[nltk_data]     /Users/andrew/nltk_data...\n",
      "[nltk_data]   Package stopwords is already up-to-date!\n",
      "[nltk_data] Downloading package wordnet to /Users/andrew/nltk_data...\n",
      "[nltk_data]   Package wordnet is already up-to-date!\n"
     ]
    }
   ],
   "source": [
    "import re\n",
    "import os\n",
    "import sys\n",
    "import csv\n",
    "import nltk \n",
    "nltk.download('stopwords')\n",
    "nltk.download('wordnet')\n",
    "import string\n",
    "import warnings\n",
    "%matplotlib inline\n",
    "import pandas as pd\n",
    "import numpy as np\n",
    "import seaborn as sns\n",
    "import matplotlib.pyplot as plt\n",
    "from sklearn.model_selection import train_test_split\n",
    "from sklearn.pipeline import Pipeline\n",
    "from sklearn.feature_extraction.text import TfidfVectorizer \n",
    "from sklearn.feature_extraction.text import CountVectorizer\n",
    "from sklearn.metrics import accuracy_score, f1_score\n",
    "from sklearn.linear_model import LogisticRegression\n",
    "from sklearn.model_selection import GridSearchCV\n",
    "\n",
    "from nltk.corpus import stopwords\n",
    "from nltk.stem.snowball import SnowballStemmer\n",
    "from sklearn.linear_model import LinearRegression, ElasticNet, Ridge, Lasso, RidgeClassifier\n",
    "\n",
    "from sklearn.model_selection import (GridSearchCV,\n",
    "                                     cross_validate, \n",
    "                                     KFold,\n",
    "                                     train_test_split)\n",
    "\n",
    "from numpy.random import RandomState\n"
   ]
  },
  {
   "cell_type": "code",
   "execution_count": 2,
   "metadata": {},
   "outputs": [],
   "source": [
    "try:\n",
    "    df = pd.read_csv('/datasets/toxic_comments.csv')\n",
    "except:\n",
    "    df = pd.read_csv('toxic_comments.csv')"
   ]
  },
  {
   "cell_type": "code",
   "execution_count": 3,
   "metadata": {},
   "outputs": [
    {
     "name": "stdout",
     "output_type": "stream",
     "text": [
      "Number of rows in data = 159292\n",
      "Number of columns in data = 3\n",
      "Number of duplicates: 0\n",
      "Number of NA values: Unnamed: 0    0\n",
      "text          0\n",
      "toxic         0\n",
      "dtype: int64\n"
     ]
    },
    {
     "data": {
      "text/html": [
       "<div>\n",
       "<style scoped>\n",
       "    .dataframe tbody tr th:only-of-type {\n",
       "        vertical-align: middle;\n",
       "    }\n",
       "\n",
       "    .dataframe tbody tr th {\n",
       "        vertical-align: top;\n",
       "    }\n",
       "\n",
       "    .dataframe thead th {\n",
       "        text-align: right;\n",
       "    }\n",
       "</style>\n",
       "<table border=\"1\" class=\"dataframe\">\n",
       "  <thead>\n",
       "    <tr style=\"text-align: right;\">\n",
       "      <th></th>\n",
       "      <th>Unnamed: 0</th>\n",
       "      <th>text</th>\n",
       "      <th>toxic</th>\n",
       "    </tr>\n",
       "  </thead>\n",
       "  <tbody>\n",
       "    <tr>\n",
       "      <th>102027</th>\n",
       "      <td>102124</td>\n",
       "      <td>\":::As someone from a family who fought there ...</td>\n",
       "      <td>0</td>\n",
       "    </tr>\n",
       "    <tr>\n",
       "      <th>18421</th>\n",
       "      <td>18440</td>\n",
       "      <td>I appreciate your feedback.  Please read my us...</td>\n",
       "      <td>0</td>\n",
       "    </tr>\n",
       "    <tr>\n",
       "      <th>36535</th>\n",
       "      <td>36577</td>\n",
       "      <td>I see.  Now that the article is locked, articl...</td>\n",
       "      <td>0</td>\n",
       "    </tr>\n",
       "    <tr>\n",
       "      <th>22056</th>\n",
       "      <td>22076</td>\n",
       "      <td>I don't think he is the best choice.</td>\n",
       "      <td>0</td>\n",
       "    </tr>\n",
       "    <tr>\n",
       "      <th>156963</th>\n",
       "      <td>157122</td>\n",
       "      <td>Re: Warning \\n\\n&gt;&gt;Stop hand nuvola.svg This is...</td>\n",
       "      <td>1</td>\n",
       "    </tr>\n",
       "  </tbody>\n",
       "</table>\n",
       "</div>"
      ],
      "text/plain": [
       "        Unnamed: 0                                               text  toxic\n",
       "102027      102124  \":::As someone from a family who fought there ...      0\n",
       "18421        18440  I appreciate your feedback.  Please read my us...      0\n",
       "36535        36577  I see.  Now that the article is locked, articl...      0\n",
       "22056        22076               I don't think he is the best choice.      0\n",
       "156963      157122  Re: Warning \\n\\n>>Stop hand nuvola.svg This is...      1"
      ]
     },
     "execution_count": 3,
     "metadata": {},
     "output_type": "execute_result"
    }
   ],
   "source": [
    "print(\"Number of rows in data =\",df.shape[0])\n",
    "print(\"Number of columns in data =\",df.shape[1])\n",
    "print('Number of duplicates:', df.duplicated().sum())\n",
    "print('Number of NA values:', df.isna().sum())\n",
    "df.sample(5)"
   ]
  },
  {
   "cell_type": "code",
   "execution_count": 4,
   "metadata": {
    "scrolled": false
   },
   "outputs": [
    {
     "data": {
      "text/plain": [
       "[Text(0.5, 1.0, 'Распределение комментариев')]"
      ]
     },
     "execution_count": 4,
     "metadata": {},
     "output_type": "execute_result"
    },
    {
     "data": {
      "image/png": "[encoded data removed]",
      "text/plain": [
       "<Figure size 640x480 with 1 Axes>"
      ]
     },
     "metadata": {},
     "output_type": "display_data"
    }
   ],
   "source": [
    "sns.set_theme(style=\"whitegrid\", palette=\"pastel\")\n",
    "sns.countplot(x = 'toxic', data = df).set(title='Распределение комментариев')"
   ]
  },
  {
   "attachments": {},
   "cell_type": "markdown",
   "metadata": {},
   "source": [
    "На графике наглядно видим дисбаланс классов, необходимо будет учесть данную особенность при построении моделей - class_weight :'balanced'\n",
    "\n",
    "В нашем случае дисбалнс классов не вызывает особых подозрений и не ставит под сомнение корректность исходных данных, так как в реальной жизни \"токсичные\" комментарии встречаются не так часто. "
   ]
  },
  {
   "cell_type": "code",
   "execution_count": 5,
   "metadata": {},
   "outputs": [
    {
     "data": {
      "text/html": [
       "<div>\n",
       "<style scoped>\n",
       "    .dataframe tbody tr th:only-of-type {\n",
       "        vertical-align: middle;\n",
       "    }\n",
       "\n",
       "    .dataframe tbody tr th {\n",
       "        vertical-align: top;\n",
       "    }\n",
       "\n",
       "    .dataframe thead th {\n",
       "        text-align: right;\n",
       "    }\n",
       "</style>\n",
       "<table border=\"1\" class=\"dataframe\">\n",
       "  <thead>\n",
       "    <tr style=\"text-align: right;\">\n",
       "      <th></th>\n",
       "      <th>Unnamed: 0</th>\n",
       "      <th>text</th>\n",
       "      <th>toxic</th>\n",
       "      <th>punct</th>\n",
       "    </tr>\n",
       "  </thead>\n",
       "  <tbody>\n",
       "    <tr>\n",
       "      <th>52596</th>\n",
       "      <td>52653</td>\n",
       "      <td>Or what your gonna ban my IP? What a joke... D...</td>\n",
       "      <td>1</td>\n",
       "      <td>Or what your gonna ban my IP What a joke Dumb ass</td>\n",
       "    </tr>\n",
       "    <tr>\n",
       "      <th>150666</th>\n",
       "      <td>150822</td>\n",
       "      <td>Prithviraj III grave?! \\n\\nWhere is it?! take ...</td>\n",
       "      <td>0</td>\n",
       "      <td>Prithviraj III grave \\n\\nWhere is it take a ph...</td>\n",
       "    </tr>\n",
       "  </tbody>\n",
       "</table>\n",
       "</div>"
      ],
      "text/plain": [
       "        Unnamed: 0                                               text  toxic  \\\n",
       "52596        52653  Or what your gonna ban my IP? What a joke... D...      1   \n",
       "150666      150822  Prithviraj III grave?! \\n\\nWhere is it?! take ...      0   \n",
       "\n",
       "                                                    punct  \n",
       "52596   Or what your gonna ban my IP What a joke Dumb ass  \n",
       "150666  Prithviraj III grave \\n\\nWhere is it take a ph...  "
      ]
     },
     "execution_count": 5,
     "metadata": {},
     "output_type": "execute_result"
    }
   ],
   "source": [
    "data = df\n",
    "if not sys.warnoptions:\n",
    "    warnings.simplefilter(\"ignore\")\n",
    "\n",
    "\n",
    "def remove_punct(text):\n",
    "    text  = \"\".join([char for char in text if char not in string.punctuation])\n",
    "    text = re.sub('[0-9]+', '', text)\n",
    "    return text\n",
    "\n",
    "data['punct'] = data['text'].apply(lambda x: remove_punct(x))\n",
    "data.sample(2)"
   ]
  },
  {
   "cell_type": "code",
   "execution_count": 6,
   "metadata": {},
   "outputs": [
    {
     "data": {
      "text/html": [
       "<div>\n",
       "<style scoped>\n",
       "    .dataframe tbody tr th:only-of-type {\n",
       "        vertical-align: middle;\n",
       "    }\n",
       "\n",
       "    .dataframe tbody tr th {\n",
       "        vertical-align: top;\n",
       "    }\n",
       "\n",
       "    .dataframe thead th {\n",
       "        text-align: right;\n",
       "    }\n",
       "</style>\n",
       "<table border=\"1\" class=\"dataframe\">\n",
       "  <thead>\n",
       "    <tr style=\"text-align: right;\">\n",
       "      <th></th>\n",
       "      <th>Unnamed: 0</th>\n",
       "      <th>text</th>\n",
       "      <th>toxic</th>\n",
       "      <th>punct</th>\n",
       "      <th>tokenized</th>\n",
       "    </tr>\n",
       "  </thead>\n",
       "  <tbody>\n",
       "    <tr>\n",
       "      <th>37187</th>\n",
       "      <td>37229</td>\n",
       "      <td>\"\\n\\nWHEN THIS USER GETS REPORTED??? ohh man.....</td>\n",
       "      <td>1</td>\n",
       "      <td>\\n\\nWHEN THIS USER GETS REPORTED ohh man you p...</td>\n",
       "      <td>[, when, this, user, gets, reported, ohh, man,...</td>\n",
       "    </tr>\n",
       "    <tr>\n",
       "      <th>47848</th>\n",
       "      <td>47903</td>\n",
       "      <td>listen 2 me \\n\\nU hippocrite (alas it is ur na...</td>\n",
       "      <td>0</td>\n",
       "      <td>listen  me \\n\\nU hippocrite alas it is ur name...</td>\n",
       "      <td>[listen, me, u, hippocrite, alas, it, is, ur, ...</td>\n",
       "    </tr>\n",
       "  </tbody>\n",
       "</table>\n",
       "</div>"
      ],
      "text/plain": [
       "       Unnamed: 0                                               text  toxic  \\\n",
       "37187       37229  \"\\n\\nWHEN THIS USER GETS REPORTED??? ohh man.....      1   \n",
       "47848       47903  listen 2 me \\n\\nU hippocrite (alas it is ur na...      0   \n",
       "\n",
       "                                                   punct  \\\n",
       "37187  \\n\\nWHEN THIS USER GETS REPORTED ohh man you p...   \n",
       "47848  listen  me \\n\\nU hippocrite alas it is ur name...   \n",
       "\n",
       "                                               tokenized  \n",
       "37187  [, when, this, user, gets, reported, ohh, man,...  \n",
       "47848  [listen, me, u, hippocrite, alas, it, is, ur, ...  "
      ]
     },
     "execution_count": 6,
     "metadata": {},
     "output_type": "execute_result"
    }
   ],
   "source": [
    "def tokenization(text):\n",
    "    text = re.split('\\W+', text)\n",
    "    return text\n",
    "\n",
    "data['tokenized'] = data['punct'].apply(lambda x: tokenization(x.lower()))\n",
    "data.sample(2)"
   ]
  },
  {
   "cell_type": "code",
   "execution_count": 7,
   "metadata": {},
   "outputs": [
    {
     "data": {
      "text/html": [
       "<div>\n",
       "<style scoped>\n",
       "    .dataframe tbody tr th:only-of-type {\n",
       "        vertical-align: middle;\n",
       "    }\n",
       "\n",
       "    .dataframe tbody tr th {\n",
       "        vertical-align: top;\n",
       "    }\n",
       "\n",
       "    .dataframe thead th {\n",
       "        text-align: right;\n",
       "    }\n",
       "</style>\n",
       "<table border=\"1\" class=\"dataframe\">\n",
       "  <thead>\n",
       "    <tr style=\"text-align: right;\">\n",
       "      <th></th>\n",
       "      <th>Unnamed: 0</th>\n",
       "      <th>text</th>\n",
       "      <th>toxic</th>\n",
       "      <th>punct</th>\n",
       "      <th>tokenized</th>\n",
       "      <th>nonstop</th>\n",
       "    </tr>\n",
       "  </thead>\n",
       "  <tbody>\n",
       "    <tr>\n",
       "      <th>46441</th>\n",
       "      <td>46496</td>\n",
       "      <td>The Internet Beatles Album</td>\n",
       "      <td>0</td>\n",
       "      <td>The Internet Beatles Album</td>\n",
       "      <td>[the, internet, beatles, album]</td>\n",
       "      <td>[internet, beatles, album]</td>\n",
       "    </tr>\n",
       "    <tr>\n",
       "      <th>83607</th>\n",
       "      <td>83686</td>\n",
       "      <td>Actually, it appears that you were dumbfounded...</td>\n",
       "      <td>0</td>\n",
       "      <td>Actually it appears that you were dumbfoundeds...</td>\n",
       "      <td>[actually, it, appears, that, you, were, dumbf...</td>\n",
       "      <td>[actually, appears, dumbfoundedso, decided, la...</td>\n",
       "    </tr>\n",
       "  </tbody>\n",
       "</table>\n",
       "</div>"
      ],
      "text/plain": [
       "       Unnamed: 0                                               text  toxic  \\\n",
       "46441       46496                         The Internet Beatles Album      0   \n",
       "83607       83686  Actually, it appears that you were dumbfounded...      0   \n",
       "\n",
       "                                                   punct  \\\n",
       "46441                         The Internet Beatles Album   \n",
       "83607  Actually it appears that you were dumbfoundeds...   \n",
       "\n",
       "                                               tokenized  \\\n",
       "46441                    [the, internet, beatles, album]   \n",
       "83607  [actually, it, appears, that, you, were, dumbf...   \n",
       "\n",
       "                                                 nonstop  \n",
       "46441                         [internet, beatles, album]  \n",
       "83607  [actually, appears, dumbfoundedso, decided, la...  "
      ]
     },
     "execution_count": 7,
     "metadata": {},
     "output_type": "execute_result"
    }
   ],
   "source": [
    "stopword = nltk.corpus.stopwords.words('english')\n",
    "\n",
    "def remove_stopwords(text):\n",
    "    text = [word for word in text if word not in stopword]\n",
    "    return text\n",
    "    \n",
    "data['nonstop'] = data['tokenized'].apply(lambda x: remove_stopwords(x))\n",
    "data.sample(2)"
   ]
  },
  {
   "cell_type": "code",
   "execution_count": 8,
   "metadata": {},
   "outputs": [
    {
     "data": {
      "text/html": [
       "<div>\n",
       "<style scoped>\n",
       "    .dataframe tbody tr th:only-of-type {\n",
       "        vertical-align: middle;\n",
       "    }\n",
       "\n",
       "    .dataframe tbody tr th {\n",
       "        vertical-align: top;\n",
       "    }\n",
       "\n",
       "    .dataframe thead th {\n",
       "        text-align: right;\n",
       "    }\n",
       "</style>\n",
       "<table border=\"1\" class=\"dataframe\">\n",
       "  <thead>\n",
       "    <tr style=\"text-align: right;\">\n",
       "      <th></th>\n",
       "      <th>Unnamed: 0</th>\n",
       "      <th>text</th>\n",
       "      <th>toxic</th>\n",
       "      <th>punct</th>\n",
       "      <th>tokenized</th>\n",
       "      <th>nonstop</th>\n",
       "      <th>lemmatized</th>\n",
       "    </tr>\n",
       "  </thead>\n",
       "  <tbody>\n",
       "    <tr>\n",
       "      <th>44810</th>\n",
       "      <td>44863</td>\n",
       "      <td>\"\\n\"\"Actually, Jarlaxle is right; that shit wa...</td>\n",
       "      <td>1</td>\n",
       "      <td>\\nActually Jarlaxle is right that shit was don...</td>\n",
       "      <td>[, actually, jarlaxle, is, right, that, shit, ...</td>\n",
       "      <td>[, actually, jarlaxle, right, shit, done, alex...</td>\n",
       "      <td>[, actually, jarlaxle, right, shit, done, alex...</td>\n",
       "    </tr>\n",
       "    <tr>\n",
       "      <th>76027</th>\n",
       "      <td>76103</td>\n",
       "      <td>\"\\n\\nRegarding edits made during February 28 2...</td>\n",
       "      <td>0</td>\n",
       "      <td>\\n\\nRegarding edits made during February   to ...</td>\n",
       "      <td>[, regarding, edits, made, during, february, t...</td>\n",
       "      <td>[, regarding, edits, made, february, internati...</td>\n",
       "      <td>[, regarding, edits, made, february, internati...</td>\n",
       "    </tr>\n",
       "  </tbody>\n",
       "</table>\n",
       "</div>"
      ],
      "text/plain": [
       "       Unnamed: 0                                               text  toxic  \\\n",
       "44810       44863  \"\\n\"\"Actually, Jarlaxle is right; that shit wa...      1   \n",
       "76027       76103  \"\\n\\nRegarding edits made during February 28 2...      0   \n",
       "\n",
       "                                                   punct  \\\n",
       "44810  \\nActually Jarlaxle is right that shit was don...   \n",
       "76027  \\n\\nRegarding edits made during February   to ...   \n",
       "\n",
       "                                               tokenized  \\\n",
       "44810  [, actually, jarlaxle, is, right, that, shit, ...   \n",
       "76027  [, regarding, edits, made, during, february, t...   \n",
       "\n",
       "                                                 nonstop  \\\n",
       "44810  [, actually, jarlaxle, right, shit, done, alex...   \n",
       "76027  [, regarding, edits, made, february, internati...   \n",
       "\n",
       "                                              lemmatized  \n",
       "44810  [, actually, jarlaxle, right, shit, done, alex...  \n",
       "76027  [, regarding, edits, made, february, internati...  "
      ]
     },
     "execution_count": 8,
     "metadata": {},
     "output_type": "execute_result"
    }
   ],
   "source": [
    "wn = nltk.WordNetLemmatizer()\n",
    "\n",
    "def lemmatizer(text):\n",
    "    text = [wn.lemmatize(word) for word in text]\n",
    "    return text\n",
    "\n",
    "data['lemmatized'] = data['nonstop'].apply(lambda x: lemmatizer(x))\n",
    "data.sample(2)"
   ]
  },
  {
   "cell_type": "markdown",
   "metadata": {},
   "source": [
    "## 2. Обучение моделей"
   ]
  },
  {
   "cell_type": "code",
   "execution_count": 9,
   "metadata": {},
   "outputs": [],
   "source": [
    "#Разделим нашу таблилцу на обучающую и тестовую выборки\n",
    "train, test = train_test_split(data, test_size=.30, random_state=12345)"
   ]
  },
  {
   "cell_type": "code",
   "execution_count": 10,
   "metadata": {},
   "outputs": [],
   "source": [
    "#Определим признаки и целевой признак у обучающей и тестовой выборк\n",
    "X = train['lemmatized'].astype('str')\n",
    "y = train['toxic']\n",
    "X_test = test['lemmatized'].astype('str')\n",
    "y_test = test['toxic']"
   ]
  },
  {
   "cell_type": "code",
   "execution_count": 11,
   "metadata": {},
   "outputs": [],
   "source": [
    "vectorizer = TfidfVectorizer(ngram_range=(1, 2), \n",
    "                             lowercase=False, \n",
    "                             max_features=None, \n",
    "                             max_df=.3, \n",
    "                             sublinear_tf=True, \n",
    "                             smooth_idf=False)"
   ]
  },
  {
   "cell_type": "code",
   "execution_count": 33,
   "metadata": {},
   "outputs": [],
   "source": [
    "state = RandomState(12345)\n",
    "\n",
    "pipe = Pipeline(steps=[('vectorizer', vectorizer),    \n",
    "                       ('model', \"Подберем оптимальную модель\")\n",
    "                       ])\n",
    "\n",
    "params = [\n",
    "    {\n",
    "        'model': [RidgeClassifier(random_state=state)],\n",
    "        'model__class_weight':['balanced', None],\n",
    "        'model__alpha': [1.2],\n",
    "    },\n",
    "    {\n",
    "        'model': [LogisticRegression()],\n",
    "        'model__class_weight':['balanced', None],\n",
    "        'model__max_iter':[1000],\n",
    "        'model__C':[1,10,100]\n",
    "    }, \n",
    "    {\n",
    "        'model': [Lasso(random_state=state)],\n",
    "        'model__alpha': np.logspace(-3, 1, 3)\n",
    "    }\n",
    "]"
   ]
  },
  {
   "cell_type": "code",
   "execution_count": 34,
   "metadata": {},
   "outputs": [],
   "source": [
    "#Kfold = 5 считается 67минут - если нужно проверить работоспособность то 2 фолда - 10 минут) \n",
    "\n",
    "score = 'f1'\n",
    "\n",
    "cv = KFold(n_splits=2, shuffle=False)\n",
    "model = GridSearchCV(pipe, param_grid=params, cv = cv, n_jobs = -1, verbose=0, scoring=score)"
   ]
  },
  {
   "cell_type": "code",
   "execution_count": 35,
   "metadata": {},
   "outputs": [
    {
     "data": {
      "text/html": [
       "<style>#sk-container-id-3 {color: black;background-color: white;}#sk-container-id-3 pre{padding: 0;}#sk-container-id-3 div.sk-toggleable {background-color: white;}#sk-container-id-3 label.sk-toggleable__label {cursor: pointer;display: block;width: 100%;margin-bottom: 0;padding: 0.3em;box-sizing: border-box;text-align: center;}#sk-container-id-3 label.sk-toggleable__label-arrow:before {content: \"▸\";float: left;margin-right: 0.25em;color: #696969;}#sk-container-id-3 label.sk-toggleable__label-arrow:hover:before {color: black;}#sk-container-id-3 div.sk-estimator:hover label.sk-toggleable__label-arrow:before {color: black;}#sk-container-id-3 div.sk-toggleable__content {max-height: 0;max-width: 0;overflow: hidden;text-align: left;background-color: #f0f8ff;}#sk-container-id-3 div.sk-toggleable__content pre {margin: 0.2em;color: black;border-radius: 0.25em;background-color: #f0f8ff;}#sk-container-id-3 input.sk-toggleable__control:checked~div.sk-toggleable__content {max-height: 200px;max-width: 100%;overflow: auto;}#sk-container-id-3 input.sk-toggleable__control:checked~label.sk-toggleable__label-arrow:before {content: \"▾\";}#sk-container-id-3 div.sk-estimator input.sk-toggleable__control:checked~label.sk-toggleable__label {background-color: #d4ebff;}#sk-container-id-3 div.sk-label input.sk-toggleable__control:checked~label.sk-toggleable__label {background-color: #d4ebff;}#sk-container-id-3 input.sk-hidden--visually {border: 0;clip: rect(1px 1px 1px 1px);clip: rect(1px, 1px, 1px, 1px);height: 1px;margin: -1px;overflow: hidden;padding: 0;position: absolute;width: 1px;}#sk-container-id-3 div.sk-estimator {font-family: monospace;background-color: #f0f8ff;border: 1px dotted black;border-radius: 0.25em;box-sizing: border-box;margin-bottom: 0.5em;}#sk-container-id-3 div.sk-estimator:hover {background-color: #d4ebff;}#sk-container-id-3 div.sk-parallel-item::after {content: \"\";width: 100%;border-bottom: 1px solid gray;flex-grow: 1;}#sk-container-id-3 div.sk-label:hover label.sk-toggleable__label {background-color: #d4ebff;}#sk-container-id-3 div.sk-serial::before {content: \"\";position: absolute;border-left: 1px solid gray;box-sizing: border-box;top: 0;bottom: 0;left: 50%;z-index: 0;}#sk-container-id-3 div.sk-serial {display: flex;flex-direction: column;align-items: center;background-color: white;padding-right: 0.2em;padding-left: 0.2em;position: relative;}#sk-container-id-3 div.sk-item {position: relative;z-index: 1;}#sk-container-id-3 div.sk-parallel {display: flex;align-items: stretch;justify-content: center;background-color: white;position: relative;}#sk-container-id-3 div.sk-item::before, #sk-container-id-3 div.sk-parallel-item::before {content: \"\";position: absolute;border-left: 1px solid gray;box-sizing: border-box;top: 0;bottom: 0;left: 50%;z-index: -1;}#sk-container-id-3 div.sk-parallel-item {display: flex;flex-direction: column;z-index: 1;position: relative;background-color: white;}#sk-container-id-3 div.sk-parallel-item:first-child::after {align-self: flex-end;width: 50%;}#sk-container-id-3 div.sk-parallel-item:last-child::after {align-self: flex-start;width: 50%;}#sk-container-id-3 div.sk-parallel-item:only-child::after {width: 0;}#sk-container-id-3 div.sk-dashed-wrapped {border: 1px dashed gray;margin: 0 0.4em 0.5em 0.4em;box-sizing: border-box;padding-bottom: 0.4em;background-color: white;}#sk-container-id-3 div.sk-label label {font-family: monospace;font-weight: bold;display: inline-block;line-height: 1.2em;}#sk-container-id-3 div.sk-label-container {text-align: center;}#sk-container-id-3 div.sk-container {/* jupyter's `normalize.less` sets `[hidden] { display: none; }` but bootstrap.min.css set `[hidden] { display: none !important; }` so we also need the `!important` here to be able to override the default hidden behavior on the sphinx rendered scikit-learn.org. See: https://github.com/scikit-learn/scikit-learn/issues/21755 */display: inline-block !important;position: relative;}#sk-container-id-3 div.sk-text-repr-fallback {display: none;}</style><div id=\"sk-container-id-3\" class=\"sk-top-container\"><div class=\"sk-text-repr-fallback\"><pre>GridSearchCV(cv=KFold(n_splits=2, random_state=None, shuffle=False),\n",
       "             estimator=Pipeline(steps=[(&#x27;vectorizer&#x27;,\n",
       "                                        TfidfVectorizer(lowercase=False,\n",
       "                                                        max_df=0.3,\n",
       "                                                        ngram_range=(1, 2),\n",
       "                                                        smooth_idf=False,\n",
       "                                                        sublinear_tf=True)),\n",
       "                                       (&#x27;model&#x27;,\n",
       "                                        &#x27;Подберем оптимальную модель&#x27;)]),\n",
       "             n_jobs=-1,\n",
       "             param_grid=[{&#x27;model&#x27;: [RidgeClassifier(random_state=RandomState(MT19937) at 0x28C7D5340)],\n",
       "                          &#x27;model__alpha&#x27;: [1.2],\n",
       "                          &#x27;model__class_weight&#x27;: [&#x27;balanced&#x27;, None]},\n",
       "                         {&#x27;model&#x27;: [LogisticRegression(C=100,\n",
       "                                                       class_weight=&#x27;balanced&#x27;,\n",
       "                                                       max_iter=1000)],\n",
       "                          &#x27;model__C&#x27;: [1, 10, 100],\n",
       "                          &#x27;model__class_weight&#x27;: [&#x27;balanced&#x27;, None],\n",
       "                          &#x27;model__max_iter&#x27;: [1000]},\n",
       "                         {&#x27;model&#x27;: [Lasso(random_state=RandomState(MT19937) at 0x28C7D5340)],\n",
       "                          &#x27;model__alpha&#x27;: array([1.e-03, 1.e-01, 1.e+01])}],\n",
       "             scoring=&#x27;f1&#x27;)</pre><b>In a Jupyter environment, please rerun this cell to show the HTML representation or trust the notebook. <br />On GitHub, the HTML representation is unable to render, please try loading this page with nbviewer.org.</b></div><div class=\"sk-container\" hidden><div class=\"sk-item sk-dashed-wrapped\"><div class=\"sk-label-container\"><div class=\"sk-label sk-toggleable\"><input class=\"sk-toggleable__control sk-hidden--visually\" id=\"sk-estimator-id-9\" type=\"checkbox\" ><label for=\"sk-estimator-id-9\" class=\"sk-toggleable__label sk-toggleable__label-arrow\">GridSearchCV</label><div class=\"sk-toggleable__content\"><pre>GridSearchCV(cv=KFold(n_splits=2, random_state=None, shuffle=False),\n",
       "             estimator=Pipeline(steps=[(&#x27;vectorizer&#x27;,\n",
       "                                        TfidfVectorizer(lowercase=False,\n",
       "                                                        max_df=0.3,\n",
       "                                                        ngram_range=(1, 2),\n",
       "                                                        smooth_idf=False,\n",
       "                                                        sublinear_tf=True)),\n",
       "                                       (&#x27;model&#x27;,\n",
       "                                        &#x27;Подберем оптимальную модель&#x27;)]),\n",
       "             n_jobs=-1,\n",
       "             param_grid=[{&#x27;model&#x27;: [RidgeClassifier(random_state=RandomState(MT19937) at 0x28C7D5340)],\n",
       "                          &#x27;model__alpha&#x27;: [1.2],\n",
       "                          &#x27;model__class_weight&#x27;: [&#x27;balanced&#x27;, None]},\n",
       "                         {&#x27;model&#x27;: [LogisticRegression(C=100,\n",
       "                                                       class_weight=&#x27;balanced&#x27;,\n",
       "                                                       max_iter=1000)],\n",
       "                          &#x27;model__C&#x27;: [1, 10, 100],\n",
       "                          &#x27;model__class_weight&#x27;: [&#x27;balanced&#x27;, None],\n",
       "                          &#x27;model__max_iter&#x27;: [1000]},\n",
       "                         {&#x27;model&#x27;: [Lasso(random_state=RandomState(MT19937) at 0x28C7D5340)],\n",
       "                          &#x27;model__alpha&#x27;: array([1.e-03, 1.e-01, 1.e+01])}],\n",
       "             scoring=&#x27;f1&#x27;)</pre></div></div></div><div class=\"sk-parallel\"><div class=\"sk-parallel-item\"><div class=\"sk-item\"><div class=\"sk-label-container\"><div class=\"sk-label sk-toggleable\"><input class=\"sk-toggleable__control sk-hidden--visually\" id=\"sk-estimator-id-10\" type=\"checkbox\" ><label for=\"sk-estimator-id-10\" class=\"sk-toggleable__label sk-toggleable__label-arrow\">estimator: Pipeline</label><div class=\"sk-toggleable__content\"><pre>Pipeline(steps=[(&#x27;vectorizer&#x27;,\n",
       "                 TfidfVectorizer(lowercase=False, max_df=0.3,\n",
       "                                 ngram_range=(1, 2), smooth_idf=False,\n",
       "                                 sublinear_tf=True)),\n",
       "                (&#x27;model&#x27;, &#x27;Подберем оптимальную модель&#x27;)])</pre></div></div></div><div class=\"sk-serial\"><div class=\"sk-item\"><div class=\"sk-serial\"><div class=\"sk-item\"><div class=\"sk-estimator sk-toggleable\"><input class=\"sk-toggleable__control sk-hidden--visually\" id=\"sk-estimator-id-11\" type=\"checkbox\" ><label for=\"sk-estimator-id-11\" class=\"sk-toggleable__label sk-toggleable__label-arrow\">TfidfVectorizer</label><div class=\"sk-toggleable__content\"><pre>TfidfVectorizer(lowercase=False, max_df=0.3, ngram_range=(1, 2),\n",
       "                smooth_idf=False, sublinear_tf=True)</pre></div></div></div><div class=\"sk-item\"><div class=\"sk-estimator sk-toggleable\"><input class=\"sk-toggleable__control sk-hidden--visually\" id=\"sk-estimator-id-12\" type=\"checkbox\" ><label for=\"sk-estimator-id-12\" class=\"sk-toggleable__label sk-toggleable__label-arrow\">Подберем оптимальную модель</label><div class=\"sk-toggleable__content\"><pre>Подберем оптимальную модель</pre></div></div></div></div></div></div></div></div></div></div></div></div>"
      ],
      "text/plain": [
       "GridSearchCV(cv=KFold(n_splits=2, random_state=None, shuffle=False),\n",
       "             estimator=Pipeline(steps=[('vectorizer',\n",
       "                                        TfidfVectorizer(lowercase=False,\n",
       "                                                        max_df=0.3,\n",
       "                                                        ngram_range=(1, 2),\n",
       "                                                        smooth_idf=False,\n",
       "                                                        sublinear_tf=True)),\n",
       "                                       ('model',\n",
       "                                        'Подберем оптимальную модель')]),\n",
       "             n_jobs=-1,\n",
       "             param_grid=[{'model': [RidgeClassifier(random_state=RandomState(MT19937) at 0x28C7D5340)],\n",
       "                          'model__alpha': [1.2],\n",
       "                          'model__class_weight': ['balanced', None]},\n",
       "                         {'model': [LogisticRegression(C=100,\n",
       "                                                       class_weight='balanced',\n",
       "                                                       max_iter=1000)],\n",
       "                          'model__C': [1, 10, 100],\n",
       "                          'model__class_weight': ['balanced', None],\n",
       "                          'model__max_iter': [1000]},\n",
       "                         {'model': [Lasso(random_state=RandomState(MT19937) at 0x28C7D5340)],\n",
       "                          'model__alpha': array([1.e-03, 1.e-01, 1.e+01])}],\n",
       "             scoring='f1')"
      ]
     },
     "execution_count": 35,
     "metadata": {},
     "output_type": "execute_result"
    }
   ],
   "source": [
    "model.fit(X, y)"
   ]
  },
  {
   "cell_type": "code",
   "execution_count": 36,
   "metadata": {
    "scrolled": true
   },
   "outputs": [
    {
     "name": "stdout",
     "output_type": "stream",
     "text": [
      "Лучшие параметры GridSearch: {'model': LogisticRegression(C=100, class_weight='balanced', max_iter=1000), 'model__C': 100, 'model__class_weight': 'balanced', 'model__max_iter': 1000}\n",
      "Лучший F1: 0.7797685847655189\n"
     ]
    }
   ],
   "source": [
    "print('Лучшие параметры GridSearch:', model.best_params_)\n",
    "print('Лучший F1:', model.best_score_) "
   ]
  },
  {
   "cell_type": "markdown",
   "metadata": {},
   "source": [
    "## 3. Выводы"
   ]
  },
  {
   "cell_type": "code",
   "execution_count": 37,
   "metadata": {},
   "outputs": [
    {
     "name": "stdout",
     "output_type": "stream",
     "text": [
      "F1 pred: 0.8\n"
     ]
    }
   ],
   "source": [
    "predictions = model.predict(X_test)\n",
    "print('F1 pred:', f1_score(y_test, predictions).round(3))"
   ]
  },
  {
   "cell_type": "code",
   "execution_count": 19,
   "metadata": {},
   "outputs": [
    {
     "data": {
      "text/plain": [
       "[Text(0.5, 1.0, 'Распределение комментариев в предсказаниях модели')]"
      ]
     },
     "execution_count": 19,
     "metadata": {},
     "output_type": "execute_result"
    },
    {
     "data": {
      "image/png": "[encoded data removed]",
      "text/plain": [
       "<Figure size 640x480 with 1 Axes>"
      ]
     },
     "metadata": {},
     "output_type": "display_data"
    }
   ],
   "source": [
    "#Для проверки на адекватность - построим также аналогичный график для предсказаний модели. \n",
    "pred = pd.DataFrame(predictions, columns=['toxic'])\n",
    "\n",
    "sns.countplot(x = 'toxic', data = pred).set(title='Распределение комментариев в предсказаниях модели')"
   ]
  },
  {
   "cell_type": "markdown",
   "metadata": {},
   "source": [
    "В ходе работы над проектом мы загрузили файл с комментариями пользователей, который содержал ***159 тыс*** записей. \n",
    "\n",
    "На стадии подготовки данных мы последовательно подготовили файл для обучения моделей.\n",
    "\n",
    "С помощью ***Gridsearch CV*** мы проанализировали 3 модели: ***RidgeClassifier, LogisticRegression и Lasso.*** \n",
    "\n",
    "Наилучший результат с учетом всех преобразований показала модель ***LogisticRegression*** с результатом метрики ***F1 0,78*** на обучающей выборке после кросс валидации, и ***0,8*** на тестовой. "
   ]
  }
 ],
 "metadata": {
  "ExecuteTimeLog": [
   {
    "duration": 2563,
    "start_time": "2023-01-09T11:05:46.636Z"
   },
   {
    "duration": 3292,
    "start_time": "2023-01-09T11:05:49.201Z"
   },
   {
    "duration": 249,
    "start_time": "2023-01-09T11:05:52.494Z"
   },
   {
    "duration": 157,
    "start_time": "2023-01-09T11:05:52.745Z"
   },
   {
    "duration": 5759,
    "start_time": "2023-01-09T11:05:52.904Z"
   },
   {
    "duration": 3857,
    "start_time": "2023-01-09T11:05:58.665Z"
   },
   {
    "duration": 12250,
    "start_time": "2023-01-09T11:06:02.524Z"
   },
   {
    "duration": 83088,
    "start_time": "2023-01-09T11:06:14.776Z"
   },
   {
    "duration": 18831,
    "start_time": "2023-01-09T11:07:37.867Z"
   },
   {
    "duration": 16,
    "start_time": "2023-01-09T11:17:53.630Z"
   }
  ],
  "kernelspec": {
   "display_name": "Python 3 (ipykernel)",
   "language": "python",
   "name": "python3"
  },
  "language_info": {
   "codemirror_mode": {
    "name": "ipython",
    "version": 3
   },
   "file_extension": ".py",
   "mimetype": "text/x-python",
   "name": "python",
   "nbconvert_exporter": "python",
   "pygments_lexer": "ipython3",
   "version": "3.10.7"
  },
  "toc": {
   "base_numbering": 1,
   "nav_menu": {},
   "number_sections": true,
   "sideBar": true,
   "skip_h1_title": true,
   "title_cell": "Содержание",
   "title_sidebar": "Contents",
   "toc_cell": true,
   "toc_position": {
    "height": "calc(100% - 180px)",
    "left": "10px",
    "top": "150px",
    "width": "302.391px"
   },
   "toc_section_display": true,
   "toc_window_display": false
  },
  "vscode": {
   "interpreter": {
    "hash": "32c89bd846e7d90e2938ca19c65b48f29b82b27179265c08c0b2d60021c46366"
   }
  }
 },
 "nbformat": 4,
 "nbformat_minor": 2
}
